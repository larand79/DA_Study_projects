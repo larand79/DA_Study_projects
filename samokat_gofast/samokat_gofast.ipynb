{
 "cells": [
  {
   "cell_type": "markdown",
   "id": "84e7f75d",
   "metadata": {},
   "source": [
    "# Описание проекта\n",
    "Я аналитик популярного сервиса аренды самокатов GoFast. Мне передали данные о некоторых пользователях из нескольких городов, а также об их поездках. Необходимо проанализировать данные и проверить некоторые гипотезы, которые могут помочь бизнесу вырасти.\n",
    "Чтобы совершать поездки по городу, пользователи сервиса GoFast пользуются мобильным приложением. Сервисом можно пользоваться:\n",
    "\n",
    "    без подписки\n",
    "      \n",
    "        абонентская плата отсутствует;\n",
    "        стоимость одной минуты поездки — 8 рублей;\n",
    "        стоимость старта (начала поездки) — 50 рублей;\n",
    "    с подпиской Ultra\n",
    "      \n",
    "        абонентская плата — 199 рублей в месяц;\n",
    "        стоимость одной минуты поездки — 6 рублей;\n",
    "        стоимость старта — бесплатно.\n",
    "\n",
    "\n",
    "Описание данных:\n",
    "\n",
    "В основных данных есть информация о пользователях, их поездках и подписках.\n",
    "\n",
    "Пользователи — users_go.csv\n",
    "\t\n",
    "user_id\tуникальный идентификатор пользователя\n",
    "\n",
    "name\tимя пользователя\n",
    "\n",
    "age\t    возраст\n",
    "\n",
    "city\tгород\n",
    "\n",
    "subscription_type\tтип подписки (free, ultra)\n",
    "\n",
    "\n",
    "Поездки — rides_go.csv\n",
    "\t\n",
    "user_id\t    уникальный идентификатор пользователя\n",
    "\n",
    "distance\tрасстояние, которое пользователь проехал в текущей сессии (в метрах)\n",
    "\n",
    "duration\tпродолжительность сессии (в минутах) — время с того момента, как пользователь нажал кнопку «Начать поездку» до момента, как он нажал кнопку «Завершить поездку»\n",
    "\n",
    "date\t    дата совершения поездки\n",
    "\n",
    "\n",
    "Подписки — subscriptions_go.csv\n",
    "\t\n",
    "subscription_type\tтип подписки\n",
    " \n",
    "minute_price\tстоимость одной минуты поездки по данной подписке\n",
    "\n",
    "start_ride_price\tстоимость начала поездки\n",
    "\n",
    "subscription_fee\tстоимость ежемесячного платежа\n"
   ]
  },
  {
   "cell_type": "markdown",
   "id": "c42cbe00",
   "metadata": {},
   "source": [
    "#### Шаг 1. Загрузка данных"
   ]
  },
  {
   "cell_type": "code",
   "execution_count": 1,
   "id": "72576667",
   "metadata": {},
   "outputs": [],
   "source": [
    "import pandas as pd # импортируем необходимые библиотеки\n",
    "import matplotlib.pyplot as plt \n",
    "import numpy as np\n",
    "from scipy import stats as st\n",
    "from math import sqrt\n",
    "from scipy.stats import binom, norm"
   ]
  },
  {
   "cell_type": "code",
   "execution_count": 2,
   "id": "eff9f206",
   "metadata": {},
   "outputs": [],
   "source": [
    "users = pd.read_csv('users_go.csv') # импортируем данные о пользователях"
   ]
  },
  {
   "cell_type": "code",
   "execution_count": 3,
   "id": "9240bf65",
   "metadata": {},
   "outputs": [
    {
     "data": {
      "text/html": [
       "<div>\n",
       "<style scoped>\n",
       "    .dataframe tbody tr th:only-of-type {\n",
       "        vertical-align: middle;\n",
       "    }\n",
       "\n",
       "    .dataframe tbody tr th {\n",
       "        vertical-align: top;\n",
       "    }\n",
       "\n",
       "    .dataframe thead th {\n",
       "        text-align: right;\n",
       "    }\n",
       "</style>\n",
       "<table border=\"1\" class=\"dataframe\">\n",
       "  <thead>\n",
       "    <tr style=\"text-align: right;\">\n",
       "      <th></th>\n",
       "      <th>user_id</th>\n",
       "      <th>name</th>\n",
       "      <th>age</th>\n",
       "      <th>city</th>\n",
       "      <th>subscription_type</th>\n",
       "    </tr>\n",
       "  </thead>\n",
       "  <tbody>\n",
       "    <tr>\n",
       "      <th>0</th>\n",
       "      <td>1</td>\n",
       "      <td>Кира</td>\n",
       "      <td>22</td>\n",
       "      <td>Тюмень</td>\n",
       "      <td>ultra</td>\n",
       "    </tr>\n",
       "    <tr>\n",
       "      <th>1</th>\n",
       "      <td>2</td>\n",
       "      <td>Станислав</td>\n",
       "      <td>31</td>\n",
       "      <td>Омск</td>\n",
       "      <td>ultra</td>\n",
       "    </tr>\n",
       "    <tr>\n",
       "      <th>2</th>\n",
       "      <td>3</td>\n",
       "      <td>Алексей</td>\n",
       "      <td>20</td>\n",
       "      <td>Москва</td>\n",
       "      <td>ultra</td>\n",
       "    </tr>\n",
       "    <tr>\n",
       "      <th>3</th>\n",
       "      <td>4</td>\n",
       "      <td>Константин</td>\n",
       "      <td>26</td>\n",
       "      <td>Ростов-на-Дону</td>\n",
       "      <td>ultra</td>\n",
       "    </tr>\n",
       "    <tr>\n",
       "      <th>4</th>\n",
       "      <td>5</td>\n",
       "      <td>Адель</td>\n",
       "      <td>28</td>\n",
       "      <td>Омск</td>\n",
       "      <td>ultra</td>\n",
       "    </tr>\n",
       "  </tbody>\n",
       "</table>\n",
       "</div>"
      ],
      "text/plain": [
       "   user_id        name  age            city subscription_type\n",
       "0        1        Кира   22          Тюмень             ultra\n",
       "1        2   Станислав   31            Омск             ultra\n",
       "2        3     Алексей   20          Москва             ultra\n",
       "3        4  Константин   26  Ростов-на-Дону             ultra\n",
       "4        5       Адель   28            Омск             ultra"
      ]
     },
     "execution_count": 3,
     "metadata": {},
     "output_type": "execute_result"
    }
   ],
   "source": [
    "users.head() # смотрим первые 5 строк датафрейма"
   ]
  },
  {
   "cell_type": "code",
   "execution_count": 4,
   "id": "872854d8",
   "metadata": {},
   "outputs": [
    {
     "name": "stdout",
     "output_type": "stream",
     "text": [
      "<class 'pandas.core.frame.DataFrame'>\n",
      "RangeIndex: 1565 entries, 0 to 1564\n",
      "Data columns (total 5 columns):\n",
      " #   Column             Non-Null Count  Dtype \n",
      "---  ------             --------------  ----- \n",
      " 0   user_id            1565 non-null   int64 \n",
      " 1   name               1565 non-null   object\n",
      " 2   age                1565 non-null   int64 \n",
      " 3   city               1565 non-null   object\n",
      " 4   subscription_type  1565 non-null   object\n",
      "dtypes: int64(2), object(3)\n",
      "memory usage: 61.3+ KB\n"
     ]
    }
   ],
   "source": [
    "users.info() # выводим общую информацию о данных о пользователях"
   ]
  },
  {
   "cell_type": "code",
   "execution_count": 5,
   "id": "521cefa1",
   "metadata": {},
   "outputs": [],
   "source": [
    "# импортируем данные о поездках пользователей, переводим информацию о дате в тип дата\n",
    "rides = pd.read_csv('rides_go.csv', parse_dates=['date'], dayfirst=True) "
   ]
  },
  {
   "cell_type": "code",
   "execution_count": 6,
   "id": "61f30a97",
   "metadata": {},
   "outputs": [
    {
     "data": {
      "text/html": [
       "<div>\n",
       "<style scoped>\n",
       "    .dataframe tbody tr th:only-of-type {\n",
       "        vertical-align: middle;\n",
       "    }\n",
       "\n",
       "    .dataframe tbody tr th {\n",
       "        vertical-align: top;\n",
       "    }\n",
       "\n",
       "    .dataframe thead th {\n",
       "        text-align: right;\n",
       "    }\n",
       "</style>\n",
       "<table border=\"1\" class=\"dataframe\">\n",
       "  <thead>\n",
       "    <tr style=\"text-align: right;\">\n",
       "      <th></th>\n",
       "      <th>user_id</th>\n",
       "      <th>distance</th>\n",
       "      <th>duration</th>\n",
       "      <th>date</th>\n",
       "    </tr>\n",
       "  </thead>\n",
       "  <tbody>\n",
       "    <tr>\n",
       "      <th>0</th>\n",
       "      <td>1</td>\n",
       "      <td>4409.919140</td>\n",
       "      <td>25.599769</td>\n",
       "      <td>2021-01-01</td>\n",
       "    </tr>\n",
       "    <tr>\n",
       "      <th>1</th>\n",
       "      <td>1</td>\n",
       "      <td>2617.592153</td>\n",
       "      <td>15.816871</td>\n",
       "      <td>2021-01-18</td>\n",
       "    </tr>\n",
       "    <tr>\n",
       "      <th>2</th>\n",
       "      <td>1</td>\n",
       "      <td>754.159807</td>\n",
       "      <td>6.232113</td>\n",
       "      <td>2021-04-20</td>\n",
       "    </tr>\n",
       "    <tr>\n",
       "      <th>3</th>\n",
       "      <td>1</td>\n",
       "      <td>2694.783254</td>\n",
       "      <td>18.511000</td>\n",
       "      <td>2021-08-11</td>\n",
       "    </tr>\n",
       "    <tr>\n",
       "      <th>4</th>\n",
       "      <td>1</td>\n",
       "      <td>4028.687306</td>\n",
       "      <td>26.265803</td>\n",
       "      <td>2021-08-28</td>\n",
       "    </tr>\n",
       "  </tbody>\n",
       "</table>\n",
       "</div>"
      ],
      "text/plain": [
       "   user_id     distance   duration       date\n",
       "0        1  4409.919140  25.599769 2021-01-01\n",
       "1        1  2617.592153  15.816871 2021-01-18\n",
       "2        1   754.159807   6.232113 2021-04-20\n",
       "3        1  2694.783254  18.511000 2021-08-11\n",
       "4        1  4028.687306  26.265803 2021-08-28"
      ]
     },
     "execution_count": 6,
     "metadata": {},
     "output_type": "execute_result"
    }
   ],
   "source": [
    "rides.head() # смотрим первые 5 строк датафрейма"
   ]
  },
  {
   "cell_type": "code",
   "execution_count": 7,
   "id": "b2da155f",
   "metadata": {},
   "outputs": [
    {
     "name": "stdout",
     "output_type": "stream",
     "text": [
      "<class 'pandas.core.frame.DataFrame'>\n",
      "RangeIndex: 18068 entries, 0 to 18067\n",
      "Data columns (total 4 columns):\n",
      " #   Column    Non-Null Count  Dtype         \n",
      "---  ------    --------------  -----         \n",
      " 0   user_id   18068 non-null  int64         \n",
      " 1   distance  18068 non-null  float64       \n",
      " 2   duration  18068 non-null  float64       \n",
      " 3   date      18068 non-null  datetime64[ns]\n",
      "dtypes: datetime64[ns](1), float64(2), int64(1)\n",
      "memory usage: 564.8 KB\n"
     ]
    }
   ],
   "source": [
    "rides.info() # выводим общую информацию о данных о поездках пользователей"
   ]
  },
  {
   "cell_type": "code",
   "execution_count": 8,
   "id": "ab2c4b50",
   "metadata": {},
   "outputs": [],
   "source": [
    "subscriptions = pd.read_csv('subscriptions_go.csv') # импортируем данные о подписках"
   ]
  },
  {
   "cell_type": "code",
   "execution_count": 9,
   "id": "93d28daa",
   "metadata": {},
   "outputs": [
    {
     "data": {
      "text/html": [
       "<div>\n",
       "<style scoped>\n",
       "    .dataframe tbody tr th:only-of-type {\n",
       "        vertical-align: middle;\n",
       "    }\n",
       "\n",
       "    .dataframe tbody tr th {\n",
       "        vertical-align: top;\n",
       "    }\n",
       "\n",
       "    .dataframe thead th {\n",
       "        text-align: right;\n",
       "    }\n",
       "</style>\n",
       "<table border=\"1\" class=\"dataframe\">\n",
       "  <thead>\n",
       "    <tr style=\"text-align: right;\">\n",
       "      <th></th>\n",
       "      <th>subscription_type</th>\n",
       "      <th>minute_price</th>\n",
       "      <th>start_ride_price</th>\n",
       "      <th>subscription_fee</th>\n",
       "    </tr>\n",
       "  </thead>\n",
       "  <tbody>\n",
       "    <tr>\n",
       "      <th>0</th>\n",
       "      <td>free</td>\n",
       "      <td>8</td>\n",
       "      <td>50</td>\n",
       "      <td>0</td>\n",
       "    </tr>\n",
       "    <tr>\n",
       "      <th>1</th>\n",
       "      <td>ultra</td>\n",
       "      <td>6</td>\n",
       "      <td>0</td>\n",
       "      <td>199</td>\n",
       "    </tr>\n",
       "  </tbody>\n",
       "</table>\n",
       "</div>"
      ],
      "text/plain": [
       "  subscription_type  minute_price  start_ride_price  subscription_fee\n",
       "0              free             8                50                 0\n",
       "1             ultra             6                 0               199"
      ]
     },
     "execution_count": 9,
     "metadata": {},
     "output_type": "execute_result"
    }
   ],
   "source": [
    "subscriptions.head() # смотрим первые 5 строк датафрейма"
   ]
  },
  {
   "cell_type": "code",
   "execution_count": 10,
   "id": "f7d63b66",
   "metadata": {},
   "outputs": [
    {
     "name": "stdout",
     "output_type": "stream",
     "text": [
      "<class 'pandas.core.frame.DataFrame'>\n",
      "RangeIndex: 2 entries, 0 to 1\n",
      "Data columns (total 4 columns):\n",
      " #   Column             Non-Null Count  Dtype \n",
      "---  ------             --------------  ----- \n",
      " 0   subscription_type  2 non-null      object\n",
      " 1   minute_price       2 non-null      int64 \n",
      " 2   start_ride_price   2 non-null      int64 \n",
      " 3   subscription_fee   2 non-null      int64 \n",
      "dtypes: int64(3), object(1)\n",
      "memory usage: 196.0+ bytes\n"
     ]
    }
   ],
   "source": [
    "subscriptions.info() # выводим общую информацию о данных о подписках"
   ]
  },
  {
   "cell_type": "markdown",
   "id": "6e5d9bbd",
   "metadata": {},
   "source": [
    "Итог шага №1: все данные были успешно загружены и сохранены в 3 датафрейма."
   ]
  },
  {
   "cell_type": "markdown",
   "id": "e95ebca7",
   "metadata": {},
   "source": [
    "#### Шаг 2. Предобработка данных"
   ]
  },
  {
   "cell_type": "code",
   "execution_count": 11,
   "id": "af6d202c",
   "metadata": {},
   "outputs": [
    {
     "data": {
      "text/plain": [
       "user_id              0\n",
       "name                 0\n",
       "age                  0\n",
       "city                 0\n",
       "subscription_type    0\n",
       "dtype: int64"
      ]
     },
     "execution_count": 11,
     "metadata": {},
     "output_type": "execute_result"
    }
   ],
   "source": [
    " # Ищем пропуски в датафрейме с информацией о пользователях. Как видно из таблицы ниже пропуски в данных отсутствуют.\n",
    "users.isna().sum()"
   ]
  },
  {
   "cell_type": "code",
   "execution_count": 12,
   "id": "9a747044",
   "metadata": {},
   "outputs": [
    {
     "data": {
      "text/plain": [
       "31"
      ]
     },
     "execution_count": 12,
     "metadata": {},
     "output_type": "execute_result"
    }
   ],
   "source": [
    "users.duplicated().sum() # Ищем дубликаты в датафрейме с информацией о пользователях. Дубликаты в данных присутствуют."
   ]
  },
  {
   "cell_type": "code",
   "execution_count": 13,
   "id": "0b0e686d",
   "metadata": {},
   "outputs": [
    {
     "data": {
      "text/plain": [
       "0"
      ]
     },
     "execution_count": 13,
     "metadata": {},
     "output_type": "execute_result"
    }
   ],
   "source": [
    "users = users.drop_duplicates() # удаляем дубликаты в датафрейме с информацией о пользователях.\n",
    "users.duplicated().sum() # убеждаемся, что дубликаты в датафрейме теперь отсутствуют."
   ]
  },
  {
   "cell_type": "code",
   "execution_count": 14,
   "id": "34970cc4",
   "metadata": {},
   "outputs": [
    {
     "data": {
      "text/plain": [
       "user_id     0\n",
       "distance    0\n",
       "duration    0\n",
       "date        0\n",
       "dtype: int64"
      ]
     },
     "execution_count": 14,
     "metadata": {},
     "output_type": "execute_result"
    }
   ],
   "source": [
    " # Ищем пропуски в датафрейме с информацией о поездках пользователей. Как видно из таблицы ниже пропуски в данных отсутствуют.\n",
    "rides.isna().sum()"
   ]
  },
  {
   "cell_type": "code",
   "execution_count": 15,
   "id": "9da25021",
   "metadata": {},
   "outputs": [
    {
     "data": {
      "text/plain": [
       "0"
      ]
     },
     "execution_count": 15,
     "metadata": {},
     "output_type": "execute_result"
    }
   ],
   "source": [
    "rides.duplicated().sum() # Ищем дубликаты в датафрейме с информацией о поездках пользователей. Дубликаты в данных отсутствуют."
   ]
  },
  {
   "cell_type": "code",
   "execution_count": 16,
   "id": "b9164e3f",
   "metadata": {},
   "outputs": [
    {
     "data": {
      "text/plain": [
       "subscription_type    0\n",
       "minute_price         0\n",
       "start_ride_price     0\n",
       "subscription_fee     0\n",
       "dtype: int64"
      ]
     },
     "execution_count": 16,
     "metadata": {},
     "output_type": "execute_result"
    }
   ],
   "source": [
    " # Ищем пропуски в датафрейме с информацией о подписках. Как видно из таблицы ниже пропуски в данных отсутствуют.\n",
    "subscriptions.isna().sum()"
   ]
  },
  {
   "cell_type": "code",
   "execution_count": 17,
   "id": "5501e870",
   "metadata": {},
   "outputs": [
    {
     "data": {
      "text/plain": [
       "0"
      ]
     },
     "execution_count": 17,
     "metadata": {},
     "output_type": "execute_result"
    }
   ],
   "source": [
    "subscriptions.duplicated().sum() # Ищем дубликаты в датафрейме с информацией о подписках. Дубликаты в данных отсутствуют."
   ]
  },
  {
   "cell_type": "code",
   "execution_count": 18,
   "id": "6dd5cd8c",
   "metadata": {},
   "outputs": [],
   "source": [
    "# переводим столбец date к типу даты и добавляем еще один столбец с информацией о месяце.\n",
    "rides['date'] = rides['date'].dt.date\n",
    "rides['month'] = rides['date'].astype('datetime64[M]')"
   ]
  },
  {
   "cell_type": "code",
   "execution_count": 19,
   "id": "ae8fd52c",
   "metadata": {},
   "outputs": [
    {
     "data": {
      "text/html": [
       "<div>\n",
       "<style scoped>\n",
       "    .dataframe tbody tr th:only-of-type {\n",
       "        vertical-align: middle;\n",
       "    }\n",
       "\n",
       "    .dataframe tbody tr th {\n",
       "        vertical-align: top;\n",
       "    }\n",
       "\n",
       "    .dataframe thead th {\n",
       "        text-align: right;\n",
       "    }\n",
       "</style>\n",
       "<table border=\"1\" class=\"dataframe\">\n",
       "  <thead>\n",
       "    <tr style=\"text-align: right;\">\n",
       "      <th></th>\n",
       "      <th>user_id</th>\n",
       "      <th>distance</th>\n",
       "      <th>duration</th>\n",
       "      <th>date</th>\n",
       "      <th>month</th>\n",
       "    </tr>\n",
       "  </thead>\n",
       "  <tbody>\n",
       "    <tr>\n",
       "      <th>0</th>\n",
       "      <td>1</td>\n",
       "      <td>4409.919140</td>\n",
       "      <td>25.599769</td>\n",
       "      <td>2021-01-01</td>\n",
       "      <td>2021-01-01</td>\n",
       "    </tr>\n",
       "    <tr>\n",
       "      <th>1</th>\n",
       "      <td>1</td>\n",
       "      <td>2617.592153</td>\n",
       "      <td>15.816871</td>\n",
       "      <td>2021-01-18</td>\n",
       "      <td>2021-01-01</td>\n",
       "    </tr>\n",
       "    <tr>\n",
       "      <th>2</th>\n",
       "      <td>1</td>\n",
       "      <td>754.159807</td>\n",
       "      <td>6.232113</td>\n",
       "      <td>2021-04-20</td>\n",
       "      <td>2021-04-01</td>\n",
       "    </tr>\n",
       "    <tr>\n",
       "      <th>3</th>\n",
       "      <td>1</td>\n",
       "      <td>2694.783254</td>\n",
       "      <td>18.511000</td>\n",
       "      <td>2021-08-11</td>\n",
       "      <td>2021-08-01</td>\n",
       "    </tr>\n",
       "    <tr>\n",
       "      <th>4</th>\n",
       "      <td>1</td>\n",
       "      <td>4028.687306</td>\n",
       "      <td>26.265803</td>\n",
       "      <td>2021-08-28</td>\n",
       "      <td>2021-08-01</td>\n",
       "    </tr>\n",
       "  </tbody>\n",
       "</table>\n",
       "</div>"
      ],
      "text/plain": [
       "   user_id     distance   duration        date      month\n",
       "0        1  4409.919140  25.599769  2021-01-01 2021-01-01\n",
       "1        1  2617.592153  15.816871  2021-01-18 2021-01-01\n",
       "2        1   754.159807   6.232113  2021-04-20 2021-04-01\n",
       "3        1  2694.783254  18.511000  2021-08-11 2021-08-01\n",
       "4        1  4028.687306  26.265803  2021-08-28 2021-08-01"
      ]
     },
     "execution_count": 19,
     "metadata": {},
     "output_type": "execute_result"
    }
   ],
   "source": [
    "rides.head() # смотрим первые 5 строк датафрейма. Новый столбец добавился корректно."
   ]
  },
  {
   "cell_type": "markdown",
   "id": "4fb3de52",
   "metadata": {},
   "source": [
    "Итог шага №2: Проведена предобработка данных. В датафреймах пропусков обнаружено не было. В датафрейме с информацией о пользователях был обнаружен и удален 31 дубликат. Столбец date в датафрейме с информацией о поездках пользователей был преобразован к типу дата, а также добавлен новый столбец с информацией о месяце для каждой поездки пользователя."
   ]
  },
  {
   "cell_type": "markdown",
   "id": "212593c7",
   "metadata": {},
   "source": [
    "#### Шаг 3. Исследовательский анализ данных"
   ]
  },
  {
   "cell_type": "code",
   "execution_count": 20,
   "id": "e3a4274c",
   "metadata": {},
   "outputs": [],
   "source": [
    "# собираем информацию о городах, в которых пользователи сервиса совершают свои поездки\n",
    "cities = users.groupby('city')['user_id'].count() "
   ]
  },
  {
   "cell_type": "code",
   "execution_count": 21,
   "id": "75a3a961",
   "metadata": {},
   "outputs": [
    {
     "data": {
      "text/plain": [
       "city\n",
       "Пятигорск         219\n",
       "Екатеринбург      204\n",
       "Ростов-на-Дону    198\n",
       "Краснодар         193\n",
       "Сочи              189\n",
       "Омск              183\n",
       "Тюмень            180\n",
       "Москва            168\n",
       "Name: user_id, dtype: int64"
      ]
     },
     "execution_count": 21,
     "metadata": {},
     "output_type": "execute_result"
    }
   ],
   "source": [
    "cities.sort_values(ascending=False) # количество пользователей по городам"
   ]
  },
  {
   "cell_type": "code",
   "execution_count": 22,
   "id": "ed9657b4",
   "metadata": {},
   "outputs": [
    {
     "data": {
      "image/png": "[encoded data removed]",
      "text/plain": [
       "<Figure size 640x480 with 1 Axes>"
      ]
     },
     "metadata": {},
     "output_type": "display_data"
    }
   ],
   "source": [
    "cities.sort_values().plot(kind='bar', grid=True) # визуализируем информацию о городах\n",
    "plt.title('Распределение пользователей сервиса по городам')\n",
    "plt.xlabel('Город')\n",
    "plt.ylabel('Количество пользователей', rotation=90); "
   ]
  },
  {
   "cell_type": "code",
   "execution_count": 23,
   "id": "7e7bb15b",
   "metadata": {},
   "outputs": [
    {
     "data": {
      "image/png": "[encoded data removed]",
      "text/plain": [
       "<Figure size 640x480 with 1 Axes>"
      ]
     },
     "metadata": {},
     "output_type": "display_data"
    }
   ],
   "source": [
    "# Визуализируем данные о наличии подписки у пользователей сервиса\n",
    "users_with_subscription = users.query('subscription_type == \"ultra\"')['user_id'].count()\n",
    "users_without_subscription = users.query('subscription_type == \"free\"')['user_id'].count()\n",
    "labels = f'С подпиской: {users_with_subscription}', f'Без подписки: {users_without_subscription}'\n",
    "sizes = [users_with_subscription, users_without_subscription]\n",
    "fig1, ax1 = plt.subplots()\n",
    "ax1.set_title(\"Cоотношение пользователей с подпиской и без подписки\")\n",
    "ax1.pie(sizes,  labels=labels, autopct='%1.0f%%', shadow=True, startangle=90)\n",
    "ax1.axis('equal');"
   ]
  },
  {
   "cell_type": "code",
   "execution_count": 24,
   "id": "6f317c05",
   "metadata": {},
   "outputs": [],
   "source": [
    "users_age = users.groupby('age')['user_id'].count() # собираем данные о возрасте пользователей сервиса\n"
   ]
  },
  {
   "cell_type": "code",
   "execution_count": 25,
   "id": "4757551e",
   "metadata": {},
   "outputs": [
    {
     "data": {
      "text/plain": [
       "age\n",
       "25    145\n",
       "24    132\n",
       "26    131\n",
       "23    129\n",
       "27    119\n",
       "22    119\n",
       "28    112\n",
       "21     93\n",
       "20     71\n",
       "30     68\n",
       "29     68\n",
       "31     48\n",
       "19     47\n",
       "18     46\n",
       "32     41\n",
       "33     39\n",
       "17     26\n",
       "34     19\n",
       "16     19\n",
       "35     15\n",
       "15     13\n",
       "14      9\n",
       "13      8\n",
       "36      6\n",
       "12      4\n",
       "38      3\n",
       "37      2\n",
       "39      1\n",
       "43      1\n",
       "Name: user_id, dtype: int64"
      ]
     },
     "execution_count": 25,
     "metadata": {},
     "output_type": "execute_result"
    }
   ],
   "source": [
    "users_age.sort_values(ascending=False) # распределение пользователей по возрасту"
   ]
  },
  {
   "cell_type": "code",
   "execution_count": 26,
   "id": "5b01cab6",
   "metadata": {},
   "outputs": [
    {
     "data": {
      "image/png": "[encoded data removed]",
      "text/plain": [
       "<Figure size 640x480 with 1 Axes>"
      ]
     },
     "metadata": {},
     "output_type": "display_data"
    }
   ],
   "source": [
    "# Визуализируем данные о возрасте пользователей сервиса\n",
    "users_age.plot(kind='bar', grid=True)\n",
    "plt.title('Распределение пользователей сервиса по возрасту')\n",
    "plt.xlabel('Возраст')\n",
    "plt.ylabel('Количество пользователей', rotation=90); "
   ]
  },
  {
   "cell_type": "code",
   "execution_count": 27,
   "id": "110b86c4",
   "metadata": {},
   "outputs": [
    {
     "data": {
      "text/plain": [
       "count    18068.000000\n",
       "mean      3070.659976\n",
       "std       1116.831209\n",
       "min          0.855683\n",
       "25%       2543.226360\n",
       "50%       3133.609994\n",
       "75%       3776.222735\n",
       "max       7211.007745\n",
       "Name: distance, dtype: float64"
      ]
     },
     "execution_count": 27,
     "metadata": {},
     "output_type": "execute_result"
    }
   ],
   "source": [
    "rides['distance'].describe() # информация о дальности поездок пользователей сервиса"
   ]
  },
  {
   "cell_type": "code",
   "execution_count": 75,
   "id": "db5797b9",
   "metadata": {},
   "outputs": [
    {
     "data": {
      "image/png": "[encoded data removed]",
      "text/plain": [
       "<Figure size 640x480 with 1 Axes>"
      ]
     },
     "metadata": {},
     "output_type": "display_data"
    }
   ],
   "source": [
    "# визуализируем информацию о дальности поездок пользователей сервиса\n",
    "rides['distance'].hist(bins=50)\n",
    "plt.title('Распределение дальности всех поездок пользователей сервиса')\n",
    "plt.xlabel('Расстояние, м')\n",
    "plt.ylabel('Количество поездок', rotation=90);"
   ]
  },
  {
   "cell_type": "code",
   "execution_count": 29,
   "id": "202f89fa",
   "metadata": {},
   "outputs": [
    {
     "data": {
      "text/plain": [
       "count    18068.000000\n",
       "mean        17.805011\n",
       "std          6.091051\n",
       "min          0.500000\n",
       "25%         13.597563\n",
       "50%         17.678395\n",
       "75%         21.724800\n",
       "max         40.823963\n",
       "Name: duration, dtype: float64"
      ]
     },
     "execution_count": 29,
     "metadata": {},
     "output_type": "execute_result"
    }
   ],
   "source": [
    "rides['duration'].describe() # информация о длительности поездок пользователей сервиса"
   ]
  },
  {
   "cell_type": "code",
   "execution_count": 76,
   "id": "1b9380ab",
   "metadata": {},
   "outputs": [
    {
     "data": {
      "image/png": "[encoded data removed]",
      "text/plain": [
       "<Figure size 640x480 with 1 Axes>"
      ]
     },
     "metadata": {},
     "output_type": "display_data"
    }
   ],
   "source": [
    "# визуализируем информацию о длительности поездок пользователей сервиса\n",
    "rides['duration'].hist(bins=50)\n",
    "plt.title('Распределение времени всех поездок пользователей сервиса')\n",
    "plt.xlabel('Длителность, мин')\n",
    "plt.ylabel('Количество поездок', rotation=90); "
   ]
  },
  {
   "cell_type": "markdown",
   "id": "bee762ef",
   "metadata": {},
   "source": [
    "Итог шага №3: Был проведен исследовательский анализ данных. Было установлено, что данные содержат информацию о пользователях из 8 городов России. Среди 8 городов наибольшее количество пользователей сервиса совершают поездки в Пятигорске (219 человек), а наименьшее в Москве (168 человек). 54% (835 человек) всех пользователей не имеют подписки на сервис, а 46% (699 человек) ее оформили. Большинство пользователей имеют возраст в интервале 22-28 лет. Средняя дальность поездки пользователя составляет 3133 м, причем четверь всех поездок совершается на расстояние не превышающее 2543 м, а 3/4 всех поездок имеют дальность не более 3776 м. Средняя длительность поездки пользователя составляет 17.7 минут, причем длительность четверти всех поездок не превышает 13.6 минут, а 3/4 всех поездок имеют длительность не более 21.7 минут.  "
   ]
  },
  {
   "cell_type": "markdown",
   "id": "4ef51331",
   "metadata": {},
   "source": [
    "#### Шаг 4. Объединение данных"
   ]
  },
  {
   "cell_type": "code",
   "execution_count": 31,
   "id": "f318bb62",
   "metadata": {},
   "outputs": [
    {
     "data": {
      "text/plain": [
       "(1534, 5)"
      ]
     },
     "execution_count": 31,
     "metadata": {},
     "output_type": "execute_result"
    }
   ],
   "source": [
    "users.shape # посмотрим на размер датафрейма"
   ]
  },
  {
   "cell_type": "code",
   "execution_count": 32,
   "id": "a99a97ea",
   "metadata": {},
   "outputs": [
    {
     "data": {
      "text/plain": [
       "(18068, 5)"
      ]
     },
     "execution_count": 32,
     "metadata": {},
     "output_type": "execute_result"
    }
   ],
   "source": [
    "rides.shape # посмотрим на размер датафрейма"
   ]
  },
  {
   "cell_type": "markdown",
   "id": "a85ec947",
   "metadata": {},
   "source": [
    "После объединения ожидаем датафрейм с 18068 строками и 9 столбцами."
   ]
  },
  {
   "cell_type": "code",
   "execution_count": 33,
   "id": "6bf288b5",
   "metadata": {},
   "outputs": [],
   "source": [
    " # объединяем датафреймы с информацией о пользователях с информацией о их поездках.\n",
    "data_2 = users.merge(rides, on='user_id', how='inner')"
   ]
  },
  {
   "cell_type": "code",
   "execution_count": 34,
   "id": "52d53431",
   "metadata": {},
   "outputs": [
    {
     "data": {
      "text/html": [
       "<div>\n",
       "<style scoped>\n",
       "    .dataframe tbody tr th:only-of-type {\n",
       "        vertical-align: middle;\n",
       "    }\n",
       "\n",
       "    .dataframe tbody tr th {\n",
       "        vertical-align: top;\n",
       "    }\n",
       "\n",
       "    .dataframe thead th {\n",
       "        text-align: right;\n",
       "    }\n",
       "</style>\n",
       "<table border=\"1\" class=\"dataframe\">\n",
       "  <thead>\n",
       "    <tr style=\"text-align: right;\">\n",
       "      <th></th>\n",
       "      <th>user_id</th>\n",
       "      <th>name</th>\n",
       "      <th>age</th>\n",
       "      <th>city</th>\n",
       "      <th>subscription_type</th>\n",
       "      <th>distance</th>\n",
       "      <th>duration</th>\n",
       "      <th>date</th>\n",
       "      <th>month</th>\n",
       "    </tr>\n",
       "  </thead>\n",
       "  <tbody>\n",
       "    <tr>\n",
       "      <th>0</th>\n",
       "      <td>1</td>\n",
       "      <td>Кира</td>\n",
       "      <td>22</td>\n",
       "      <td>Тюмень</td>\n",
       "      <td>ultra</td>\n",
       "      <td>4409.919140</td>\n",
       "      <td>25.599769</td>\n",
       "      <td>2021-01-01</td>\n",
       "      <td>2021-01-01</td>\n",
       "    </tr>\n",
       "    <tr>\n",
       "      <th>1</th>\n",
       "      <td>1</td>\n",
       "      <td>Кира</td>\n",
       "      <td>22</td>\n",
       "      <td>Тюмень</td>\n",
       "      <td>ultra</td>\n",
       "      <td>2617.592153</td>\n",
       "      <td>15.816871</td>\n",
       "      <td>2021-01-18</td>\n",
       "      <td>2021-01-01</td>\n",
       "    </tr>\n",
       "    <tr>\n",
       "      <th>2</th>\n",
       "      <td>1</td>\n",
       "      <td>Кира</td>\n",
       "      <td>22</td>\n",
       "      <td>Тюмень</td>\n",
       "      <td>ultra</td>\n",
       "      <td>754.159807</td>\n",
       "      <td>6.232113</td>\n",
       "      <td>2021-04-20</td>\n",
       "      <td>2021-04-01</td>\n",
       "    </tr>\n",
       "    <tr>\n",
       "      <th>3</th>\n",
       "      <td>1</td>\n",
       "      <td>Кира</td>\n",
       "      <td>22</td>\n",
       "      <td>Тюмень</td>\n",
       "      <td>ultra</td>\n",
       "      <td>2694.783254</td>\n",
       "      <td>18.511000</td>\n",
       "      <td>2021-08-11</td>\n",
       "      <td>2021-08-01</td>\n",
       "    </tr>\n",
       "    <tr>\n",
       "      <th>4</th>\n",
       "      <td>1</td>\n",
       "      <td>Кира</td>\n",
       "      <td>22</td>\n",
       "      <td>Тюмень</td>\n",
       "      <td>ultra</td>\n",
       "      <td>4028.687306</td>\n",
       "      <td>26.265803</td>\n",
       "      <td>2021-08-28</td>\n",
       "      <td>2021-08-01</td>\n",
       "    </tr>\n",
       "  </tbody>\n",
       "</table>\n",
       "</div>"
      ],
      "text/plain": [
       "   user_id  name  age    city subscription_type     distance   duration  \\\n",
       "0        1  Кира   22  Тюмень             ultra  4409.919140  25.599769   \n",
       "1        1  Кира   22  Тюмень             ultra  2617.592153  15.816871   \n",
       "2        1  Кира   22  Тюмень             ultra   754.159807   6.232113   \n",
       "3        1  Кира   22  Тюмень             ultra  2694.783254  18.511000   \n",
       "4        1  Кира   22  Тюмень             ultra  4028.687306  26.265803   \n",
       "\n",
       "         date      month  \n",
       "0  2021-01-01 2021-01-01  \n",
       "1  2021-01-18 2021-01-01  \n",
       "2  2021-04-20 2021-04-01  \n",
       "3  2021-08-11 2021-08-01  \n",
       "4  2021-08-28 2021-08-01  "
      ]
     },
     "execution_count": 34,
     "metadata": {},
     "output_type": "execute_result"
    }
   ],
   "source": [
    "data_2.head() # выведем 5 строк нового датафрейма"
   ]
  },
  {
   "cell_type": "code",
   "execution_count": 35,
   "id": "f8002434",
   "metadata": {},
   "outputs": [
    {
     "data": {
      "text/plain": [
       "(18068, 9)"
      ]
     },
     "execution_count": 35,
     "metadata": {},
     "output_type": "execute_result"
    }
   ],
   "source": [
    "# посмотрим на размер датафрейма. Размер соответствует ожиданию - информация о поездках дополнилась информацией о пользователях.\n",
    "data_2.shape"
   ]
  },
  {
   "cell_type": "code",
   "execution_count": 36,
   "id": "54820605",
   "metadata": {},
   "outputs": [
    {
     "data": {
      "text/plain": [
       "(2, 4)"
      ]
     },
     "execution_count": 36,
     "metadata": {},
     "output_type": "execute_result"
    }
   ],
   "source": [
    "subscriptions.shape"
   ]
  },
  {
   "cell_type": "markdown",
   "id": "ca105e35",
   "metadata": {},
   "source": [
    "Объеденим subscriptions с датафреймом data_2. Ожидаем датафрейм с 18068 строками и 12 столбцами."
   ]
  },
  {
   "cell_type": "code",
   "execution_count": 37,
   "id": "04a9014c",
   "metadata": {},
   "outputs": [],
   "source": [
    "# объединяем датафреймы с информацией о пользователях и их поездках с информацией о подписках\n",
    "data = data_2.merge(subscriptions, on='subscription_type', how='inner')"
   ]
  },
  {
   "cell_type": "code",
   "execution_count": 38,
   "id": "0ecff057",
   "metadata": {
    "scrolled": true
   },
   "outputs": [
    {
     "data": {
      "text/html": [
       "<div>\n",
       "<style scoped>\n",
       "    .dataframe tbody tr th:only-of-type {\n",
       "        vertical-align: middle;\n",
       "    }\n",
       "\n",
       "    .dataframe tbody tr th {\n",
       "        vertical-align: top;\n",
       "    }\n",
       "\n",
       "    .dataframe thead th {\n",
       "        text-align: right;\n",
       "    }\n",
       "</style>\n",
       "<table border=\"1\" class=\"dataframe\">\n",
       "  <thead>\n",
       "    <tr style=\"text-align: right;\">\n",
       "      <th></th>\n",
       "      <th>user_id</th>\n",
       "      <th>name</th>\n",
       "      <th>age</th>\n",
       "      <th>city</th>\n",
       "      <th>subscription_type</th>\n",
       "      <th>distance</th>\n",
       "      <th>duration</th>\n",
       "      <th>date</th>\n",
       "      <th>month</th>\n",
       "      <th>minute_price</th>\n",
       "      <th>start_ride_price</th>\n",
       "      <th>subscription_fee</th>\n",
       "    </tr>\n",
       "  </thead>\n",
       "  <tbody>\n",
       "    <tr>\n",
       "      <th>0</th>\n",
       "      <td>1</td>\n",
       "      <td>Кира</td>\n",
       "      <td>22</td>\n",
       "      <td>Тюмень</td>\n",
       "      <td>ultra</td>\n",
       "      <td>4409.919140</td>\n",
       "      <td>25.599769</td>\n",
       "      <td>2021-01-01</td>\n",
       "      <td>2021-01-01</td>\n",
       "      <td>6</td>\n",
       "      <td>0</td>\n",
       "      <td>199</td>\n",
       "    </tr>\n",
       "    <tr>\n",
       "      <th>1</th>\n",
       "      <td>1</td>\n",
       "      <td>Кира</td>\n",
       "      <td>22</td>\n",
       "      <td>Тюмень</td>\n",
       "      <td>ultra</td>\n",
       "      <td>2617.592153</td>\n",
       "      <td>15.816871</td>\n",
       "      <td>2021-01-18</td>\n",
       "      <td>2021-01-01</td>\n",
       "      <td>6</td>\n",
       "      <td>0</td>\n",
       "      <td>199</td>\n",
       "    </tr>\n",
       "    <tr>\n",
       "      <th>2</th>\n",
       "      <td>1</td>\n",
       "      <td>Кира</td>\n",
       "      <td>22</td>\n",
       "      <td>Тюмень</td>\n",
       "      <td>ultra</td>\n",
       "      <td>754.159807</td>\n",
       "      <td>6.232113</td>\n",
       "      <td>2021-04-20</td>\n",
       "      <td>2021-04-01</td>\n",
       "      <td>6</td>\n",
       "      <td>0</td>\n",
       "      <td>199</td>\n",
       "    </tr>\n",
       "    <tr>\n",
       "      <th>3</th>\n",
       "      <td>1</td>\n",
       "      <td>Кира</td>\n",
       "      <td>22</td>\n",
       "      <td>Тюмень</td>\n",
       "      <td>ultra</td>\n",
       "      <td>2694.783254</td>\n",
       "      <td>18.511000</td>\n",
       "      <td>2021-08-11</td>\n",
       "      <td>2021-08-01</td>\n",
       "      <td>6</td>\n",
       "      <td>0</td>\n",
       "      <td>199</td>\n",
       "    </tr>\n",
       "    <tr>\n",
       "      <th>4</th>\n",
       "      <td>1</td>\n",
       "      <td>Кира</td>\n",
       "      <td>22</td>\n",
       "      <td>Тюмень</td>\n",
       "      <td>ultra</td>\n",
       "      <td>4028.687306</td>\n",
       "      <td>26.265803</td>\n",
       "      <td>2021-08-28</td>\n",
       "      <td>2021-08-01</td>\n",
       "      <td>6</td>\n",
       "      <td>0</td>\n",
       "      <td>199</td>\n",
       "    </tr>\n",
       "  </tbody>\n",
       "</table>\n",
       "</div>"
      ],
      "text/plain": [
       "   user_id  name  age    city subscription_type     distance   duration  \\\n",
       "0        1  Кира   22  Тюмень             ultra  4409.919140  25.599769   \n",
       "1        1  Кира   22  Тюмень             ultra  2617.592153  15.816871   \n",
       "2        1  Кира   22  Тюмень             ultra   754.159807   6.232113   \n",
       "3        1  Кира   22  Тюмень             ultra  2694.783254  18.511000   \n",
       "4        1  Кира   22  Тюмень             ultra  4028.687306  26.265803   \n",
       "\n",
       "         date      month  minute_price  start_ride_price  subscription_fee  \n",
       "0  2021-01-01 2021-01-01             6                 0               199  \n",
       "1  2021-01-18 2021-01-01             6                 0               199  \n",
       "2  2021-04-20 2021-04-01             6                 0               199  \n",
       "3  2021-08-11 2021-08-01             6                 0               199  \n",
       "4  2021-08-28 2021-08-01             6                 0               199  "
      ]
     },
     "execution_count": 38,
     "metadata": {},
     "output_type": "execute_result"
    }
   ],
   "source": [
    "data.head() # выведем 5 строк нового датафрейма"
   ]
  },
  {
   "cell_type": "code",
   "execution_count": 39,
   "id": "e15cfcd7",
   "metadata": {},
   "outputs": [
    {
     "data": {
      "text/plain": [
       "(18068, 12)"
      ]
     },
     "execution_count": 39,
     "metadata": {},
     "output_type": "execute_result"
    }
   ],
   "source": [
    "# посмотрим на размер датафрейма.\n",
    "# Размер соответствует ожиданию - информация о поездках и пользователях дополнилась информацией о подписках.\n",
    "data.shape"
   ]
  },
  {
   "cell_type": "code",
   "execution_count": 40,
   "id": "4042820c",
   "metadata": {},
   "outputs": [],
   "source": [
    "# создаем датафрейм с информацией о пользователях с подпиской\n",
    "data_with_subscription = data.query('subscription_type == \"ultra\"')"
   ]
  },
  {
   "cell_type": "code",
   "execution_count": 41,
   "id": "6bfc887a",
   "metadata": {},
   "outputs": [
    {
     "data": {
      "text/html": [
       "<div>\n",
       "<style scoped>\n",
       "    .dataframe tbody tr th:only-of-type {\n",
       "        vertical-align: middle;\n",
       "    }\n",
       "\n",
       "    .dataframe tbody tr th {\n",
       "        vertical-align: top;\n",
       "    }\n",
       "\n",
       "    .dataframe thead th {\n",
       "        text-align: right;\n",
       "    }\n",
       "</style>\n",
       "<table border=\"1\" class=\"dataframe\">\n",
       "  <thead>\n",
       "    <tr style=\"text-align: right;\">\n",
       "      <th></th>\n",
       "      <th>user_id</th>\n",
       "      <th>name</th>\n",
       "      <th>age</th>\n",
       "      <th>city</th>\n",
       "      <th>subscription_type</th>\n",
       "      <th>distance</th>\n",
       "      <th>duration</th>\n",
       "      <th>date</th>\n",
       "      <th>month</th>\n",
       "      <th>minute_price</th>\n",
       "      <th>start_ride_price</th>\n",
       "      <th>subscription_fee</th>\n",
       "    </tr>\n",
       "  </thead>\n",
       "  <tbody>\n",
       "    <tr>\n",
       "      <th>0</th>\n",
       "      <td>1</td>\n",
       "      <td>Кира</td>\n",
       "      <td>22</td>\n",
       "      <td>Тюмень</td>\n",
       "      <td>ultra</td>\n",
       "      <td>4409.919140</td>\n",
       "      <td>25.599769</td>\n",
       "      <td>2021-01-01</td>\n",
       "      <td>2021-01-01</td>\n",
       "      <td>6</td>\n",
       "      <td>0</td>\n",
       "      <td>199</td>\n",
       "    </tr>\n",
       "    <tr>\n",
       "      <th>1</th>\n",
       "      <td>1</td>\n",
       "      <td>Кира</td>\n",
       "      <td>22</td>\n",
       "      <td>Тюмень</td>\n",
       "      <td>ultra</td>\n",
       "      <td>2617.592153</td>\n",
       "      <td>15.816871</td>\n",
       "      <td>2021-01-18</td>\n",
       "      <td>2021-01-01</td>\n",
       "      <td>6</td>\n",
       "      <td>0</td>\n",
       "      <td>199</td>\n",
       "    </tr>\n",
       "    <tr>\n",
       "      <th>2</th>\n",
       "      <td>1</td>\n",
       "      <td>Кира</td>\n",
       "      <td>22</td>\n",
       "      <td>Тюмень</td>\n",
       "      <td>ultra</td>\n",
       "      <td>754.159807</td>\n",
       "      <td>6.232113</td>\n",
       "      <td>2021-04-20</td>\n",
       "      <td>2021-04-01</td>\n",
       "      <td>6</td>\n",
       "      <td>0</td>\n",
       "      <td>199</td>\n",
       "    </tr>\n",
       "    <tr>\n",
       "      <th>3</th>\n",
       "      <td>1</td>\n",
       "      <td>Кира</td>\n",
       "      <td>22</td>\n",
       "      <td>Тюмень</td>\n",
       "      <td>ultra</td>\n",
       "      <td>2694.783254</td>\n",
       "      <td>18.511000</td>\n",
       "      <td>2021-08-11</td>\n",
       "      <td>2021-08-01</td>\n",
       "      <td>6</td>\n",
       "      <td>0</td>\n",
       "      <td>199</td>\n",
       "    </tr>\n",
       "    <tr>\n",
       "      <th>4</th>\n",
       "      <td>1</td>\n",
       "      <td>Кира</td>\n",
       "      <td>22</td>\n",
       "      <td>Тюмень</td>\n",
       "      <td>ultra</td>\n",
       "      <td>4028.687306</td>\n",
       "      <td>26.265803</td>\n",
       "      <td>2021-08-28</td>\n",
       "      <td>2021-08-01</td>\n",
       "      <td>6</td>\n",
       "      <td>0</td>\n",
       "      <td>199</td>\n",
       "    </tr>\n",
       "  </tbody>\n",
       "</table>\n",
       "</div>"
      ],
      "text/plain": [
       "   user_id  name  age    city subscription_type     distance   duration  \\\n",
       "0        1  Кира   22  Тюмень             ultra  4409.919140  25.599769   \n",
       "1        1  Кира   22  Тюмень             ultra  2617.592153  15.816871   \n",
       "2        1  Кира   22  Тюмень             ultra   754.159807   6.232113   \n",
       "3        1  Кира   22  Тюмень             ultra  2694.783254  18.511000   \n",
       "4        1  Кира   22  Тюмень             ultra  4028.687306  26.265803   \n",
       "\n",
       "         date      month  minute_price  start_ride_price  subscription_fee  \n",
       "0  2021-01-01 2021-01-01             6                 0               199  \n",
       "1  2021-01-18 2021-01-01             6                 0               199  \n",
       "2  2021-04-20 2021-04-01             6                 0               199  \n",
       "3  2021-08-11 2021-08-01             6                 0               199  \n",
       "4  2021-08-28 2021-08-01             6                 0               199  "
      ]
     },
     "execution_count": 41,
     "metadata": {},
     "output_type": "execute_result"
    }
   ],
   "source": [
    "data_with_subscription.head() # выведем 5 строк нового датафрейма"
   ]
  },
  {
   "cell_type": "code",
   "execution_count": 42,
   "id": "1cf3c6e4",
   "metadata": {},
   "outputs": [
    {
     "data": {
      "text/plain": [
       "(6500, 12)"
      ]
     },
     "execution_count": 42,
     "metadata": {},
     "output_type": "execute_result"
    }
   ],
   "source": [
    "data_with_subscription.shape # посмотрим на размер датафрейма."
   ]
  },
  {
   "cell_type": "code",
   "execution_count": 43,
   "id": "86f55e3d",
   "metadata": {},
   "outputs": [],
   "source": [
    "# создаем датафрейм с информацией о пользователях без подписки\n",
    "data_without_subscription = data.query('subscription_type == \"free\"')"
   ]
  },
  {
   "cell_type": "code",
   "execution_count": 44,
   "id": "88f94299",
   "metadata": {},
   "outputs": [
    {
     "data": {
      "text/html": [
       "<div>\n",
       "<style scoped>\n",
       "    .dataframe tbody tr th:only-of-type {\n",
       "        vertical-align: middle;\n",
       "    }\n",
       "\n",
       "    .dataframe tbody tr th {\n",
       "        vertical-align: top;\n",
       "    }\n",
       "\n",
       "    .dataframe thead th {\n",
       "        text-align: right;\n",
       "    }\n",
       "</style>\n",
       "<table border=\"1\" class=\"dataframe\">\n",
       "  <thead>\n",
       "    <tr style=\"text-align: right;\">\n",
       "      <th></th>\n",
       "      <th>user_id</th>\n",
       "      <th>name</th>\n",
       "      <th>age</th>\n",
       "      <th>city</th>\n",
       "      <th>subscription_type</th>\n",
       "      <th>distance</th>\n",
       "      <th>duration</th>\n",
       "      <th>date</th>\n",
       "      <th>month</th>\n",
       "      <th>minute_price</th>\n",
       "      <th>start_ride_price</th>\n",
       "      <th>subscription_fee</th>\n",
       "    </tr>\n",
       "  </thead>\n",
       "  <tbody>\n",
       "    <tr>\n",
       "      <th>6500</th>\n",
       "      <td>700</td>\n",
       "      <td>Айдар</td>\n",
       "      <td>22</td>\n",
       "      <td>Омск</td>\n",
       "      <td>free</td>\n",
       "      <td>2515.690719</td>\n",
       "      <td>14.944286</td>\n",
       "      <td>2021-01-02</td>\n",
       "      <td>2021-01-01</td>\n",
       "      <td>8</td>\n",
       "      <td>50</td>\n",
       "      <td>0</td>\n",
       "    </tr>\n",
       "    <tr>\n",
       "      <th>6501</th>\n",
       "      <td>700</td>\n",
       "      <td>Айдар</td>\n",
       "      <td>22</td>\n",
       "      <td>Омск</td>\n",
       "      <td>free</td>\n",
       "      <td>846.932642</td>\n",
       "      <td>16.234663</td>\n",
       "      <td>2021-02-01</td>\n",
       "      <td>2021-02-01</td>\n",
       "      <td>8</td>\n",
       "      <td>50</td>\n",
       "      <td>0</td>\n",
       "    </tr>\n",
       "    <tr>\n",
       "      <th>6502</th>\n",
       "      <td>700</td>\n",
       "      <td>Айдар</td>\n",
       "      <td>22</td>\n",
       "      <td>Омск</td>\n",
       "      <td>free</td>\n",
       "      <td>4004.434142</td>\n",
       "      <td>20.016628</td>\n",
       "      <td>2021-02-04</td>\n",
       "      <td>2021-02-01</td>\n",
       "      <td>8</td>\n",
       "      <td>50</td>\n",
       "      <td>0</td>\n",
       "    </tr>\n",
       "    <tr>\n",
       "      <th>6503</th>\n",
       "      <td>700</td>\n",
       "      <td>Айдар</td>\n",
       "      <td>22</td>\n",
       "      <td>Омск</td>\n",
       "      <td>free</td>\n",
       "      <td>1205.911290</td>\n",
       "      <td>9.782872</td>\n",
       "      <td>2021-02-10</td>\n",
       "      <td>2021-02-01</td>\n",
       "      <td>8</td>\n",
       "      <td>50</td>\n",
       "      <td>0</td>\n",
       "    </tr>\n",
       "    <tr>\n",
       "      <th>6504</th>\n",
       "      <td>700</td>\n",
       "      <td>Айдар</td>\n",
       "      <td>22</td>\n",
       "      <td>Омск</td>\n",
       "      <td>free</td>\n",
       "      <td>3047.379435</td>\n",
       "      <td>17.427673</td>\n",
       "      <td>2021-02-14</td>\n",
       "      <td>2021-02-01</td>\n",
       "      <td>8</td>\n",
       "      <td>50</td>\n",
       "      <td>0</td>\n",
       "    </tr>\n",
       "  </tbody>\n",
       "</table>\n",
       "</div>"
      ],
      "text/plain": [
       "      user_id   name  age  city subscription_type     distance   duration  \\\n",
       "6500      700  Айдар   22  Омск              free  2515.690719  14.944286   \n",
       "6501      700  Айдар   22  Омск              free   846.932642  16.234663   \n",
       "6502      700  Айдар   22  Омск              free  4004.434142  20.016628   \n",
       "6503      700  Айдар   22  Омск              free  1205.911290   9.782872   \n",
       "6504      700  Айдар   22  Омск              free  3047.379435  17.427673   \n",
       "\n",
       "            date      month  minute_price  start_ride_price  subscription_fee  \n",
       "6500  2021-01-02 2021-01-01             8                50                 0  \n",
       "6501  2021-02-01 2021-02-01             8                50                 0  \n",
       "6502  2021-02-04 2021-02-01             8                50                 0  \n",
       "6503  2021-02-10 2021-02-01             8                50                 0  \n",
       "6504  2021-02-14 2021-02-01             8                50                 0  "
      ]
     },
     "execution_count": 44,
     "metadata": {},
     "output_type": "execute_result"
    }
   ],
   "source": [
    "data_without_subscription.head()"
   ]
  },
  {
   "cell_type": "code",
   "execution_count": 45,
   "id": "73616ab0",
   "metadata": {},
   "outputs": [
    {
     "data": {
      "text/plain": [
       "(11568, 12)"
      ]
     },
     "execution_count": 45,
     "metadata": {},
     "output_type": "execute_result"
    }
   ],
   "source": [
    "data_without_subscription.shape # посмотрим на размер датафрейма."
   ]
  },
  {
   "cell_type": "code",
   "execution_count": 46,
   "id": "3798103b",
   "metadata": {},
   "outputs": [
    {
     "data": {
      "text/plain": [
       "count    6500.000000\n",
       "mean     3115.445388\n",
       "std       836.895330\n",
       "min       244.210438\n",
       "25%      2785.444017\n",
       "50%      3148.637229\n",
       "75%      3560.574425\n",
       "max      5699.769662\n",
       "Name: distance, dtype: float64"
      ]
     },
     "execution_count": 46,
     "metadata": {},
     "output_type": "execute_result"
    }
   ],
   "source": [
    "data_with_subscription['distance'].describe() # информация о дальности поездкок пользователей с подпиской"
   ]
  },
  {
   "cell_type": "code",
   "execution_count": 77,
   "id": "74d7d5c5",
   "metadata": {},
   "outputs": [
    {
     "data": {
      "image/png": "[encoded data removed]",
      "text/plain": [
       "<Figure size 640x480 with 1 Axes>"
      ]
     },
     "metadata": {},
     "output_type": "display_data"
    }
   ],
   "source": [
    "data_with_subscription['distance'].hist(bins=50)\n",
    "plt.title('Распределение дальности поездок пользователей сервиса с подпиской')\n",
    "plt.xlabel('Расстояние, м')\n",
    "plt.ylabel('Количество поездок', rotation=90); "
   ]
  },
  {
   "cell_type": "code",
   "execution_count": 48,
   "id": "ea0c49bf",
   "metadata": {},
   "outputs": [
    {
     "data": {
      "text/plain": [
       "count    11568.000000\n",
       "mean      3045.495282\n",
       "std       1246.173806\n",
       "min          0.855683\n",
       "25%       2366.562689\n",
       "50%       3114.648465\n",
       "75%       3905.697894\n",
       "max       7211.007745\n",
       "Name: distance, dtype: float64"
      ]
     },
     "execution_count": 48,
     "metadata": {},
     "output_type": "execute_result"
    }
   ],
   "source": [
    "data_without_subscription['distance'].describe() # информация о дальности поездкок пользователей без подписки  "
   ]
  },
  {
   "cell_type": "code",
   "execution_count": 78,
   "id": "342f02e9",
   "metadata": {},
   "outputs": [
    {
     "data": {
      "image/png": "[encoded data removed]",
      "text/plain": [
       "<Figure size 640x480 with 1 Axes>"
      ]
     },
     "metadata": {},
     "output_type": "display_data"
    }
   ],
   "source": [
    "data_without_subscription['distance'].hist(bins=50)\n",
    "plt.title('Распределение дальности поездок пользователей сервиса без подписки')\n",
    "plt.xlabel('Расстояние, м')\n",
    "plt.ylabel('Количество поездок', rotation=90);"
   ]
  },
  {
   "cell_type": "code",
   "execution_count": 50,
   "id": "81ad342d",
   "metadata": {},
   "outputs": [
    {
     "data": {
      "text/plain": [
       "count    6500.000000\n",
       "mean       18.541985\n",
       "std         5.572048\n",
       "min         3.760353\n",
       "25%        14.524654\n",
       "50%        18.178153\n",
       "75%        21.884129\n",
       "max        40.823963\n",
       "Name: duration, dtype: float64"
      ]
     },
     "execution_count": 50,
     "metadata": {},
     "output_type": "execute_result"
    }
   ],
   "source": [
    "data_with_subscription['duration'].describe() # информация о длительности поездкок пользователей с подпиской"
   ]
  },
  {
   "cell_type": "code",
   "execution_count": 79,
   "id": "1a42a47a",
   "metadata": {},
   "outputs": [
    {
     "data": {
      "image/png": "[encoded data removed]",
      "text/plain": [
       "<Figure size 640x480 with 1 Axes>"
      ]
     },
     "metadata": {},
     "output_type": "display_data"
    }
   ],
   "source": [
    "data_with_subscription['duration'].hist(bins=50)\n",
    "plt.title('Распределение длительности поездок пользователей сервиса с подпиской')\n",
    "plt.xlabel('Длителность, мин')\n",
    "plt.ylabel('Количество поездок', rotation=90);"
   ]
  },
  {
   "cell_type": "code",
   "execution_count": 52,
   "id": "f8b7de2f",
   "metadata": {},
   "outputs": [
    {
     "data": {
      "text/plain": [
       "count    11568.000000\n",
       "mean        17.390909\n",
       "std          6.326803\n",
       "min          0.500000\n",
       "25%         12.958437\n",
       "50%         17.326890\n",
       "75%         21.594071\n",
       "max         34.948498\n",
       "Name: duration, dtype: float64"
      ]
     },
     "execution_count": 52,
     "metadata": {},
     "output_type": "execute_result"
    }
   ],
   "source": [
    "data_without_subscription['duration'].describe()  # информация о длительности поездкок пользователей без подписки"
   ]
  },
  {
   "cell_type": "code",
   "execution_count": 80,
   "id": "1b4f0210",
   "metadata": {},
   "outputs": [
    {
     "data": {
      "image/png": "[encoded data removed]",
      "text/plain": [
       "<Figure size 640x480 with 1 Axes>"
      ]
     },
     "metadata": {},
     "output_type": "display_data"
    }
   ],
   "source": [
    "data_without_subscription['duration'].hist(bins=50)\n",
    "plt.title('Распределение времени поездок пользователей сервиса без подписки')\n",
    "plt.xlabel('Длителность, мин')\n",
    "plt.ylabel('Количество поездок', rotation=90);"
   ]
  },
  {
   "cell_type": "markdown",
   "id": "1ead8aeb",
   "metadata": {},
   "source": [
    "Итог шага №4: Был создан новый датафрейм, объединивший все 3 исходных датафрейма. Затем из него были сохранены 2 датафрейма: с данными пользователей с подпиской и без нее. Была визуализирована информация о расстоянии и времени поездок для пользователей обеих категорий. Средняя дальность поездки пользователей с подпиской составила 3149 м, а средняя длительность 18.2 минуты, а для пользователей без подписки - 3115 м и 17.3 минуты, соответственно. У пользователей без подписки значительно больше коротких поездок - до 1 км и в целом максимальная дальность поездки выше, чем у платных пользователей."
   ]
  },
  {
   "cell_type": "markdown",
   "id": "402d620f",
   "metadata": {},
   "source": [
    "#### Шаг 5. Подсчёт выручки"
   ]
  },
  {
   "cell_type": "code",
   "execution_count": 54,
   "id": "53049e0a",
   "metadata": {},
   "outputs": [],
   "source": [
    "data['duration'] = np.ceil(data['duration']) # округляем время доездок до целых минут (округление в большую сторону)"
   ]
  },
  {
   "cell_type": "code",
   "execution_count": 55,
   "id": "ffa4348a",
   "metadata": {},
   "outputs": [],
   "source": [
    "# Создаем датафрейм с агрегированными данными о поездках на основе датафрейма с объединёнными данными из шага 4:\n",
    "# находим суммарное расстояние, количество поездок и суммарное время для каждого пользователя за каждый месяц.\n",
    "data_agg = data.pivot_table(index=['user_id', 'month'], values=['distance', 'duration'], aggfunc=['sum', 'count'])\n",
    "data_agg.columns = ['_'.join(col).strip() for col in data_agg.columns.values]\n",
    "data_agg = data_agg.reset_index()\n",
    "data_agg = data_agg.rename(columns={'count_distance':'total_rides'})\n",
    "data_agg = data_agg[['user_id', 'month', 'sum_distance', 'sum_duration', 'total_rides']]"
   ]
  },
  {
   "cell_type": "code",
   "execution_count": 56,
   "id": "1d86bf30",
   "metadata": {},
   "outputs": [
    {
     "data": {
      "text/html": [
       "<div>\n",
       "<style scoped>\n",
       "    .dataframe tbody tr th:only-of-type {\n",
       "        vertical-align: middle;\n",
       "    }\n",
       "\n",
       "    .dataframe tbody tr th {\n",
       "        vertical-align: top;\n",
       "    }\n",
       "\n",
       "    .dataframe thead th {\n",
       "        text-align: right;\n",
       "    }\n",
       "</style>\n",
       "<table border=\"1\" class=\"dataframe\">\n",
       "  <thead>\n",
       "    <tr style=\"text-align: right;\">\n",
       "      <th></th>\n",
       "      <th>user_id</th>\n",
       "      <th>month</th>\n",
       "      <th>sum_distance</th>\n",
       "      <th>sum_duration</th>\n",
       "      <th>total_rides</th>\n",
       "    </tr>\n",
       "  </thead>\n",
       "  <tbody>\n",
       "    <tr>\n",
       "      <th>0</th>\n",
       "      <td>1</td>\n",
       "      <td>2021-01-01</td>\n",
       "      <td>7027.511294</td>\n",
       "      <td>42.0</td>\n",
       "      <td>2</td>\n",
       "    </tr>\n",
       "    <tr>\n",
       "      <th>1</th>\n",
       "      <td>1</td>\n",
       "      <td>2021-04-01</td>\n",
       "      <td>754.159807</td>\n",
       "      <td>7.0</td>\n",
       "      <td>1</td>\n",
       "    </tr>\n",
       "    <tr>\n",
       "      <th>2</th>\n",
       "      <td>1</td>\n",
       "      <td>2021-08-01</td>\n",
       "      <td>6723.470560</td>\n",
       "      <td>46.0</td>\n",
       "      <td>2</td>\n",
       "    </tr>\n",
       "    <tr>\n",
       "      <th>3</th>\n",
       "      <td>1</td>\n",
       "      <td>2021-10-01</td>\n",
       "      <td>5809.911100</td>\n",
       "      <td>32.0</td>\n",
       "      <td>2</td>\n",
       "    </tr>\n",
       "    <tr>\n",
       "      <th>4</th>\n",
       "      <td>1</td>\n",
       "      <td>2021-11-01</td>\n",
       "      <td>7003.499363</td>\n",
       "      <td>56.0</td>\n",
       "      <td>3</td>\n",
       "    </tr>\n",
       "  </tbody>\n",
       "</table>\n",
       "</div>"
      ],
      "text/plain": [
       "   user_id      month  sum_distance  sum_duration  total_rides\n",
       "0        1 2021-01-01   7027.511294          42.0            2\n",
       "1        1 2021-04-01    754.159807           7.0            1\n",
       "2        1 2021-08-01   6723.470560          46.0            2\n",
       "3        1 2021-10-01   5809.911100          32.0            2\n",
       "4        1 2021-11-01   7003.499363          56.0            3"
      ]
     },
     "execution_count": 56,
     "metadata": {},
     "output_type": "execute_result"
    }
   ],
   "source": [
    "data_agg.head()"
   ]
  },
  {
   "cell_type": "code",
   "execution_count": 57,
   "id": "a7a0e20d",
   "metadata": {},
   "outputs": [],
   "source": [
    "# Из объединенного датафрейма создадим еще один с информацией о том, у какого пользователя какая подписка \n",
    "data_price = data[['user_id', 'subscription_type','minute_price', 'start_ride_price', 'subscription_fee']]\n",
    "data_price = data_price.drop_duplicates()"
   ]
  },
  {
   "cell_type": "code",
   "execution_count": 58,
   "id": "bd619c08",
   "metadata": {},
   "outputs": [
    {
     "data": {
      "text/html": [
       "<div>\n",
       "<style scoped>\n",
       "    .dataframe tbody tr th:only-of-type {\n",
       "        vertical-align: middle;\n",
       "    }\n",
       "\n",
       "    .dataframe tbody tr th {\n",
       "        vertical-align: top;\n",
       "    }\n",
       "\n",
       "    .dataframe thead th {\n",
       "        text-align: right;\n",
       "    }\n",
       "</style>\n",
       "<table border=\"1\" class=\"dataframe\">\n",
       "  <thead>\n",
       "    <tr style=\"text-align: right;\">\n",
       "      <th></th>\n",
       "      <th>user_id</th>\n",
       "      <th>subscription_type</th>\n",
       "      <th>minute_price</th>\n",
       "      <th>start_ride_price</th>\n",
       "      <th>subscription_fee</th>\n",
       "    </tr>\n",
       "  </thead>\n",
       "  <tbody>\n",
       "    <tr>\n",
       "      <th>0</th>\n",
       "      <td>1</td>\n",
       "      <td>ultra</td>\n",
       "      <td>6</td>\n",
       "      <td>0</td>\n",
       "      <td>199</td>\n",
       "    </tr>\n",
       "    <tr>\n",
       "      <th>12</th>\n",
       "      <td>2</td>\n",
       "      <td>ultra</td>\n",
       "      <td>6</td>\n",
       "      <td>0</td>\n",
       "      <td>199</td>\n",
       "    </tr>\n",
       "    <tr>\n",
       "      <th>23</th>\n",
       "      <td>3</td>\n",
       "      <td>ultra</td>\n",
       "      <td>6</td>\n",
       "      <td>0</td>\n",
       "      <td>199</td>\n",
       "    </tr>\n",
       "    <tr>\n",
       "      <th>35</th>\n",
       "      <td>4</td>\n",
       "      <td>ultra</td>\n",
       "      <td>6</td>\n",
       "      <td>0</td>\n",
       "      <td>199</td>\n",
       "    </tr>\n",
       "    <tr>\n",
       "      <th>49</th>\n",
       "      <td>5</td>\n",
       "      <td>ultra</td>\n",
       "      <td>6</td>\n",
       "      <td>0</td>\n",
       "      <td>199</td>\n",
       "    </tr>\n",
       "  </tbody>\n",
       "</table>\n",
       "</div>"
      ],
      "text/plain": [
       "    user_id subscription_type  minute_price  start_ride_price  \\\n",
       "0         1             ultra             6                 0   \n",
       "12        2             ultra             6                 0   \n",
       "23        3             ultra             6                 0   \n",
       "35        4             ultra             6                 0   \n",
       "49        5             ultra             6                 0   \n",
       "\n",
       "    subscription_fee  \n",
       "0                199  \n",
       "12               199  \n",
       "23               199  \n",
       "35               199  \n",
       "49               199  "
      ]
     },
     "execution_count": 58,
     "metadata": {},
     "output_type": "execute_result"
    }
   ],
   "source": [
    "data_price.head()"
   ]
  },
  {
   "cell_type": "code",
   "execution_count": 59,
   "id": "8731861f",
   "metadata": {},
   "outputs": [],
   "source": [
    "# Объединим этот новый датафрейм с агрегированным по столбцу user_id\n",
    "data_agg_price = data_agg.merge(data_price, on='user_id', how='inner')"
   ]
  },
  {
   "cell_type": "code",
   "execution_count": 60,
   "id": "bb58dd7a",
   "metadata": {},
   "outputs": [
    {
     "data": {
      "text/html": [
       "<div>\n",
       "<style scoped>\n",
       "    .dataframe tbody tr th:only-of-type {\n",
       "        vertical-align: middle;\n",
       "    }\n",
       "\n",
       "    .dataframe tbody tr th {\n",
       "        vertical-align: top;\n",
       "    }\n",
       "\n",
       "    .dataframe thead th {\n",
       "        text-align: right;\n",
       "    }\n",
       "</style>\n",
       "<table border=\"1\" class=\"dataframe\">\n",
       "  <thead>\n",
       "    <tr style=\"text-align: right;\">\n",
       "      <th></th>\n",
       "      <th>user_id</th>\n",
       "      <th>month</th>\n",
       "      <th>sum_distance</th>\n",
       "      <th>sum_duration</th>\n",
       "      <th>total_rides</th>\n",
       "      <th>subscription_type</th>\n",
       "      <th>minute_price</th>\n",
       "      <th>start_ride_price</th>\n",
       "      <th>subscription_fee</th>\n",
       "    </tr>\n",
       "  </thead>\n",
       "  <tbody>\n",
       "    <tr>\n",
       "      <th>0</th>\n",
       "      <td>1</td>\n",
       "      <td>2021-01-01</td>\n",
       "      <td>7027.511294</td>\n",
       "      <td>42.0</td>\n",
       "      <td>2</td>\n",
       "      <td>ultra</td>\n",
       "      <td>6</td>\n",
       "      <td>0</td>\n",
       "      <td>199</td>\n",
       "    </tr>\n",
       "    <tr>\n",
       "      <th>1</th>\n",
       "      <td>1</td>\n",
       "      <td>2021-04-01</td>\n",
       "      <td>754.159807</td>\n",
       "      <td>7.0</td>\n",
       "      <td>1</td>\n",
       "      <td>ultra</td>\n",
       "      <td>6</td>\n",
       "      <td>0</td>\n",
       "      <td>199</td>\n",
       "    </tr>\n",
       "    <tr>\n",
       "      <th>2</th>\n",
       "      <td>1</td>\n",
       "      <td>2021-08-01</td>\n",
       "      <td>6723.470560</td>\n",
       "      <td>46.0</td>\n",
       "      <td>2</td>\n",
       "      <td>ultra</td>\n",
       "      <td>6</td>\n",
       "      <td>0</td>\n",
       "      <td>199</td>\n",
       "    </tr>\n",
       "    <tr>\n",
       "      <th>3</th>\n",
       "      <td>1</td>\n",
       "      <td>2021-10-01</td>\n",
       "      <td>5809.911100</td>\n",
       "      <td>32.0</td>\n",
       "      <td>2</td>\n",
       "      <td>ultra</td>\n",
       "      <td>6</td>\n",
       "      <td>0</td>\n",
       "      <td>199</td>\n",
       "    </tr>\n",
       "    <tr>\n",
       "      <th>4</th>\n",
       "      <td>1</td>\n",
       "      <td>2021-11-01</td>\n",
       "      <td>7003.499363</td>\n",
       "      <td>56.0</td>\n",
       "      <td>3</td>\n",
       "      <td>ultra</td>\n",
       "      <td>6</td>\n",
       "      <td>0</td>\n",
       "      <td>199</td>\n",
       "    </tr>\n",
       "  </tbody>\n",
       "</table>\n",
       "</div>"
      ],
      "text/plain": [
       "   user_id      month  sum_distance  sum_duration  total_rides  \\\n",
       "0        1 2021-01-01   7027.511294          42.0            2   \n",
       "1        1 2021-04-01    754.159807           7.0            1   \n",
       "2        1 2021-08-01   6723.470560          46.0            2   \n",
       "3        1 2021-10-01   5809.911100          32.0            2   \n",
       "4        1 2021-11-01   7003.499363          56.0            3   \n",
       "\n",
       "  subscription_type  minute_price  start_ride_price  subscription_fee  \n",
       "0             ultra             6                 0               199  \n",
       "1             ultra             6                 0               199  \n",
       "2             ultra             6                 0               199  \n",
       "3             ultra             6                 0               199  \n",
       "4             ultra             6                 0               199  "
      ]
     },
     "execution_count": 60,
     "metadata": {},
     "output_type": "execute_result"
    }
   ],
   "source": [
    "data_agg_price.head()"
   ]
  },
  {
   "cell_type": "code",
   "execution_count": 61,
   "id": "7eccdd34",
   "metadata": {},
   "outputs": [
    {
     "data": {
      "text/plain": [
       "user_id              0\n",
       "month                0\n",
       "sum_distance         0\n",
       "sum_duration         0\n",
       "total_rides          0\n",
       "subscription_type    0\n",
       "minute_price         0\n",
       "start_ride_price     0\n",
       "subscription_fee     0\n",
       "dtype: int64"
      ]
     },
     "execution_count": 61,
     "metadata": {},
     "output_type": "execute_result"
    }
   ],
   "source": [
    "data_agg_price.isna().sum() # проверяем датафрейм на пропуски"
   ]
  },
  {
   "cell_type": "code",
   "execution_count": 84,
   "id": "4ec6625f",
   "metadata": {},
   "outputs": [],
   "source": [
    "# Теперь добавим в этот новый датафрейм столбец с ежемесячной выручкой для каждого пользователя\n",
    "data_agg_price['income'] = data_agg_price['start_ride_price'] * data_agg_price['total_rides'] + data_agg_price['sum_duration'] \\\n",
    "* data_agg_price['minute_price'] + data_agg_price['subscription_fee']"
   ]
  },
  {
   "cell_type": "code",
   "execution_count": 85,
   "id": "c7899655",
   "metadata": {},
   "outputs": [
    {
     "data": {
      "text/html": [
       "<div>\n",
       "<style scoped>\n",
       "    .dataframe tbody tr th:only-of-type {\n",
       "        vertical-align: middle;\n",
       "    }\n",
       "\n",
       "    .dataframe tbody tr th {\n",
       "        vertical-align: top;\n",
       "    }\n",
       "\n",
       "    .dataframe thead th {\n",
       "        text-align: right;\n",
       "    }\n",
       "</style>\n",
       "<table border=\"1\" class=\"dataframe\">\n",
       "  <thead>\n",
       "    <tr style=\"text-align: right;\">\n",
       "      <th></th>\n",
       "      <th>user_id</th>\n",
       "      <th>month</th>\n",
       "      <th>sum_distance</th>\n",
       "      <th>sum_duration</th>\n",
       "      <th>total_rides</th>\n",
       "      <th>subscription_type</th>\n",
       "      <th>minute_price</th>\n",
       "      <th>start_ride_price</th>\n",
       "      <th>subscription_fee</th>\n",
       "      <th>income</th>\n",
       "    </tr>\n",
       "  </thead>\n",
       "  <tbody>\n",
       "    <tr>\n",
       "      <th>0</th>\n",
       "      <td>1</td>\n",
       "      <td>2021-01-01</td>\n",
       "      <td>7027.511294</td>\n",
       "      <td>42.0</td>\n",
       "      <td>2</td>\n",
       "      <td>ultra</td>\n",
       "      <td>6</td>\n",
       "      <td>0</td>\n",
       "      <td>199</td>\n",
       "      <td>451.0</td>\n",
       "    </tr>\n",
       "    <tr>\n",
       "      <th>1</th>\n",
       "      <td>1</td>\n",
       "      <td>2021-04-01</td>\n",
       "      <td>754.159807</td>\n",
       "      <td>7.0</td>\n",
       "      <td>1</td>\n",
       "      <td>ultra</td>\n",
       "      <td>6</td>\n",
       "      <td>0</td>\n",
       "      <td>199</td>\n",
       "      <td>241.0</td>\n",
       "    </tr>\n",
       "    <tr>\n",
       "      <th>2</th>\n",
       "      <td>1</td>\n",
       "      <td>2021-08-01</td>\n",
       "      <td>6723.470560</td>\n",
       "      <td>46.0</td>\n",
       "      <td>2</td>\n",
       "      <td>ultra</td>\n",
       "      <td>6</td>\n",
       "      <td>0</td>\n",
       "      <td>199</td>\n",
       "      <td>475.0</td>\n",
       "    </tr>\n",
       "    <tr>\n",
       "      <th>3</th>\n",
       "      <td>1</td>\n",
       "      <td>2021-10-01</td>\n",
       "      <td>5809.911100</td>\n",
       "      <td>32.0</td>\n",
       "      <td>2</td>\n",
       "      <td>ultra</td>\n",
       "      <td>6</td>\n",
       "      <td>0</td>\n",
       "      <td>199</td>\n",
       "      <td>391.0</td>\n",
       "    </tr>\n",
       "    <tr>\n",
       "      <th>4</th>\n",
       "      <td>1</td>\n",
       "      <td>2021-11-01</td>\n",
       "      <td>7003.499363</td>\n",
       "      <td>56.0</td>\n",
       "      <td>3</td>\n",
       "      <td>ultra</td>\n",
       "      <td>6</td>\n",
       "      <td>0</td>\n",
       "      <td>199</td>\n",
       "      <td>535.0</td>\n",
       "    </tr>\n",
       "  </tbody>\n",
       "</table>\n",
       "</div>"
      ],
      "text/plain": [
       "   user_id      month  sum_distance  sum_duration  total_rides  \\\n",
       "0        1 2021-01-01   7027.511294          42.0            2   \n",
       "1        1 2021-04-01    754.159807           7.0            1   \n",
       "2        1 2021-08-01   6723.470560          46.0            2   \n",
       "3        1 2021-10-01   5809.911100          32.0            2   \n",
       "4        1 2021-11-01   7003.499363          56.0            3   \n",
       "\n",
       "  subscription_type  minute_price  start_ride_price  subscription_fee  income  \n",
       "0             ultra             6                 0               199   451.0  \n",
       "1             ultra             6                 0               199   241.0  \n",
       "2             ultra             6                 0               199   475.0  \n",
       "3             ultra             6                 0               199   391.0  \n",
       "4             ultra             6                 0               199   535.0  "
      ]
     },
     "execution_count": 85,
     "metadata": {},
     "output_type": "execute_result"
    }
   ],
   "source": [
    "data_agg_price.head()"
   ]
  },
  {
   "cell_type": "markdown",
   "id": "24c693b0",
   "metadata": {},
   "source": [
    "Итог шага №5: Создали датафрейм с агрегированными данными о поездках на основе датафрейма с объединёнными данными из шага 4. Нашли ежемесячную выручку для каждого пользователя. "
   ]
  },
  {
   "cell_type": "markdown",
   "id": "41545ac0",
   "metadata": {},
   "source": [
    "#### Шаг 6. Проверка гипотез"
   ]
  },
  {
   "cell_type": "markdown",
   "id": "9318618d",
   "metadata": {},
   "source": [
    "1. Проверяем гипотезу о том, что пользователи с подпиской тратят больше времени на поездки."
   ]
  },
  {
   "cell_type": "code",
   "execution_count": 64,
   "id": "5ec6f1e5",
   "metadata": {},
   "outputs": [
    {
     "name": "stdout",
     "output_type": "stream",
     "text": [
      "p-значение: 1.2804098316645618e-34\n",
      "Отвергаем нулевую гипотезу\n"
     ]
    }
   ],
   "source": [
    "#Нулевая гипотеза: обе группы тратят одинаково\n",
    "#Альтернативная: пользователи с подпиской тратят больше времени на поездки.\n",
    "\n",
    "alpha = 0.05 # уровень статистической значимости\n",
    "# если p-value окажется меньше него, отвергнем гипотезу\n",
    "\n",
    "results = st.ttest_ind(data_with_subscription['duration'], data_without_subscription['duration'], alternative='greater')\n",
    "\n",
    "print('p-значение:', results.pvalue)\n",
    "\n",
    "if results.pvalue < alpha:\n",
    "    print('Отвергаем нулевую гипотезу')\n",
    "else:\n",
    "    print('Не получилось отвергнуть нулевую гипотезу') "
   ]
  },
  {
   "cell_type": "markdown",
   "id": "28a81f7a",
   "metadata": {},
   "source": [
    "Вывод: пользователи с подпиской тратят больше времени на поездки"
   ]
  },
  {
   "cell_type": "markdown",
   "id": "258fad20",
   "metadata": {},
   "source": [
    "2. Проверяем гипотезу, что расстояние, которое проезжают пользователи с подпиской за одну поездку, не превышает 3130 метров."
   ]
  },
  {
   "cell_type": "code",
   "execution_count": 65,
   "id": "edcc1876",
   "metadata": {},
   "outputs": [
    {
     "name": "stdout",
     "output_type": "stream",
     "text": [
      "p-значение: 0.9195368847849785\n",
      "Не получилось отвергнуть нулевую гипотезу\n"
     ]
    }
   ],
   "source": [
    "# Нулевая гипотеза: средняя дальность поездки пользователей с подпиской равна 3130 метров\n",
    "# Альтернативная: пользователи с подпиской в среднем проезжают значительно больше 3130 метров\n",
    "\n",
    "alpha = 0.05 # уровень статистической значимости\n",
    "# если p-value окажется меньше него, отвергнем гипотезу\n",
    "\n",
    "results = st.ttest_1samp(data_with_subscription['distance'], 3130, alternative='greater')\n",
    "\n",
    "print('p-значение:', results.pvalue)\n",
    "\n",
    "if results.pvalue < alpha:\n",
    "    print('Отвергаем нулевую гипотезу')\n",
    "else:\n",
    "    print('Не получилось отвергнуть нулевую гипотезу') "
   ]
  },
  {
   "cell_type": "markdown",
   "id": "cae21ff1",
   "metadata": {},
   "source": [
    "Вывод: не удалось опровергнуть нулевую гипотезу о том, что пользователи с подпиской в среднем проезжают 3130 метров за одну поездку."
   ]
  },
  {
   "cell_type": "markdown",
   "id": "cea1208b",
   "metadata": {},
   "source": [
    "3. Проверяем гипотезу о том, будет ли помесячная выручка от пользователей с подпиской по месяцам выше, чем выручка от пользователей без подписки."
   ]
  },
  {
   "cell_type": "code",
   "execution_count": 66,
   "id": "f8e9bb52",
   "metadata": {},
   "outputs": [],
   "source": [
    "# датафрейм с информацией о пользователях с подпиской\n",
    "income_from_users_with_subscription = data_agg_price.query('subscription_type == \"ultra\"')"
   ]
  },
  {
   "cell_type": "code",
   "execution_count": 67,
   "id": "513f2bb6",
   "metadata": {},
   "outputs": [],
   "source": [
    "# датафрейм с информацией о пользователях без подписки\n",
    "income_from_users_without_subscription = data_agg_price.query('subscription_type == \"free\"')"
   ]
  },
  {
   "cell_type": "code",
   "execution_count": 68,
   "id": "b2e1025c",
   "metadata": {},
   "outputs": [
    {
     "name": "stdout",
     "output_type": "stream",
     "text": [
      "p-значение: 1.8850394384715216e-31\n",
      "Отвергаем нулевую гипотезу\n"
     ]
    }
   ],
   "source": [
    "# Нулевая гипотеза: помесячная выручка от обеих групп одинаковая\n",
    "# Альтернативная: помесячная выручка от пользователей с подпиской выше\n",
    "\n",
    "alpha = 0.05 # уровень статистической значимости\n",
    "# если p-value окажется меньше него, отвергнем гипотезу\n",
    "\n",
    "results = st.ttest_ind(income_from_users_with_subscription['income'], income_from_users_without_subscription['income'], alternative='greater')\n",
    "\n",
    "print('p-значение:', results.pvalue)\n",
    "\n",
    "if results.pvalue < alpha:\n",
    "    print('Отвергаем нулевую гипотезу')\n",
    "else:\n",
    "    print('Не получилось отвергнуть нулевую гипотезу') "
   ]
  },
  {
   "cell_type": "markdown",
   "id": "36de6c45",
   "metadata": {},
   "source": [
    "Вывод: помесячная выручка от пользователей с подпиской выше, чем выручка от пользователей без подписки."
   ]
  },
  {
   "cell_type": "markdown",
   "id": "2b824568",
   "metadata": {},
   "source": [
    "4. Представьте такую ситуацию: техническая команда сервиса обновила сервера, с которыми взаимодействует мобильное приложение. Она надеется, что из-за этого количество обращений в техподдержку значимо снизилось. Некоторый файл содержит для каждого пользователя данные о количестве обращений до обновления и после него. Какой тест вам понадобился бы для проверки этой гипотезы?\n",
    "\n",
    "Ответ: Для проверки этой гипотезы нам бы подошел метод scipy.stats.ttest_rel, который принимает наборы данных — парные выборки до и после изменения. В нашем случае данному методу необходимо также передать параметр alternative='greater', проверится правосторонняя альтернативная гипотеза о том, что истинное среднее генеральной совокупности до изменения больше, чем истинное среднее генеральной совокупности после изменения."
   ]
  },
  {
   "cell_type": "markdown",
   "id": "61213c5e",
   "metadata": {},
   "source": [
    "#### Шаг 7. Распределения"
   ]
  },
  {
   "cell_type": "markdown",
   "id": "68e0d138",
   "metadata": {},
   "source": [
    "7.1 Отделу маркетинга GoFast поставили задачу: нужно провести акцию с раздачей промокодов на один бесплатный месяц подписки, в рамках которой как минимум 100 существующих клиентов должны продлить эту подписку. То есть по завершении периода действия подписки пользователь может либо отказаться от неё, либо продлить, совершив соответствующий платёж. \n",
    "Эта акция уже проводилась ранее и по итогу выяснилось, что после бесплатного пробного периода подписку продлевают 10 % пользователей. Выясните, какое минимальное количество промокодов нужно разослать, чтобы вероятность не выполнить план была примерно 5 %."
   ]
  },
  {
   "cell_type": "code",
   "execution_count": 69,
   "id": "95cd1d51",
   "metadata": {},
   "outputs": [
    {
     "data": {
      "image/png": "[encoded data removed]",
      "text/plain": [
       "<Figure size 640x480 with 1 Axes>"
      ]
     },
     "metadata": {},
     "output_type": "display_data"
    }
   ],
   "source": [
    "# задаём параметры биномиального распределения\n",
    "n = 1168\n",
    "p = 0.1\n",
    "\n",
    "# границы промежутка, в котором будем строить аппроксимацию -\n",
    "# от n*p минус 4 ст.отклонения бином.распределения\n",
    "# до n*p плюс 4 ст.отклонения бином.распределения\n",
    "# (там, где вероятности значений почти не равны нулю)\n",
    "left = int(n * p - 4 * sqrt(n * p * (1 - p)))\n",
    "right = int(n * p + 4 * sqrt(n * p * (1 - p)))\n",
    " \n",
    "# зададим набор значений биномиальной величины на выбранном промежутке:\n",
    "# все неотрицательные целые числа от left до right\n",
    "x = list(range(max(0, left), right))\n",
    "# рисуем график биномиального распределения\n",
    "ax = plt.subplot()\n",
    "# используем синие о-образные маркеры и размер маркера 7\n",
    "ax.plot(x, binom.pmf(x, n, p), 'bo', ms=7)\n",
    "ax.grid()"
   ]
  },
  {
   "cell_type": "code",
   "execution_count": 70,
   "id": "aabb508b",
   "metadata": {},
   "outputs": [
    {
     "data": {
      "text/plain": [
       "0.050650790692463"
      ]
     },
     "execution_count": 70,
     "metadata": {},
     "output_type": "execute_result"
    }
   ],
   "source": [
    "n = 1168\n",
    "p = 0.1\n",
    "\n",
    "# зададим мат.ожидание и ст.отклонение нормального распределения равными\n",
    "# мат.ожиданию и ст.отклонению биномиального распределения\n",
    "mu = n * p\n",
    "sigma = sqrt(n * p * (1 - p))\n",
    "\n",
    "# задаём нормальное распределение\n",
    "distr = st.norm(mu, sigma) \n",
    "\n",
    "# считаем вероятность хвоста слева от 100\n",
    "result = distr.cdf(100)\n",
    "result"
   ]
  },
  {
   "cell_type": "markdown",
   "id": "3c20bf57",
   "metadata": {},
   "source": [
    "Вывод: В данном случае процесс можно описать биномиальным распределением и т.к. выборка достаточно большая, то определить вероятность, при которой менее 100 пользователей захотят продлить подписку можно с помощью нормального распределения с мат.ожиданием n*p и ст.отклонением sqrt(n * p * (1 - p)), где n - величина выборки (количество промокодов), а р=0.1 (10% вероятность продления подписки пользователем). Изменяя n в обоих распределениях добиваемся результата, при котором вероятность получить менее 100 продлений подписки равна примерно 5%. Итоговое число промокодов - 1168."
   ]
  },
  {
   "cell_type": "markdown",
   "id": "31f2f22e",
   "metadata": {},
   "source": [
    "7.2 Отдел маркетинга рассылает клиентам push-уведомления в мобильном приложении. Клиенты могут открыть его или не открывать. Известно, что уведомления открывают около 40 % получивших клиентов. Отдел планирует разослать 1 млн уведомлений. С помощью аппроксимации постройте примерный график распределения и оцените вероятность того, что уведомление откроют не более 399,5 тыс. пользователей."
   ]
  },
  {
   "cell_type": "code",
   "execution_count": 71,
   "id": "3e14ff5a",
   "metadata": {},
   "outputs": [
    {
     "data": {
      "image/png": "[encoded data removed]",
      "text/plain": [
       "<Figure size 640x480 with 1 Axes>"
      ]
     },
     "metadata": {},
     "output_type": "display_data"
    }
   ],
   "source": [
    "# зададим функцию, которая выдаёт <num> чисел, равномерно распределённых от <start> до <stop>\n",
    "# (понадобится для визуализации нормального распределения)\n",
    "def linspace(start, stop, num):\n",
    "    step = (stop - start) / (num - 1)\n",
    "    result = []\n",
    "    for i in range(num):\n",
    "        result.append(start + step * i)\n",
    "    return result\n",
    " \n",
    "# задаём параметры биномиального распределения\n",
    "n = 1000000\n",
    "p = 0.4\n",
    "\n",
    "# границы промежутка, в котором будем строить аппроксимацию -\n",
    "# от n*p минус 4 ст.отклонения бином.распределения\n",
    "# до n*p плюс 4 ст.отклонения бином.распределения\n",
    "# (там, где вероятности значений почти не равны нулю)\n",
    "left = int(n * p - 4 * sqrt(n * p * (1 - p)))\n",
    "right = int(n * p + 4 * sqrt(n * p * (1 - p)))\n",
    " \n",
    "# зададим набор значений биномиальной величины на выбранном промежутке:\n",
    "# все неотрицательные целые числа от left до right\n",
    "x = list(range(max(0, left), right))\n",
    "# рисуем график биномиального распределения\n",
    "ax = plt.subplot()\n",
    "# используем синие о-образные маркеры и размер маркера 7\n",
    "ax.plot(x, binom.pmf(x, n, p), 'bo-', ms=7)\n",
    "\n",
    "# зададим мат.ожидание и ст.отклонение нормального распределения равными\n",
    "# мат.ожиданию и ст.отклонению биномиального распределения\n",
    "mu = n * p\n",
    "sigma = sqrt(n * p * (1 - p))\n",
    " \n",
    "# рисуем график нормального распределения:\n",
    "# получим список из 100 чисел от left до right\n",
    "x = linspace(left, right, 100)\n",
    "# используем красную линию ширины 3 и прозрачности 0.7\n",
    "ax.plot(x, norm.pdf(x, mu, sigma), 'r-', lw=3, alpha=0.7)\n",
    "ax.grid()"
   ]
  },
  {
   "cell_type": "code",
   "execution_count": 72,
   "id": "465a5649",
   "metadata": {},
   "outputs": [
    {
     "data": {
      "text/plain": [
       "0.15371708296369768"
      ]
     },
     "execution_count": 72,
     "metadata": {},
     "output_type": "execute_result"
    }
   ],
   "source": [
    "n = 1000000\n",
    "p = 0.4\n",
    "\n",
    "# зададим мат.ожидание и ст.отклонение нормального распределения равными\n",
    "# мат.ожиданию и ст.отклонению биномиального распределения\n",
    "mu = n * p\n",
    "sigma = sqrt(n * p * (1 - p))\n",
    "\n",
    "# задаём нормальное распределение\n",
    "distr = st.norm(mu, sigma) \n",
    "\n",
    "# считаем вероятность хвоста слева от 399.500 тысяч\n",
    "result = distr.cdf(399500)\n",
    "result"
   ]
  },
  {
   "cell_type": "markdown",
   "id": "6469131b",
   "metadata": {},
   "source": [
    "Вывод: В данном случае процесс можно описать биномиальным распределением и т.к. выборка достаточно большая (1 млн уведомлений), то определить вероятность, при которой уведомления откроют менее 399500 пользователей можно с помощью нормального распределения с мат.ожиданием n*p и ст.отклонением sqrt(n * p * (1 - p)), где n - величина выборки (количество уведомлений), а р=0.4 (40% вероятность открытия уведомления пользователем). Вероятность того, что менее 399500 пользователей откроют уведомления равна примерно 15.4%."
   ]
  },
  {
   "cell_type": "markdown",
   "id": "473fe3a2",
   "metadata": {},
   "source": [
    "#### Общие итоги исследования"
   ]
  },
  {
   "cell_type": "markdown",
   "id": "2a6ff3eb",
   "metadata": {},
   "source": [
    "Был проведен анализ данных пользователей сервиса аренды самокатов GoFast. \n",
    "Данные содержат информацию о пользователях из 8 городов России. Среди 8 городов наибольшее количество пользователей сервиса совершают поездки в Пятигорске (219 человек), а наименьшее в Москве (168 человек). 54% (835 человек) всех пользователей не имеют подписки на сервис, а 46% (699 человек) ее оформили. Большинство пользователей имеют возраст в интервале 22-28 лет. Средняя дальность поездки пользователя составляет 3133 метров, причем четверь всех поездок совершается на расстояние не превышающее 2543 м, а 3/4 всех поездок имеют дальность не более 3776 м. Средняя длительность поездки пользователя составляет 17.7 минут, причем длительность четверти всех поездок не превышает 13.6 минут, а 3/4 всех поездок имеют длительность не более 21.7 минут.\n",
    "Несмотря на то, что соотношение числа пользователей с подпиской и без 46% на 54% (близкие по количеству группы) и пользователи с подпиской в среднем тратят больше времени на поездку, ежемесячные доходы больше от пользователей без подписки. Отделу маркетинга можно порекомендовать сфокусироваться больше на привлечении новых пользователей, чем на увеличении числа пользователей с подпиской."
   ]
  }
 ],
 "metadata": {
  "ExecuteTimeLog": [
   {
    "duration": 1254,
    "start_time": "2023-12-18T22:46:59.923Z"
   },
   {
    "duration": 131,
    "start_time": "2023-12-18T22:47:14.124Z"
   },
   {
    "duration": 87,
    "start_time": "2023-12-18T22:47:44.427Z"
   },
   {
    "duration": 12,
    "start_time": "2023-12-18T22:48:09.762Z"
   },
   {
    "duration": 90,
    "start_time": "2023-12-18T22:48:36.811Z"
   },
   {
    "duration": 10,
    "start_time": "2023-12-18T22:49:43.522Z"
   },
   {
    "duration": 70,
    "start_time": "2023-12-18T22:50:10.466Z"
   },
   {
    "duration": 11,
    "start_time": "2023-12-18T22:50:45.026Z"
   },
   {
    "duration": 6,
    "start_time": "2023-12-18T22:52:55.971Z"
   },
   {
    "duration": 6,
    "start_time": "2023-12-18T22:53:13.188Z"
   },
   {
    "duration": 5,
    "start_time": "2023-12-18T22:54:50.707Z"
   },
   {
    "duration": 7,
    "start_time": "2023-12-18T22:55:35.139Z"
   },
   {
    "duration": 7,
    "start_time": "2023-12-18T22:55:50.307Z"
   },
   {
    "duration": 5,
    "start_time": "2023-12-18T22:56:10.411Z"
   },
   {
    "duration": 5,
    "start_time": "2023-12-18T22:56:33.986Z"
   },
   {
    "duration": 18,
    "start_time": "2023-12-18T22:57:05.754Z"
   },
   {
    "duration": 13,
    "start_time": "2023-12-18T22:59:28.852Z"
   },
   {
    "duration": 7,
    "start_time": "2023-12-18T23:01:22.674Z"
   },
   {
    "duration": 4,
    "start_time": "2023-12-18T23:01:30.107Z"
   },
   {
    "duration": 1120,
    "start_time": "2023-12-18T23:02:10.891Z"
   },
   {
    "duration": 38,
    "start_time": "2023-12-18T23:02:12.013Z"
   },
   {
    "duration": 10,
    "start_time": "2023-12-18T23:02:12.052Z"
   },
   {
    "duration": 39,
    "start_time": "2023-12-18T23:02:12.064Z"
   },
   {
    "duration": 9,
    "start_time": "2023-12-18T23:02:12.104Z"
   },
   {
    "duration": 19,
    "start_time": "2023-12-18T23:02:12.115Z"
   },
   {
    "duration": 9,
    "start_time": "2023-12-18T23:02:12.135Z"
   },
   {
    "duration": 6,
    "start_time": "2023-12-18T23:02:12.145Z"
   },
   {
    "duration": 6,
    "start_time": "2023-12-18T23:02:12.153Z"
   },
   {
    "duration": 8,
    "start_time": "2023-12-18T23:02:12.161Z"
   },
   {
    "duration": 6,
    "start_time": "2023-12-18T23:02:12.170Z"
   },
   {
    "duration": 9,
    "start_time": "2023-12-18T23:02:12.177Z"
   },
   {
    "duration": 30,
    "start_time": "2023-12-18T23:02:12.188Z"
   },
   {
    "duration": 7,
    "start_time": "2023-12-18T23:02:12.219Z"
   },
   {
    "duration": 6,
    "start_time": "2023-12-18T23:02:12.228Z"
   },
   {
    "duration": 19,
    "start_time": "2023-12-18T23:02:12.235Z"
   },
   {
    "duration": 12,
    "start_time": "2023-12-18T23:02:44.186Z"
   },
   {
    "duration": 85,
    "start_time": "2023-12-18T23:11:03.258Z"
   },
   {
    "duration": 4,
    "start_time": "2023-12-18T23:11:09.867Z"
   },
   {
    "duration": 159,
    "start_time": "2023-12-18T23:11:24.020Z"
   },
   {
    "duration": 139,
    "start_time": "2023-12-18T23:12:27.378Z"
   },
   {
    "duration": 93,
    "start_time": "2023-12-18T23:13:25.130Z"
   },
   {
    "duration": 96,
    "start_time": "2023-12-18T23:15:16.755Z"
   },
   {
    "duration": 91,
    "start_time": "2023-12-18T23:15:25.290Z"
   },
   {
    "duration": 94,
    "start_time": "2023-12-18T23:15:37.642Z"
   },
   {
    "duration": 244,
    "start_time": "2023-12-18T23:16:19.314Z"
   },
   {
    "duration": 241,
    "start_time": "2023-12-18T23:17:53.530Z"
   },
   {
    "duration": 8,
    "start_time": "2023-12-18T23:18:10.548Z"
   },
   {
    "duration": 8,
    "start_time": "2023-12-18T23:19:34.787Z"
   },
   {
    "duration": 519,
    "start_time": "2023-12-18T23:20:29.011Z"
   },
   {
    "duration": 477,
    "start_time": "2023-12-18T23:21:32.443Z"
   },
   {
    "duration": 8,
    "start_time": "2023-12-18T23:22:28.850Z"
   },
   {
    "duration": 562,
    "start_time": "2023-12-18T23:24:37.571Z"
   },
   {
    "duration": 503,
    "start_time": "2023-12-18T23:25:35.930Z"
   },
   {
    "duration": 6,
    "start_time": "2023-12-18T23:31:00.851Z"
   },
   {
    "duration": 7,
    "start_time": "2023-12-18T23:31:26.141Z"
   },
   {
    "duration": 7,
    "start_time": "2023-12-18T23:31:44.340Z"
   },
   {
    "duration": 7,
    "start_time": "2023-12-18T23:43:17.203Z"
   },
   {
    "duration": 6,
    "start_time": "2023-12-18T23:43:24.651Z"
   },
   {
    "duration": 7,
    "start_time": "2023-12-18T23:44:46.084Z"
   },
   {
    "duration": 23,
    "start_time": "2023-12-18T23:57:51.178Z"
   },
   {
    "duration": 34,
    "start_time": "2023-12-18T23:58:50.596Z"
   },
   {
    "duration": 24,
    "start_time": "2023-12-18T23:59:15.155Z"
   },
   {
    "duration": 25,
    "start_time": "2023-12-19T00:00:32.995Z"
   },
   {
    "duration": 22,
    "start_time": "2023-12-19T00:00:59.170Z"
   },
   {
    "duration": 19,
    "start_time": "2023-12-19T00:03:09.107Z"
   },
   {
    "duration": 9,
    "start_time": "2023-12-19T00:07:19.571Z"
   },
   {
    "duration": 475,
    "start_time": "2023-12-19T00:08:12.483Z"
   },
   {
    "duration": 564,
    "start_time": "2023-12-19T00:08:46.331Z"
   },
   {
    "duration": 9,
    "start_time": "2023-12-19T00:10:47.954Z"
   },
   {
    "duration": 9,
    "start_time": "2023-12-19T00:11:27.875Z"
   },
   {
    "duration": 472,
    "start_time": "2023-12-19T00:11:55.883Z"
   },
   {
    "duration": 469,
    "start_time": "2023-12-19T00:12:04.964Z"
   },
   {
    "duration": 8,
    "start_time": "2023-12-19T00:13:09.891Z"
   },
   {
    "duration": 566,
    "start_time": "2023-12-19T00:13:49.116Z"
   },
   {
    "duration": 480,
    "start_time": "2023-12-19T00:14:03.635Z"
   },
   {
    "duration": 8,
    "start_time": "2023-12-19T00:14:52.002Z"
   },
   {
    "duration": 469,
    "start_time": "2023-12-19T00:15:12.739Z"
   },
   {
    "duration": 92,
    "start_time": "2023-12-19T00:17:42.050Z"
   },
   {
    "duration": 1067,
    "start_time": "2023-12-19T00:17:56.594Z"
   },
   {
    "duration": 38,
    "start_time": "2023-12-19T00:17:57.663Z"
   },
   {
    "duration": 10,
    "start_time": "2023-12-19T00:17:57.703Z"
   },
   {
    "duration": 39,
    "start_time": "2023-12-19T00:17:57.714Z"
   },
   {
    "duration": 10,
    "start_time": "2023-12-19T00:17:57.755Z"
   },
   {
    "duration": 20,
    "start_time": "2023-12-19T00:17:57.766Z"
   },
   {
    "duration": 9,
    "start_time": "2023-12-19T00:17:57.788Z"
   },
   {
    "duration": 7,
    "start_time": "2023-12-19T00:17:57.799Z"
   },
   {
    "duration": 8,
    "start_time": "2023-12-19T00:17:57.807Z"
   },
   {
    "duration": 7,
    "start_time": "2023-12-19T00:17:57.817Z"
   },
   {
    "duration": 5,
    "start_time": "2023-12-19T00:17:57.825Z"
   },
   {
    "duration": 7,
    "start_time": "2023-12-19T00:17:57.832Z"
   },
   {
    "duration": 5,
    "start_time": "2023-12-19T00:17:57.840Z"
   },
   {
    "duration": 4,
    "start_time": "2023-12-19T00:17:57.848Z"
   },
   {
    "duration": 27,
    "start_time": "2023-12-19T00:17:57.853Z"
   },
   {
    "duration": 6,
    "start_time": "2023-12-19T00:17:57.914Z"
   },
   {
    "duration": 172,
    "start_time": "2023-12-19T00:17:57.921Z"
   },
   {
    "duration": 114,
    "start_time": "2023-12-19T00:17:58.095Z"
   },
   {
    "duration": 5,
    "start_time": "2023-12-19T00:17:58.214Z"
   },
   {
    "duration": 253,
    "start_time": "2023-12-19T00:17:58.221Z"
   },
   {
    "duration": 8,
    "start_time": "2023-12-19T00:17:58.476Z"
   },
   {
    "duration": 482,
    "start_time": "2023-12-19T00:17:58.485Z"
   },
   {
    "duration": 8,
    "start_time": "2023-12-19T00:17:58.968Z"
   },
   {
    "duration": 560,
    "start_time": "2023-12-19T00:17:58.978Z"
   },
   {
    "duration": 23,
    "start_time": "2023-12-19T00:17:59.539Z"
   },
   {
    "duration": 23,
    "start_time": "2023-12-19T00:17:59.563Z"
   },
   {
    "duration": 39,
    "start_time": "2023-12-19T00:17:59.587Z"
   },
   {
    "duration": 19,
    "start_time": "2023-12-19T00:17:59.628Z"
   },
   {
    "duration": 27,
    "start_time": "2023-12-19T00:17:59.648Z"
   },
   {
    "duration": 470,
    "start_time": "2023-12-19T00:17:59.677Z"
   },
   {
    "duration": 7,
    "start_time": "2023-12-19T00:18:00.149Z"
   },
   {
    "duration": 509,
    "start_time": "2023-12-19T00:18:00.157Z"
   },
   {
    "duration": 8,
    "start_time": "2023-12-19T00:18:00.667Z"
   },
   {
    "duration": 599,
    "start_time": "2023-12-19T00:18:00.676Z"
   },
   {
    "duration": 9,
    "start_time": "2023-12-19T00:18:01.276Z"
   },
   {
    "duration": 483,
    "start_time": "2023-12-19T00:18:01.287Z"
   },
   {
    "duration": 1303,
    "start_time": "2023-12-19T09:18:51.828Z"
   },
   {
    "duration": 96,
    "start_time": "2023-12-19T09:18:53.133Z"
   },
   {
    "duration": 12,
    "start_time": "2023-12-19T09:18:53.231Z"
   },
   {
    "duration": 78,
    "start_time": "2023-12-19T09:18:53.245Z"
   },
   {
    "duration": 12,
    "start_time": "2023-12-19T09:18:53.325Z"
   },
   {
    "duration": 55,
    "start_time": "2023-12-19T09:18:53.339Z"
   },
   {
    "duration": 10,
    "start_time": "2023-12-19T09:18:53.396Z"
   },
   {
    "duration": 8,
    "start_time": "2023-12-19T09:18:53.408Z"
   },
   {
    "duration": 7,
    "start_time": "2023-12-19T09:18:53.418Z"
   },
   {
    "duration": 7,
    "start_time": "2023-12-19T09:18:53.427Z"
   },
   {
    "duration": 5,
    "start_time": "2023-12-19T09:18:53.436Z"
   },
   {
    "duration": 18,
    "start_time": "2023-12-19T09:18:53.443Z"
   },
   {
    "duration": 5,
    "start_time": "2023-12-19T09:18:53.466Z"
   },
   {
    "duration": 9,
    "start_time": "2023-12-19T09:18:53.473Z"
   },
   {
    "duration": 27,
    "start_time": "2023-12-19T09:18:53.484Z"
   },
   {
    "duration": 8,
    "start_time": "2023-12-19T09:18:53.512Z"
   },
   {
    "duration": 195,
    "start_time": "2023-12-19T09:18:53.522Z"
   },
   {
    "duration": 106,
    "start_time": "2023-12-19T09:18:53.718Z"
   },
   {
    "duration": 6,
    "start_time": "2023-12-19T09:18:53.825Z"
   },
   {
    "duration": 288,
    "start_time": "2023-12-19T09:18:53.832Z"
   },
   {
    "duration": 9,
    "start_time": "2023-12-19T09:18:54.122Z"
   },
   {
    "duration": 494,
    "start_time": "2023-12-19T09:18:54.132Z"
   },
   {
    "duration": 8,
    "start_time": "2023-12-19T09:18:54.628Z"
   },
   {
    "duration": 557,
    "start_time": "2023-12-19T09:18:54.637Z"
   },
   {
    "duration": 23,
    "start_time": "2023-12-19T09:18:55.195Z"
   },
   {
    "duration": 23,
    "start_time": "2023-12-19T09:18:55.219Z"
   },
   {
    "duration": 42,
    "start_time": "2023-12-19T09:18:55.243Z"
   },
   {
    "duration": 34,
    "start_time": "2023-12-19T09:18:55.288Z"
   },
   {
    "duration": 8,
    "start_time": "2023-12-19T09:18:55.324Z"
   },
   {
    "duration": 496,
    "start_time": "2023-12-19T09:18:55.333Z"
   },
   {
    "duration": 8,
    "start_time": "2023-12-19T09:18:55.831Z"
   },
   {
    "duration": 497,
    "start_time": "2023-12-19T09:18:55.840Z"
   },
   {
    "duration": 9,
    "start_time": "2023-12-19T09:18:56.339Z"
   },
   {
    "duration": 607,
    "start_time": "2023-12-19T09:18:56.350Z"
   },
   {
    "duration": 13,
    "start_time": "2023-12-19T09:18:56.959Z"
   },
   {
    "duration": 473,
    "start_time": "2023-12-19T09:18:56.974Z"
   },
   {
    "duration": 4,
    "start_time": "2023-12-19T09:21:01.101Z"
   },
   {
    "duration": 38,
    "start_time": "2023-12-19T09:25:10.676Z"
   },
   {
    "duration": 16,
    "start_time": "2023-12-19T09:28:07.916Z"
   },
   {
    "duration": 22,
    "start_time": "2023-12-19T09:30:39.764Z"
   },
   {
    "duration": 21,
    "start_time": "2023-12-19T09:32:28.343Z"
   },
   {
    "duration": 8,
    "start_time": "2023-12-19T10:53:06.248Z"
   },
   {
    "duration": 5,
    "start_time": "2023-12-19T10:54:15.479Z"
   },
   {
    "duration": 6,
    "start_time": "2023-12-19T11:12:46.969Z"
   },
   {
    "duration": 5,
    "start_time": "2023-12-19T11:28:37.891Z"
   },
   {
    "duration": 5,
    "start_time": "2023-12-19T11:28:48.721Z"
   },
   {
    "duration": 7,
    "start_time": "2023-12-19T12:32:53.313Z"
   },
   {
    "duration": 14,
    "start_time": "2023-12-19T12:34:02.207Z"
   },
   {
    "duration": 12,
    "start_time": "2023-12-19T12:35:18.319Z"
   },
   {
    "duration": 5,
    "start_time": "2023-12-19T12:38:55.495Z"
   },
   {
    "duration": 4,
    "start_time": "2023-12-19T12:39:27.536Z"
   },
   {
    "duration": 5,
    "start_time": "2023-12-19T12:42:01.711Z"
   },
   {
    "duration": 1103,
    "start_time": "2023-12-19T12:46:56.448Z"
   },
   {
    "duration": 38,
    "start_time": "2023-12-19T12:46:57.552Z"
   },
   {
    "duration": 10,
    "start_time": "2023-12-19T12:46:57.592Z"
   },
   {
    "duration": 46,
    "start_time": "2023-12-19T12:46:57.604Z"
   },
   {
    "duration": 9,
    "start_time": "2023-12-19T12:46:57.652Z"
   },
   {
    "duration": 21,
    "start_time": "2023-12-19T12:46:57.662Z"
   },
   {
    "duration": 9,
    "start_time": "2023-12-19T12:46:57.684Z"
   },
   {
    "duration": 6,
    "start_time": "2023-12-19T12:46:57.694Z"
   },
   {
    "duration": 12,
    "start_time": "2023-12-19T12:46:57.701Z"
   },
   {
    "duration": 7,
    "start_time": "2023-12-19T12:46:57.716Z"
   },
   {
    "duration": 27,
    "start_time": "2023-12-19T12:46:57.724Z"
   },
   {
    "duration": 7,
    "start_time": "2023-12-19T12:46:57.753Z"
   },
   {
    "duration": 5,
    "start_time": "2023-12-19T12:46:57.762Z"
   },
   {
    "duration": 9,
    "start_time": "2023-12-19T12:46:57.769Z"
   },
   {
    "duration": 26,
    "start_time": "2023-12-19T12:46:57.780Z"
   },
   {
    "duration": 6,
    "start_time": "2023-12-19T12:46:57.808Z"
   },
   {
    "duration": 169,
    "start_time": "2023-12-19T12:46:57.815Z"
   },
   {
    "duration": 103,
    "start_time": "2023-12-19T12:46:57.986Z"
   },
   {
    "duration": 6,
    "start_time": "2023-12-19T12:46:58.091Z"
   },
   {
    "duration": 255,
    "start_time": "2023-12-19T12:46:58.098Z"
   },
   {
    "duration": 14,
    "start_time": "2023-12-19T12:46:58.354Z"
   },
   {
    "duration": 471,
    "start_time": "2023-12-19T12:46:58.370Z"
   },
   {
    "duration": 9,
    "start_time": "2023-12-19T12:46:58.842Z"
   },
   {
    "duration": 587,
    "start_time": "2023-12-19T12:46:58.853Z"
   },
   {
    "duration": 31,
    "start_time": "2023-12-19T12:46:59.441Z"
   },
   {
    "duration": 23,
    "start_time": "2023-12-19T12:46:59.474Z"
   },
   {
    "duration": 23,
    "start_time": "2023-12-19T12:46:59.498Z"
   },
   {
    "duration": 41,
    "start_time": "2023-12-19T12:46:59.525Z"
   },
   {
    "duration": 7,
    "start_time": "2023-12-19T12:46:59.568Z"
   },
   {
    "duration": 468,
    "start_time": "2023-12-19T12:46:59.576Z"
   },
   {
    "duration": 7,
    "start_time": "2023-12-19T12:47:00.046Z"
   },
   {
    "duration": 498,
    "start_time": "2023-12-19T12:47:00.065Z"
   },
   {
    "duration": 8,
    "start_time": "2023-12-19T12:47:00.564Z"
   },
   {
    "duration": 571,
    "start_time": "2023-12-19T12:47:00.573Z"
   },
   {
    "duration": 8,
    "start_time": "2023-12-19T12:47:01.145Z"
   },
   {
    "duration": 495,
    "start_time": "2023-12-19T12:47:01.164Z"
   },
   {
    "duration": 6,
    "start_time": "2023-12-19T12:47:01.660Z"
   },
   {
    "duration": 62,
    "start_time": "2023-12-19T12:47:01.668Z"
   },
   {
    "duration": 35,
    "start_time": "2023-12-19T12:47:01.732Z"
   },
   {
    "duration": 42,
    "start_time": "2023-12-19T12:47:01.769Z"
   },
   {
    "duration": 27,
    "start_time": "2023-12-19T12:47:01.813Z"
   },
   {
    "duration": 10,
    "start_time": "2023-12-19T12:47:01.842Z"
   },
   {
    "duration": 44,
    "start_time": "2023-12-19T12:47:01.854Z"
   },
   {
    "duration": 33,
    "start_time": "2023-12-19T12:47:01.900Z"
   },
   {
    "duration": 21,
    "start_time": "2023-12-19T12:47:01.935Z"
   },
   {
    "duration": 57,
    "start_time": "2023-12-19T12:47:01.957Z"
   },
   {
    "duration": 122,
    "start_time": "2023-12-19T12:51:57.423Z"
   },
   {
    "duration": 6,
    "start_time": "2023-12-19T12:54:12.328Z"
   },
   {
    "duration": 162,
    "start_time": "2023-12-19T13:08:34.967Z"
   },
   {
    "duration": 6,
    "start_time": "2023-12-19T13:08:58.967Z"
   },
   {
    "duration": 1080,
    "start_time": "2023-12-19T13:40:46.963Z"
   },
   {
    "duration": 35,
    "start_time": "2023-12-19T13:40:48.045Z"
   },
   {
    "duration": 10,
    "start_time": "2023-12-19T13:40:48.082Z"
   },
   {
    "duration": 49,
    "start_time": "2023-12-19T13:40:48.094Z"
   },
   {
    "duration": 13,
    "start_time": "2023-12-19T13:40:48.145Z"
   },
   {
    "duration": 21,
    "start_time": "2023-12-19T13:40:48.160Z"
   },
   {
    "duration": 13,
    "start_time": "2023-12-19T13:40:48.183Z"
   },
   {
    "duration": 52,
    "start_time": "2023-12-19T13:40:48.197Z"
   },
   {
    "duration": 6,
    "start_time": "2023-12-19T13:40:48.251Z"
   },
   {
    "duration": 8,
    "start_time": "2023-12-19T13:40:48.260Z"
   },
   {
    "duration": 8,
    "start_time": "2023-12-19T13:40:48.269Z"
   },
   {
    "duration": 14,
    "start_time": "2023-12-19T13:40:48.278Z"
   },
   {
    "duration": 5,
    "start_time": "2023-12-19T13:40:48.294Z"
   },
   {
    "duration": 9,
    "start_time": "2023-12-19T13:40:48.300Z"
   },
   {
    "duration": 26,
    "start_time": "2023-12-19T13:40:48.311Z"
   },
   {
    "duration": 5,
    "start_time": "2023-12-19T13:40:48.339Z"
   },
   {
    "duration": 173,
    "start_time": "2023-12-19T13:40:48.346Z"
   },
   {
    "duration": 106,
    "start_time": "2023-12-19T13:40:48.521Z"
   },
   {
    "duration": 6,
    "start_time": "2023-12-19T13:40:48.629Z"
   },
   {
    "duration": 246,
    "start_time": "2023-12-19T13:40:48.637Z"
   },
   {
    "duration": 10,
    "start_time": "2023-12-19T13:40:48.885Z"
   },
   {
    "duration": 476,
    "start_time": "2023-12-19T13:40:48.896Z"
   },
   {
    "duration": 9,
    "start_time": "2023-12-19T13:40:49.374Z"
   },
   {
    "duration": 541,
    "start_time": "2023-12-19T13:40:49.385Z"
   },
   {
    "duration": 21,
    "start_time": "2023-12-19T13:40:49.928Z"
   },
   {
    "duration": 23,
    "start_time": "2023-12-19T13:40:49.951Z"
   },
   {
    "duration": 50,
    "start_time": "2023-12-19T13:40:49.976Z"
   },
   {
    "duration": 19,
    "start_time": "2023-12-19T13:40:50.030Z"
   },
   {
    "duration": 9,
    "start_time": "2023-12-19T13:40:50.050Z"
   },
   {
    "duration": 451,
    "start_time": "2023-12-19T13:40:50.060Z"
   },
   {
    "duration": 9,
    "start_time": "2023-12-19T13:40:50.513Z"
   },
   {
    "duration": 477,
    "start_time": "2023-12-19T13:40:50.524Z"
   },
   {
    "duration": 14,
    "start_time": "2023-12-19T13:40:51.003Z"
   },
   {
    "duration": 573,
    "start_time": "2023-12-19T13:40:51.018Z"
   },
   {
    "duration": 20,
    "start_time": "2023-12-19T13:40:51.592Z"
   },
   {
    "duration": 487,
    "start_time": "2023-12-19T13:40:51.614Z"
   },
   {
    "duration": 9,
    "start_time": "2023-12-19T13:40:52.102Z"
   },
   {
    "duration": 39,
    "start_time": "2023-12-19T13:40:52.113Z"
   },
   {
    "duration": 14,
    "start_time": "2023-12-19T13:40:52.153Z"
   },
   {
    "duration": 18,
    "start_time": "2023-12-19T13:40:52.168Z"
   },
   {
    "duration": 34,
    "start_time": "2023-12-19T13:40:52.187Z"
   },
   {
    "duration": 5,
    "start_time": "2023-12-19T13:40:52.222Z"
   },
   {
    "duration": 6,
    "start_time": "2023-12-19T13:40:52.229Z"
   },
   {
    "duration": 12,
    "start_time": "2023-12-19T13:40:52.237Z"
   },
   {
    "duration": 10,
    "start_time": "2023-12-19T13:40:52.250Z"
   },
   {
    "duration": 6,
    "start_time": "2023-12-19T13:40:52.262Z"
   },
   {
    "duration": 163,
    "start_time": "2023-12-19T13:40:52.269Z"
   },
   {
    "duration": 6,
    "start_time": "2023-12-19T13:40:52.433Z"
   },
   {
    "duration": 154,
    "start_time": "2023-12-19T13:40:52.440Z"
   },
   {
    "duration": 5,
    "start_time": "2023-12-19T13:40:52.596Z"
   },
   {
    "duration": 5,
    "start_time": "2023-12-19T13:44:30.022Z"
   },
   {
    "duration": 28,
    "start_time": "2023-12-19T15:01:12.253Z"
   },
   {
    "duration": 9,
    "start_time": "2023-12-19T15:01:14.476Z"
   },
   {
    "duration": 11,
    "start_time": "2023-12-19T15:01:48.928Z"
   },
   {
    "duration": 9,
    "start_time": "2023-12-19T15:02:10.382Z"
   },
   {
    "duration": 10,
    "start_time": "2023-12-19T15:02:25.967Z"
   },
   {
    "duration": 41,
    "start_time": "2023-12-19T15:02:28.645Z"
   },
   {
    "duration": 7,
    "start_time": "2023-12-19T15:02:52.360Z"
   },
   {
    "duration": 27,
    "start_time": "2023-12-19T15:02:55.303Z"
   },
   {
    "duration": 7,
    "start_time": "2023-12-19T15:02:58.638Z"
   },
   {
    "duration": 12,
    "start_time": "2023-12-19T15:03:38.847Z"
   },
   {
    "duration": 1082,
    "start_time": "2023-12-19T15:03:45.757Z"
   },
   {
    "duration": 28,
    "start_time": "2023-12-19T15:03:46.841Z"
   },
   {
    "duration": 12,
    "start_time": "2023-12-19T15:03:46.871Z"
   },
   {
    "duration": 31,
    "start_time": "2023-12-19T15:03:46.884Z"
   },
   {
    "duration": 35,
    "start_time": "2023-12-19T15:03:46.916Z"
   },
   {
    "duration": 9,
    "start_time": "2023-12-19T15:03:46.952Z"
   },
   {
    "duration": 14,
    "start_time": "2023-12-19T15:03:46.962Z"
   },
   {
    "duration": 16,
    "start_time": "2023-12-19T15:03:46.977Z"
   },
   {
    "duration": 6,
    "start_time": "2023-12-19T15:03:46.995Z"
   },
   {
    "duration": 10,
    "start_time": "2023-12-19T15:03:47.003Z"
   },
   {
    "duration": 11,
    "start_time": "2023-12-19T15:03:47.015Z"
   },
   {
    "duration": 6,
    "start_time": "2023-12-19T15:03:47.027Z"
   },
   {
    "duration": 7,
    "start_time": "2023-12-19T15:03:47.034Z"
   },
   {
    "duration": 6,
    "start_time": "2023-12-19T15:03:47.042Z"
   },
   {
    "duration": 22,
    "start_time": "2023-12-19T15:03:47.049Z"
   },
   {
    "duration": 7,
    "start_time": "2023-12-19T15:03:47.072Z"
   },
   {
    "duration": 15,
    "start_time": "2023-12-19T15:03:47.081Z"
   },
   {
    "duration": 19,
    "start_time": "2023-12-19T15:03:47.098Z"
   },
   {
    "duration": 14,
    "start_time": "2023-12-19T15:03:47.118Z"
   },
   {
    "duration": 7,
    "start_time": "2023-12-19T15:03:47.133Z"
   },
   {
    "duration": 196,
    "start_time": "2023-12-19T15:03:47.141Z"
   },
   {
    "duration": 110,
    "start_time": "2023-12-19T15:03:47.338Z"
   },
   {
    "duration": 5,
    "start_time": "2023-12-19T15:03:47.450Z"
   },
   {
    "duration": 270,
    "start_time": "2023-12-19T15:03:47.457Z"
   },
   {
    "duration": 9,
    "start_time": "2023-12-19T15:03:47.729Z"
   },
   {
    "duration": 486,
    "start_time": "2023-12-19T15:03:47.739Z"
   },
   {
    "duration": 8,
    "start_time": "2023-12-19T15:03:48.226Z"
   },
   {
    "duration": 579,
    "start_time": "2023-12-19T15:03:48.237Z"
   },
   {
    "duration": 26,
    "start_time": "2023-12-19T15:03:48.817Z"
   },
   {
    "duration": 38,
    "start_time": "2023-12-19T15:03:48.845Z"
   },
   {
    "duration": 33,
    "start_time": "2023-12-19T15:03:48.885Z"
   },
   {
    "duration": 55,
    "start_time": "2023-12-19T15:03:48.921Z"
   },
   {
    "duration": 10,
    "start_time": "2023-12-19T15:03:48.978Z"
   },
   {
    "duration": 466,
    "start_time": "2023-12-19T15:03:48.990Z"
   },
   {
    "duration": 8,
    "start_time": "2023-12-19T15:03:49.458Z"
   },
   {
    "duration": 493,
    "start_time": "2023-12-19T15:03:49.468Z"
   },
   {
    "duration": 8,
    "start_time": "2023-12-19T15:03:49.962Z"
   },
   {
    "duration": 579,
    "start_time": "2023-12-19T15:03:49.971Z"
   },
   {
    "duration": 14,
    "start_time": "2023-12-19T15:03:50.552Z"
   },
   {
    "duration": 481,
    "start_time": "2023-12-19T15:03:50.567Z"
   },
   {
    "duration": 3,
    "start_time": "2023-12-19T15:03:51.050Z"
   },
   {
    "duration": 44,
    "start_time": "2023-12-19T15:03:51.054Z"
   },
   {
    "duration": 14,
    "start_time": "2023-12-19T15:03:51.100Z"
   },
   {
    "duration": 21,
    "start_time": "2023-12-19T15:03:51.116Z"
   },
   {
    "duration": 38,
    "start_time": "2023-12-19T15:03:51.139Z"
   },
   {
    "duration": 6,
    "start_time": "2023-12-19T15:03:51.179Z"
   },
   {
    "duration": 6,
    "start_time": "2023-12-19T15:03:51.187Z"
   },
   {
    "duration": 29,
    "start_time": "2023-12-19T15:03:51.194Z"
   },
   {
    "duration": 19,
    "start_time": "2023-12-19T15:03:51.224Z"
   },
   {
    "duration": 4,
    "start_time": "2023-12-19T15:03:51.244Z"
   },
   {
    "duration": 153,
    "start_time": "2023-12-19T15:03:51.250Z"
   },
   {
    "duration": 6,
    "start_time": "2023-12-19T15:03:51.404Z"
   },
   {
    "duration": 175,
    "start_time": "2023-12-19T15:03:51.411Z"
   },
   {
    "duration": 6,
    "start_time": "2023-12-19T15:03:51.587Z"
   },
   {
    "duration": 10,
    "start_time": "2023-12-19T15:05:03.285Z"
   },
   {
    "duration": 5,
    "start_time": "2023-12-19T15:06:05.462Z"
   },
   {
    "duration": 4,
    "start_time": "2023-12-19T15:06:08.204Z"
   },
   {
    "duration": 5,
    "start_time": "2023-12-19T15:06:49.691Z"
   },
   {
    "duration": 4,
    "start_time": "2023-12-19T15:07:40.676Z"
   },
   {
    "duration": 5,
    "start_time": "2023-12-19T15:07:52.339Z"
   },
   {
    "duration": 5,
    "start_time": "2023-12-19T15:08:21.581Z"
   },
   {
    "duration": 119,
    "start_time": "2023-12-19T15:24:37.666Z"
   },
   {
    "duration": 7,
    "start_time": "2023-12-19T15:24:44.687Z"
   },
   {
    "duration": 1120,
    "start_time": "2023-12-19T15:24:58.606Z"
   },
   {
    "duration": 29,
    "start_time": "2023-12-19T15:24:59.727Z"
   },
   {
    "duration": 45,
    "start_time": "2023-12-19T15:24:59.758Z"
   },
   {
    "duration": 26,
    "start_time": "2023-12-19T15:24:59.805Z"
   },
   {
    "duration": 70,
    "start_time": "2023-12-19T15:24:59.832Z"
   },
   {
    "duration": 8,
    "start_time": "2023-12-19T15:24:59.904Z"
   },
   {
    "duration": 11,
    "start_time": "2023-12-19T15:24:59.914Z"
   },
   {
    "duration": 14,
    "start_time": "2023-12-19T15:24:59.927Z"
   },
   {
    "duration": 6,
    "start_time": "2023-12-19T15:24:59.943Z"
   },
   {
    "duration": 24,
    "start_time": "2023-12-19T15:24:59.952Z"
   },
   {
    "duration": 49,
    "start_time": "2023-12-19T15:24:59.978Z"
   },
   {
    "duration": 60,
    "start_time": "2023-12-19T15:25:00.029Z"
   },
   {
    "duration": 56,
    "start_time": "2023-12-19T15:25:00.091Z"
   },
   {
    "duration": 112,
    "start_time": "2023-12-19T15:25:00.148Z"
   },
   {
    "duration": 169,
    "start_time": "2023-12-19T15:25:00.262Z"
   },
   {
    "duration": 42,
    "start_time": "2023-12-19T15:25:00.433Z"
   },
   {
    "duration": 41,
    "start_time": "2023-12-19T15:25:00.477Z"
   },
   {
    "duration": 97,
    "start_time": "2023-12-19T15:25:00.520Z"
   },
   {
    "duration": 132,
    "start_time": "2023-12-19T15:25:00.619Z"
   },
   {
    "duration": 192,
    "start_time": "2023-12-19T15:25:00.752Z"
   },
   {
    "duration": 73,
    "start_time": "2023-12-19T15:25:00.946Z"
   },
   {
    "duration": 215,
    "start_time": "2023-12-19T15:25:01.021Z"
   },
   {
    "duration": 105,
    "start_time": "2023-12-19T15:25:01.238Z"
   },
   {
    "duration": 4,
    "start_time": "2023-12-19T15:25:01.345Z"
   },
   {
    "duration": 35,
    "start_time": "2023-12-19T15:25:01.351Z"
   },
   {
    "duration": 275,
    "start_time": "2023-12-19T15:25:01.388Z"
   },
   {
    "duration": 9,
    "start_time": "2023-12-19T15:25:01.665Z"
   },
   {
    "duration": 610,
    "start_time": "2023-12-19T15:25:01.679Z"
   },
   {
    "duration": 9,
    "start_time": "2023-12-19T15:25:02.290Z"
   },
   {
    "duration": 562,
    "start_time": "2023-12-19T15:25:02.300Z"
   },
   {
    "duration": 92,
    "start_time": "2023-12-19T15:25:02.865Z"
   },
   {
    "duration": 0,
    "start_time": "2023-12-19T15:25:02.965Z"
   },
   {
    "duration": 0,
    "start_time": "2023-12-19T15:25:02.966Z"
   },
   {
    "duration": 0,
    "start_time": "2023-12-19T15:25:02.967Z"
   },
   {
    "duration": 0,
    "start_time": "2023-12-19T15:25:02.968Z"
   },
   {
    "duration": 0,
    "start_time": "2023-12-19T15:25:02.969Z"
   },
   {
    "duration": 0,
    "start_time": "2023-12-19T15:25:02.970Z"
   },
   {
    "duration": 0,
    "start_time": "2023-12-19T15:25:02.971Z"
   },
   {
    "duration": 0,
    "start_time": "2023-12-19T15:25:02.972Z"
   },
   {
    "duration": 0,
    "start_time": "2023-12-19T15:25:02.973Z"
   },
   {
    "duration": 0,
    "start_time": "2023-12-19T15:25:02.974Z"
   },
   {
    "duration": 0,
    "start_time": "2023-12-19T15:25:02.975Z"
   },
   {
    "duration": 0,
    "start_time": "2023-12-19T15:25:02.976Z"
   },
   {
    "duration": 0,
    "start_time": "2023-12-19T15:25:02.977Z"
   },
   {
    "duration": 0,
    "start_time": "2023-12-19T15:25:02.978Z"
   },
   {
    "duration": 0,
    "start_time": "2023-12-19T15:25:02.979Z"
   },
   {
    "duration": 0,
    "start_time": "2023-12-19T15:25:02.980Z"
   },
   {
    "duration": 0,
    "start_time": "2023-12-19T15:25:02.981Z"
   },
   {
    "duration": 0,
    "start_time": "2023-12-19T15:25:02.982Z"
   },
   {
    "duration": 0,
    "start_time": "2023-12-19T15:25:02.983Z"
   },
   {
    "duration": 0,
    "start_time": "2023-12-19T15:25:02.984Z"
   },
   {
    "duration": 0,
    "start_time": "2023-12-19T15:25:02.985Z"
   },
   {
    "duration": 0,
    "start_time": "2023-12-19T15:25:02.986Z"
   },
   {
    "duration": 0,
    "start_time": "2023-12-19T15:25:02.987Z"
   },
   {
    "duration": 0,
    "start_time": "2023-12-19T15:25:02.987Z"
   },
   {
    "duration": 0,
    "start_time": "2023-12-19T15:25:02.989Z"
   },
   {
    "duration": 1,
    "start_time": "2023-12-19T15:25:02.989Z"
   },
   {
    "duration": 12,
    "start_time": "2023-12-19T15:25:33.640Z"
   },
   {
    "duration": 6,
    "start_time": "2023-12-19T15:27:12.390Z"
   },
   {
    "duration": 5,
    "start_time": "2023-12-19T15:28:00.814Z"
   },
   {
    "duration": 8,
    "start_time": "2023-12-19T15:28:46.714Z"
   },
   {
    "duration": 1030,
    "start_time": "2023-12-19T15:28:52.084Z"
   },
   {
    "duration": 27,
    "start_time": "2023-12-19T15:28:53.116Z"
   },
   {
    "duration": 12,
    "start_time": "2023-12-19T15:28:53.145Z"
   },
   {
    "duration": 10,
    "start_time": "2023-12-19T15:28:53.158Z"
   },
   {
    "duration": 33,
    "start_time": "2023-12-19T15:28:53.170Z"
   },
   {
    "duration": 7,
    "start_time": "2023-12-19T15:28:53.205Z"
   },
   {
    "duration": 10,
    "start_time": "2023-12-19T15:28:53.214Z"
   },
   {
    "duration": 33,
    "start_time": "2023-12-19T15:28:53.225Z"
   },
   {
    "duration": 7,
    "start_time": "2023-12-19T15:28:53.259Z"
   },
   {
    "duration": 9,
    "start_time": "2023-12-19T15:28:53.268Z"
   },
   {
    "duration": 5,
    "start_time": "2023-12-19T15:28:53.279Z"
   },
   {
    "duration": 5,
    "start_time": "2023-12-19T15:28:53.285Z"
   },
   {
    "duration": 14,
    "start_time": "2023-12-19T15:28:53.291Z"
   },
   {
    "duration": 5,
    "start_time": "2023-12-19T15:28:53.306Z"
   },
   {
    "duration": 7,
    "start_time": "2023-12-19T15:28:53.313Z"
   },
   {
    "duration": 5,
    "start_time": "2023-12-19T15:28:53.321Z"
   },
   {
    "duration": 38,
    "start_time": "2023-12-19T15:28:53.328Z"
   },
   {
    "duration": 15,
    "start_time": "2023-12-19T15:28:53.367Z"
   },
   {
    "duration": 15,
    "start_time": "2023-12-19T15:28:53.384Z"
   },
   {
    "duration": 12,
    "start_time": "2023-12-19T15:28:53.401Z"
   },
   {
    "duration": 5,
    "start_time": "2023-12-19T15:28:53.415Z"
   },
   {
    "duration": 155,
    "start_time": "2023-12-19T15:28:53.421Z"
   },
   {
    "duration": 102,
    "start_time": "2023-12-19T15:28:53.577Z"
   },
   {
    "duration": 4,
    "start_time": "2023-12-19T15:28:53.681Z"
   },
   {
    "duration": 7,
    "start_time": "2023-12-19T15:28:53.686Z"
   },
   {
    "duration": 262,
    "start_time": "2023-12-19T15:28:53.694Z"
   },
   {
    "duration": 9,
    "start_time": "2023-12-19T15:28:53.958Z"
   },
   {
    "duration": 463,
    "start_time": "2023-12-19T15:28:53.971Z"
   },
   {
    "duration": 7,
    "start_time": "2023-12-19T15:28:54.436Z"
   },
   {
    "duration": 590,
    "start_time": "2023-12-19T15:28:54.445Z"
   },
   {
    "duration": 3,
    "start_time": "2023-12-19T15:28:55.037Z"
   },
   {
    "duration": 10,
    "start_time": "2023-12-19T15:28:55.042Z"
   },
   {
    "duration": 20,
    "start_time": "2023-12-19T15:28:55.054Z"
   },
   {
    "duration": 33,
    "start_time": "2023-12-19T15:28:55.076Z"
   },
   {
    "duration": 24,
    "start_time": "2023-12-19T15:28:55.111Z"
   },
   {
    "duration": 22,
    "start_time": "2023-12-19T15:28:55.136Z"
   },
   {
    "duration": 19,
    "start_time": "2023-12-19T15:28:55.159Z"
   },
   {
    "duration": 7,
    "start_time": "2023-12-19T15:28:55.180Z"
   },
   {
    "duration": 469,
    "start_time": "2023-12-19T15:28:55.188Z"
   },
   {
    "duration": 11,
    "start_time": "2023-12-19T15:28:55.659Z"
   },
   {
    "duration": 490,
    "start_time": "2023-12-19T15:28:55.671Z"
   },
   {
    "duration": 8,
    "start_time": "2023-12-19T15:28:56.162Z"
   },
   {
    "duration": 574,
    "start_time": "2023-12-19T15:28:56.172Z"
   },
   {
    "duration": 7,
    "start_time": "2023-12-19T15:28:56.748Z"
   },
   {
    "duration": 461,
    "start_time": "2023-12-19T15:28:56.757Z"
   },
   {
    "duration": 3,
    "start_time": "2023-12-19T15:28:57.220Z"
   },
   {
    "duration": 42,
    "start_time": "2023-12-19T15:28:57.224Z"
   },
   {
    "duration": 14,
    "start_time": "2023-12-19T15:28:57.267Z"
   },
   {
    "duration": 18,
    "start_time": "2023-12-19T15:28:57.282Z"
   },
   {
    "duration": 19,
    "start_time": "2023-12-19T15:28:57.302Z"
   },
   {
    "duration": 5,
    "start_time": "2023-12-19T15:28:57.323Z"
   },
   {
    "duration": 36,
    "start_time": "2023-12-19T15:28:57.329Z"
   },
   {
    "duration": 10,
    "start_time": "2023-12-19T15:28:57.367Z"
   },
   {
    "duration": 9,
    "start_time": "2023-12-19T15:28:57.379Z"
   },
   {
    "duration": 4,
    "start_time": "2023-12-19T15:28:57.390Z"
   },
   {
    "duration": 150,
    "start_time": "2023-12-19T15:28:57.395Z"
   },
   {
    "duration": 19,
    "start_time": "2023-12-19T15:28:57.547Z"
   },
   {
    "duration": 160,
    "start_time": "2023-12-19T15:28:57.568Z"
   },
   {
    "duration": 6,
    "start_time": "2023-12-19T15:28:57.730Z"
   },
   {
    "duration": 3,
    "start_time": "2023-12-19T15:29:30.680Z"
   },
   {
    "duration": 3,
    "start_time": "2023-12-19T15:31:48.409Z"
   },
   {
    "duration": 14,
    "start_time": "2023-12-19T15:32:18.896Z"
   },
   {
    "duration": 9,
    "start_time": "2023-12-19T15:32:22.544Z"
   },
   {
    "duration": 12,
    "start_time": "2023-12-19T15:32:24.767Z"
   },
   {
    "duration": 3,
    "start_time": "2023-12-19T15:32:49.056Z"
   },
   {
    "duration": 11,
    "start_time": "2023-12-19T15:39:51.238Z"
   },
   {
    "duration": 16,
    "start_time": "2023-12-19T15:40:17.458Z"
   },
   {
    "duration": 3,
    "start_time": "2023-12-19T15:40:39.982Z"
   },
   {
    "duration": 4,
    "start_time": "2023-12-19T15:41:31.310Z"
   },
   {
    "duration": 9,
    "start_time": "2023-12-19T15:52:23.376Z"
   },
   {
    "duration": 13,
    "start_time": "2023-12-19T15:53:31.285Z"
   },
   {
    "duration": 3,
    "start_time": "2023-12-19T15:55:06.702Z"
   },
   {
    "duration": 4,
    "start_time": "2023-12-19T15:56:03.309Z"
   },
   {
    "duration": 12,
    "start_time": "2023-12-19T15:56:18.400Z"
   },
   {
    "duration": 7,
    "start_time": "2023-12-19T16:02:09.289Z"
   },
   {
    "duration": 12,
    "start_time": "2023-12-19T16:02:29.614Z"
   },
   {
    "duration": 4,
    "start_time": "2023-12-19T16:02:56.461Z"
   },
   {
    "duration": 4,
    "start_time": "2023-12-19T16:11:26.888Z"
   },
   {
    "duration": 28,
    "start_time": "2023-12-19T16:18:39.342Z"
   },
   {
    "duration": 11,
    "start_time": "2023-12-19T16:18:55.229Z"
   },
   {
    "duration": 8,
    "start_time": "2023-12-19T16:19:25.925Z"
   },
   {
    "duration": 7,
    "start_time": "2023-12-19T16:19:37.673Z"
   },
   {
    "duration": 7,
    "start_time": "2023-12-19T16:19:50.694Z"
   },
   {
    "duration": 10,
    "start_time": "2023-12-19T16:20:01.182Z"
   },
   {
    "duration": 15,
    "start_time": "2023-12-19T16:20:40.208Z"
   },
   {
    "duration": 8,
    "start_time": "2023-12-19T16:20:49.688Z"
   },
   {
    "duration": 7,
    "start_time": "2023-12-19T16:21:16.177Z"
   },
   {
    "duration": 11,
    "start_time": "2023-12-19T16:22:06.668Z"
   },
   {
    "duration": 10,
    "start_time": "2023-12-19T16:28:33.468Z"
   },
   {
    "duration": 6,
    "start_time": "2023-12-19T16:28:53.440Z"
   },
   {
    "duration": 11,
    "start_time": "2023-12-19T16:28:57.377Z"
   },
   {
    "duration": 1041,
    "start_time": "2023-12-19T16:29:26.275Z"
   },
   {
    "duration": 29,
    "start_time": "2023-12-19T16:29:27.317Z"
   },
   {
    "duration": 12,
    "start_time": "2023-12-19T16:29:27.348Z"
   },
   {
    "duration": 13,
    "start_time": "2023-12-19T16:29:27.361Z"
   },
   {
    "duration": 37,
    "start_time": "2023-12-19T16:29:27.376Z"
   },
   {
    "duration": 8,
    "start_time": "2023-12-19T16:29:27.414Z"
   },
   {
    "duration": 19,
    "start_time": "2023-12-19T16:29:27.423Z"
   },
   {
    "duration": 15,
    "start_time": "2023-12-19T16:29:27.443Z"
   },
   {
    "duration": 6,
    "start_time": "2023-12-19T16:29:27.460Z"
   },
   {
    "duration": 11,
    "start_time": "2023-12-19T16:29:27.467Z"
   },
   {
    "duration": 14,
    "start_time": "2023-12-19T16:29:27.480Z"
   },
   {
    "duration": 16,
    "start_time": "2023-12-19T16:29:27.496Z"
   },
   {
    "duration": 11,
    "start_time": "2023-12-19T16:29:27.514Z"
   },
   {
    "duration": 6,
    "start_time": "2023-12-19T16:29:27.529Z"
   },
   {
    "duration": 18,
    "start_time": "2023-12-19T16:29:27.537Z"
   },
   {
    "duration": 8,
    "start_time": "2023-12-19T16:29:27.566Z"
   },
   {
    "duration": 28,
    "start_time": "2023-12-19T16:29:27.576Z"
   },
   {
    "duration": 27,
    "start_time": "2023-12-19T16:29:27.605Z"
   },
   {
    "duration": 9,
    "start_time": "2023-12-19T16:29:27.633Z"
   },
   {
    "duration": 4,
    "start_time": "2023-12-19T16:29:27.644Z"
   },
   {
    "duration": 9,
    "start_time": "2023-12-19T16:29:27.649Z"
   },
   {
    "duration": 163,
    "start_time": "2023-12-19T16:29:27.659Z"
   },
   {
    "duration": 97,
    "start_time": "2023-12-19T16:29:27.823Z"
   },
   {
    "duration": 4,
    "start_time": "2023-12-19T16:29:27.921Z"
   },
   {
    "duration": 15,
    "start_time": "2023-12-19T16:29:27.926Z"
   },
   {
    "duration": 248,
    "start_time": "2023-12-19T16:29:27.943Z"
   },
   {
    "duration": 8,
    "start_time": "2023-12-19T16:29:28.192Z"
   },
   {
    "duration": 480,
    "start_time": "2023-12-19T16:29:28.201Z"
   },
   {
    "duration": 9,
    "start_time": "2023-12-19T16:29:28.682Z"
   },
   {
    "duration": 590,
    "start_time": "2023-12-19T16:29:28.692Z"
   },
   {
    "duration": 3,
    "start_time": "2023-12-19T16:29:29.284Z"
   },
   {
    "duration": 6,
    "start_time": "2023-12-19T16:29:29.288Z"
   },
   {
    "duration": 11,
    "start_time": "2023-12-19T16:29:29.295Z"
   },
   {
    "duration": 10,
    "start_time": "2023-12-19T16:29:29.307Z"
   },
   {
    "duration": 4,
    "start_time": "2023-12-19T16:29:29.319Z"
   },
   {
    "duration": 5,
    "start_time": "2023-12-19T16:29:29.324Z"
   },
   {
    "duration": 39,
    "start_time": "2023-12-19T16:29:29.331Z"
   },
   {
    "duration": 11,
    "start_time": "2023-12-19T16:29:29.371Z"
   },
   {
    "duration": 25,
    "start_time": "2023-12-19T16:29:29.384Z"
   },
   {
    "duration": 18,
    "start_time": "2023-12-19T16:29:29.410Z"
   },
   {
    "duration": 11,
    "start_time": "2023-12-19T16:29:29.432Z"
   },
   {
    "duration": 3,
    "start_time": "2023-12-19T16:29:29.445Z"
   },
   {
    "duration": 7,
    "start_time": "2023-12-19T16:29:29.450Z"
   },
   {
    "duration": 12,
    "start_time": "2023-12-19T16:29:29.458Z"
   },
   {
    "duration": 7,
    "start_time": "2023-12-19T16:29:29.471Z"
   },
   {
    "duration": 8,
    "start_time": "2023-12-19T16:29:29.479Z"
   },
   {
    "duration": 477,
    "start_time": "2023-12-19T16:29:29.488Z"
   },
   {
    "duration": 8,
    "start_time": "2023-12-19T16:29:29.966Z"
   },
   {
    "duration": 477,
    "start_time": "2023-12-19T16:29:29.976Z"
   },
   {
    "duration": 11,
    "start_time": "2023-12-19T16:29:30.454Z"
   },
   {
    "duration": 618,
    "start_time": "2023-12-19T16:29:30.467Z"
   },
   {
    "duration": 8,
    "start_time": "2023-12-19T16:29:31.086Z"
   },
   {
    "duration": 505,
    "start_time": "2023-12-19T16:29:31.096Z"
   },
   {
    "duration": 3,
    "start_time": "2023-12-19T16:29:31.603Z"
   },
   {
    "duration": 48,
    "start_time": "2023-12-19T16:29:31.608Z"
   },
   {
    "duration": 8,
    "start_time": "2023-12-19T16:29:31.658Z"
   },
   {
    "duration": 20,
    "start_time": "2023-12-19T16:29:31.667Z"
   },
   {
    "duration": 29,
    "start_time": "2023-12-19T16:29:31.688Z"
   },
   {
    "duration": 27,
    "start_time": "2023-12-19T16:29:31.719Z"
   },
   {
    "duration": 36,
    "start_time": "2023-12-19T16:29:31.747Z"
   },
   {
    "duration": 44,
    "start_time": "2023-12-19T16:29:31.785Z"
   },
   {
    "duration": 33,
    "start_time": "2023-12-19T16:29:31.831Z"
   },
   {
    "duration": 15,
    "start_time": "2023-12-19T16:29:31.866Z"
   },
   {
    "duration": 12,
    "start_time": "2023-12-19T16:29:31.883Z"
   },
   {
    "duration": 17,
    "start_time": "2023-12-19T16:29:31.897Z"
   },
   {
    "duration": 54,
    "start_time": "2023-12-19T16:29:31.915Z"
   },
   {
    "duration": 15,
    "start_time": "2023-12-19T16:29:31.970Z"
   },
   {
    "duration": 5,
    "start_time": "2023-12-19T16:29:31.986Z"
   },
   {
    "duration": 151,
    "start_time": "2023-12-19T16:29:31.992Z"
   },
   {
    "duration": 6,
    "start_time": "2023-12-19T16:29:32.144Z"
   },
   {
    "duration": 171,
    "start_time": "2023-12-19T16:29:32.152Z"
   },
   {
    "duration": 6,
    "start_time": "2023-12-19T16:29:32.325Z"
   },
   {
    "duration": 7,
    "start_time": "2023-12-19T17:10:10.756Z"
   },
   {
    "duration": 6,
    "start_time": "2023-12-19T17:12:39.089Z"
   },
   {
    "duration": 5,
    "start_time": "2023-12-19T17:13:01.650Z"
   },
   {
    "duration": 6,
    "start_time": "2023-12-19T17:13:33.449Z"
   },
   {
    "duration": 1076,
    "start_time": "2023-12-19T20:12:04.484Z"
   },
   {
    "duration": 28,
    "start_time": "2023-12-19T20:12:05.562Z"
   },
   {
    "duration": 12,
    "start_time": "2023-12-19T20:12:05.591Z"
   },
   {
    "duration": 19,
    "start_time": "2023-12-19T20:12:05.605Z"
   },
   {
    "duration": 33,
    "start_time": "2023-12-19T20:12:05.626Z"
   },
   {
    "duration": 9,
    "start_time": "2023-12-19T20:12:05.660Z"
   },
   {
    "duration": 10,
    "start_time": "2023-12-19T20:12:05.671Z"
   },
   {
    "duration": 14,
    "start_time": "2023-12-19T20:12:05.683Z"
   },
   {
    "duration": 7,
    "start_time": "2023-12-19T20:12:05.698Z"
   },
   {
    "duration": 22,
    "start_time": "2023-12-19T20:12:05.708Z"
   },
   {
    "duration": 7,
    "start_time": "2023-12-19T20:12:05.731Z"
   },
   {
    "duration": 14,
    "start_time": "2023-12-19T20:12:05.739Z"
   },
   {
    "duration": 9,
    "start_time": "2023-12-19T20:12:05.755Z"
   },
   {
    "duration": 8,
    "start_time": "2023-12-19T20:12:05.765Z"
   },
   {
    "duration": 10,
    "start_time": "2023-12-19T20:12:05.775Z"
   },
   {
    "duration": 17,
    "start_time": "2023-12-19T20:12:05.786Z"
   },
   {
    "duration": 8,
    "start_time": "2023-12-19T20:12:05.805Z"
   },
   {
    "duration": 22,
    "start_time": "2023-12-19T20:12:05.814Z"
   },
   {
    "duration": 13,
    "start_time": "2023-12-19T20:12:05.838Z"
   },
   {
    "duration": 7,
    "start_time": "2023-12-19T20:12:05.852Z"
   },
   {
    "duration": 5,
    "start_time": "2023-12-19T20:12:05.860Z"
   },
   {
    "duration": 179,
    "start_time": "2023-12-19T20:12:05.867Z"
   },
   {
    "duration": 99,
    "start_time": "2023-12-19T20:12:06.047Z"
   },
   {
    "duration": 3,
    "start_time": "2023-12-19T20:12:06.148Z"
   },
   {
    "duration": 9,
    "start_time": "2023-12-19T20:12:06.153Z"
   },
   {
    "duration": 269,
    "start_time": "2023-12-19T20:12:06.163Z"
   },
   {
    "duration": 8,
    "start_time": "2023-12-19T20:12:06.434Z"
   },
   {
    "duration": 504,
    "start_time": "2023-12-19T20:12:06.446Z"
   },
   {
    "duration": 8,
    "start_time": "2023-12-19T20:12:06.951Z"
   },
   {
    "duration": 591,
    "start_time": "2023-12-19T20:12:06.961Z"
   },
   {
    "duration": 3,
    "start_time": "2023-12-19T20:12:07.554Z"
   },
   {
    "duration": 11,
    "start_time": "2023-12-19T20:12:07.558Z"
   },
   {
    "duration": 23,
    "start_time": "2023-12-19T20:12:07.571Z"
   },
   {
    "duration": 29,
    "start_time": "2023-12-19T20:12:07.596Z"
   },
   {
    "duration": 4,
    "start_time": "2023-12-19T20:12:07.628Z"
   },
   {
    "duration": 8,
    "start_time": "2023-12-19T20:12:07.633Z"
   },
   {
    "duration": 16,
    "start_time": "2023-12-19T20:12:07.643Z"
   },
   {
    "duration": 17,
    "start_time": "2023-12-19T20:12:07.660Z"
   },
   {
    "duration": 19,
    "start_time": "2023-12-19T20:12:07.678Z"
   },
   {
    "duration": 42,
    "start_time": "2023-12-19T20:12:07.699Z"
   },
   {
    "duration": 16,
    "start_time": "2023-12-19T20:12:07.742Z"
   },
   {
    "duration": 8,
    "start_time": "2023-12-19T20:12:07.760Z"
   },
   {
    "duration": 38,
    "start_time": "2023-12-19T20:12:07.769Z"
   },
   {
    "duration": 26,
    "start_time": "2023-12-19T20:12:07.808Z"
   },
   {
    "duration": 10,
    "start_time": "2023-12-19T20:12:07.836Z"
   },
   {
    "duration": 8,
    "start_time": "2023-12-19T20:12:07.847Z"
   },
   {
    "duration": 482,
    "start_time": "2023-12-19T20:12:07.857Z"
   },
   {
    "duration": 10,
    "start_time": "2023-12-19T20:12:08.341Z"
   },
   {
    "duration": 527,
    "start_time": "2023-12-19T20:12:08.352Z"
   },
   {
    "duration": 7,
    "start_time": "2023-12-19T20:12:08.881Z"
   },
   {
    "duration": 616,
    "start_time": "2023-12-19T20:12:08.890Z"
   },
   {
    "duration": 18,
    "start_time": "2023-12-19T20:12:09.510Z"
   },
   {
    "duration": 497,
    "start_time": "2023-12-19T20:12:09.530Z"
   },
   {
    "duration": 4,
    "start_time": "2023-12-19T20:12:10.028Z"
   },
   {
    "duration": 31,
    "start_time": "2023-12-19T20:12:10.033Z"
   },
   {
    "duration": 8,
    "start_time": "2023-12-19T20:12:10.066Z"
   },
   {
    "duration": 10,
    "start_time": "2023-12-19T20:12:10.076Z"
   },
   {
    "duration": 8,
    "start_time": "2023-12-19T20:12:10.088Z"
   },
   {
    "duration": 23,
    "start_time": "2023-12-19T20:12:10.098Z"
   },
   {
    "duration": 11,
    "start_time": "2023-12-19T20:12:10.122Z"
   },
   {
    "duration": 11,
    "start_time": "2023-12-19T20:12:10.134Z"
   },
   {
    "duration": 4,
    "start_time": "2023-12-19T20:12:10.147Z"
   },
   {
    "duration": 10,
    "start_time": "2023-12-19T20:12:10.153Z"
   },
   {
    "duration": 5,
    "start_time": "2023-12-19T20:12:10.165Z"
   },
   {
    "duration": 4,
    "start_time": "2023-12-19T20:12:10.171Z"
   },
   {
    "duration": 46,
    "start_time": "2023-12-19T20:12:10.177Z"
   },
   {
    "duration": 5,
    "start_time": "2023-12-19T20:12:10.225Z"
   },
   {
    "duration": 5,
    "start_time": "2023-12-19T20:12:10.232Z"
   },
   {
    "duration": 138,
    "start_time": "2023-12-19T20:12:10.238Z"
   },
   {
    "duration": 5,
    "start_time": "2023-12-19T20:12:10.378Z"
   },
   {
    "duration": 162,
    "start_time": "2023-12-19T20:12:10.385Z"
   },
   {
    "duration": 6,
    "start_time": "2023-12-19T20:12:10.549Z"
   }
  ],
  "kernelspec": {
   "display_name": "Python 3 (ipykernel)",
   "language": "python",
   "name": "python3"
  },
  "language_info": {
   "codemirror_mode": {
    "name": "ipython",
    "version": 3
   },
   "file_extension": ".py",
   "mimetype": "text/x-python",
   "name": "python",
   "nbconvert_exporter": "python",
   "pygments_lexer": "ipython3",
   "version": "3.11.4"
  },
  "toc": {
   "base_numbering": 1,
   "nav_menu": {},
   "number_sections": true,
   "sideBar": true,
   "skip_h1_title": true,
   "title_cell": "Table of Contents",
   "title_sidebar": "Contents",
   "toc_cell": false,
   "toc_position": {
    "height": "calc(100% - 180px)",
    "left": "10px",
    "top": "150px",
    "width": "165px"
   },
   "toc_section_display": true,
   "toc_window_display": true
  }
 },
 "nbformat": 4,
 "nbformat_minor": 5
}
