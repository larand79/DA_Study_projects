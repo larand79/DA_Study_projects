{
 "cells": [
  {
   "cell_type": "markdown",
   "id": "3124d285",
   "metadata": {},
   "source": [
    "# Исследование надежности заёмщиков"
   ]
  },
  {
   "cell_type": "markdown",
   "id": "84e17b88",
   "metadata": {},
   "source": [
    "\n",
    "**Цель исследования**  \n",
    "\n",
    "Нужно разобраться, как разные характеристика клиента влияют на факт погашения кредита в срок.    \n",
    "Результаты исследования будут учтены при построении модели кредитного скоринга — специальной системы, которая оценивает способность потенциального заёмщика вернуть кредит банку.\n",
    "\n",
    "**Заказчик**    \n",
    "\n",
    "Кредитный отдел банка.\n",
    "\n",
    "**Вопросы, на которые необходимо ответить:**    \n",
    "\n",
    "* Есть ли зависимость между количеством детей и возвратом кредита в срок?\n",
    "* Есть ли зависимость между семейным положением и возвратом кредита в срок?\n",
    "* Есть ли зависимость между уровнем дохода и возвратом кредита в срок?\n",
    "* Как разные цели кредита влияют на его возврат в срок?\n",
    "\n",
    "**Ход исследования**    \n",
    "\n",
    "Входные данные от банка — статистика о платёжеспособности клиентов, файл `data.csv`.    \n",
    "О качестве данных ничего не известно. Поэтому перед проверкой гипотез понадобится обзор данных.\n",
    "\n",
    "Мы проверим данные на ошибки и оценим их влияние на исследование. Затем, на этапе предобработки поищем возможность исправить самые критичные ошибки.\n",
    "\n",
    "Таким образом, исследование пройдёт в три этапа:\n",
    "\n",
    "* Обзор данных.\n",
    "* Предобработка данных.\n",
    "* Ответы на вопросы.\n"
   ]
  },
  {
   "cell_type": "markdown",
   "id": "b1644f06",
   "metadata": {},
   "source": [
    "## Шаг 1. Обзор данных"
   ]
  },
  {
   "cell_type": "code",
   "execution_count": 1,
   "id": "27ebdeba",
   "metadata": {},
   "outputs": [],
   "source": [
    "# импорт библиотек\n",
    "\n",
    "import pandas as pd   \n",
    "import seaborn as sns    \n",
    "import matplotlib.pyplot as plt"
   ]
  },
  {
   "cell_type": "code",
   "execution_count": 2,
   "id": "e31ccf73",
   "metadata": {},
   "outputs": [],
   "source": [
    "# чтение файла с данными и сохранение в df\n",
    "\n",
    "try:\n",
    "    df = pd.read_csv('/datasets/data.csv')\n",
    "except:\n",
    "    df = pd.read_csv('data.csv')"
   ]
  },
  {
   "cell_type": "code",
   "execution_count": 3,
   "id": "387bb4fc",
   "metadata": {},
   "outputs": [
    {
     "data": {
      "text/html": [
       "<div>\n",
       "<style scoped>\n",
       "    .dataframe tbody tr th:only-of-type {\n",
       "        vertical-align: middle;\n",
       "    }\n",
       "\n",
       "    .dataframe tbody tr th {\n",
       "        vertical-align: top;\n",
       "    }\n",
       "\n",
       "    .dataframe thead th {\n",
       "        text-align: right;\n",
       "    }\n",
       "</style>\n",
       "<table border=\"1\" class=\"dataframe\">\n",
       "  <thead>\n",
       "    <tr style=\"text-align: right;\">\n",
       "      <th></th>\n",
       "      <th>children</th>\n",
       "      <th>days_employed</th>\n",
       "      <th>dob_years</th>\n",
       "      <th>education</th>\n",
       "      <th>education_id</th>\n",
       "      <th>family_status</th>\n",
       "      <th>family_status_id</th>\n",
       "      <th>gender</th>\n",
       "      <th>income_type</th>\n",
       "      <th>debt</th>\n",
       "      <th>total_income</th>\n",
       "      <th>purpose</th>\n",
       "    </tr>\n",
       "  </thead>\n",
       "  <tbody>\n",
       "    <tr>\n",
       "      <th>0</th>\n",
       "      <td>1</td>\n",
       "      <td>-8437.673028</td>\n",
       "      <td>42</td>\n",
       "      <td>высшее</td>\n",
       "      <td>0</td>\n",
       "      <td>женат / замужем</td>\n",
       "      <td>0</td>\n",
       "      <td>F</td>\n",
       "      <td>сотрудник</td>\n",
       "      <td>0</td>\n",
       "      <td>253875.639453</td>\n",
       "      <td>покупка жилья</td>\n",
       "    </tr>\n",
       "    <tr>\n",
       "      <th>1</th>\n",
       "      <td>1</td>\n",
       "      <td>-4024.803754</td>\n",
       "      <td>36</td>\n",
       "      <td>среднее</td>\n",
       "      <td>1</td>\n",
       "      <td>женат / замужем</td>\n",
       "      <td>0</td>\n",
       "      <td>F</td>\n",
       "      <td>сотрудник</td>\n",
       "      <td>0</td>\n",
       "      <td>112080.014102</td>\n",
       "      <td>приобретение автомобиля</td>\n",
       "    </tr>\n",
       "    <tr>\n",
       "      <th>2</th>\n",
       "      <td>0</td>\n",
       "      <td>-5623.422610</td>\n",
       "      <td>33</td>\n",
       "      <td>Среднее</td>\n",
       "      <td>1</td>\n",
       "      <td>женат / замужем</td>\n",
       "      <td>0</td>\n",
       "      <td>M</td>\n",
       "      <td>сотрудник</td>\n",
       "      <td>0</td>\n",
       "      <td>145885.952297</td>\n",
       "      <td>покупка жилья</td>\n",
       "    </tr>\n",
       "    <tr>\n",
       "      <th>3</th>\n",
       "      <td>3</td>\n",
       "      <td>-4124.747207</td>\n",
       "      <td>32</td>\n",
       "      <td>среднее</td>\n",
       "      <td>1</td>\n",
       "      <td>женат / замужем</td>\n",
       "      <td>0</td>\n",
       "      <td>M</td>\n",
       "      <td>сотрудник</td>\n",
       "      <td>0</td>\n",
       "      <td>267628.550329</td>\n",
       "      <td>дополнительное образование</td>\n",
       "    </tr>\n",
       "    <tr>\n",
       "      <th>4</th>\n",
       "      <td>0</td>\n",
       "      <td>340266.072047</td>\n",
       "      <td>53</td>\n",
       "      <td>среднее</td>\n",
       "      <td>1</td>\n",
       "      <td>гражданский брак</td>\n",
       "      <td>1</td>\n",
       "      <td>F</td>\n",
       "      <td>пенсионер</td>\n",
       "      <td>0</td>\n",
       "      <td>158616.077870</td>\n",
       "      <td>сыграть свадьбу</td>\n",
       "    </tr>\n",
       "  </tbody>\n",
       "</table>\n",
       "</div>"
      ],
      "text/plain": [
       "   children  days_employed  dob_years education  education_id  \\\n",
       "0         1   -8437.673028         42    высшее             0   \n",
       "1         1   -4024.803754         36   среднее             1   \n",
       "2         0   -5623.422610         33   Среднее             1   \n",
       "3         3   -4124.747207         32   среднее             1   \n",
       "4         0  340266.072047         53   среднее             1   \n",
       "\n",
       "      family_status  family_status_id gender income_type  debt   total_income  \\\n",
       "0   женат / замужем                 0      F   сотрудник     0  253875.639453   \n",
       "1   женат / замужем                 0      F   сотрудник     0  112080.014102   \n",
       "2   женат / замужем                 0      M   сотрудник     0  145885.952297   \n",
       "3   женат / замужем                 0      M   сотрудник     0  267628.550329   \n",
       "4  гражданский брак                 1      F   пенсионер     0  158616.077870   \n",
       "\n",
       "                      purpose  \n",
       "0               покупка жилья  \n",
       "1     приобретение автомобиля  \n",
       "2               покупка жилья  \n",
       "3  дополнительное образование  \n",
       "4             сыграть свадьбу  "
      ]
     },
     "execution_count": 3,
     "metadata": {},
     "output_type": "execute_result"
    }
   ],
   "source": [
    "df.head()    # выводим на просмотр первые 5 строк таблицы"
   ]
  },
  {
   "cell_type": "code",
   "execution_count": 4,
   "id": "2f1dfd2f",
   "metadata": {},
   "outputs": [
    {
     "name": "stdout",
     "output_type": "stream",
     "text": [
      "<class 'pandas.core.frame.DataFrame'>\n",
      "RangeIndex: 21525 entries, 0 to 21524\n",
      "Data columns (total 12 columns):\n",
      " #   Column            Non-Null Count  Dtype  \n",
      "---  ------            --------------  -----  \n",
      " 0   children          21525 non-null  int64  \n",
      " 1   days_employed     19351 non-null  float64\n",
      " 2   dob_years         21525 non-null  int64  \n",
      " 3   education         21525 non-null  object \n",
      " 4   education_id      21525 non-null  int64  \n",
      " 5   family_status     21525 non-null  object \n",
      " 6   family_status_id  21525 non-null  int64  \n",
      " 7   gender            21525 non-null  object \n",
      " 8   income_type       21525 non-null  object \n",
      " 9   debt              21525 non-null  int64  \n",
      " 10  total_income      19351 non-null  float64\n",
      " 11  purpose           21525 non-null  object \n",
      "dtypes: float64(2), int64(5), object(5)\n",
      "memory usage: 2.0+ MB\n"
     ]
    }
   ],
   "source": [
    "df.info()    # получение общей информации о данных в таблице df"
   ]
  },
  {
   "cell_type": "markdown",
   "id": "069f2d11",
   "metadata": {},
   "source": [
    "Итак, в таблице двенадцать столбцов. Тип данных во всех столбцах — `object`, `float` и `int`.\n",
    "\n",
    "Согласно документации к данным:\n",
    "* `children` — количество детей в семье;\n",
    "* `days_employed` — общий трудовой стаж в днях;\n",
    "* `dob_years` — возраст клиента в годах;\n",
    "* `education` — уровень образования клиента;\n",
    "* `education_id` — идентификатор уровня образования;\n",
    "* `family_status` — семейное положение;\n",
    "* `family_status_id` — идентификатор семейного положения;\n",
    "* `gender` — пол клиента;\n",
    "* `income_type` — тип занятости;\n",
    "* `debt` — имел ли задолженность по возврату кредитов;\n",
    "* `total_income` — ежемесячный доход;\n",
    "* `purpose` — цель получения кредита;\n",
    "\n",
    "Количество значений в столбцах различается. Значит, в данных есть пропущенные значения.\n"
   ]
  },
  {
   "cell_type": "code",
   "execution_count": 5,
   "id": "ce92b054",
   "metadata": {},
   "outputs": [
    {
     "data": {
      "text/html": [
       "<div>\n",
       "<style scoped>\n",
       "    .dataframe tbody tr th:only-of-type {\n",
       "        vertical-align: middle;\n",
       "    }\n",
       "\n",
       "    .dataframe tbody tr th {\n",
       "        vertical-align: top;\n",
       "    }\n",
       "\n",
       "    .dataframe thead th {\n",
       "        text-align: right;\n",
       "    }\n",
       "</style>\n",
       "<table border=\"1\" class=\"dataframe\">\n",
       "  <thead>\n",
       "    <tr style=\"text-align: right;\">\n",
       "      <th></th>\n",
       "      <th>children</th>\n",
       "      <th>days_employed</th>\n",
       "      <th>dob_years</th>\n",
       "      <th>education_id</th>\n",
       "      <th>family_status_id</th>\n",
       "      <th>debt</th>\n",
       "      <th>total_income</th>\n",
       "    </tr>\n",
       "  </thead>\n",
       "  <tbody>\n",
       "    <tr>\n",
       "      <th>count</th>\n",
       "      <td>21525.000000</td>\n",
       "      <td>19351.000000</td>\n",
       "      <td>21525.000000</td>\n",
       "      <td>21525.000000</td>\n",
       "      <td>21525.000000</td>\n",
       "      <td>21525.000000</td>\n",
       "      <td>1.935100e+04</td>\n",
       "    </tr>\n",
       "    <tr>\n",
       "      <th>mean</th>\n",
       "      <td>0.538908</td>\n",
       "      <td>63046.497661</td>\n",
       "      <td>43.293380</td>\n",
       "      <td>0.817236</td>\n",
       "      <td>0.972544</td>\n",
       "      <td>0.080883</td>\n",
       "      <td>1.674223e+05</td>\n",
       "    </tr>\n",
       "    <tr>\n",
       "      <th>std</th>\n",
       "      <td>1.381587</td>\n",
       "      <td>140827.311974</td>\n",
       "      <td>12.574584</td>\n",
       "      <td>0.548138</td>\n",
       "      <td>1.420324</td>\n",
       "      <td>0.272661</td>\n",
       "      <td>1.029716e+05</td>\n",
       "    </tr>\n",
       "    <tr>\n",
       "      <th>min</th>\n",
       "      <td>-1.000000</td>\n",
       "      <td>-18388.949901</td>\n",
       "      <td>0.000000</td>\n",
       "      <td>0.000000</td>\n",
       "      <td>0.000000</td>\n",
       "      <td>0.000000</td>\n",
       "      <td>2.066726e+04</td>\n",
       "    </tr>\n",
       "    <tr>\n",
       "      <th>25%</th>\n",
       "      <td>0.000000</td>\n",
       "      <td>-2747.423625</td>\n",
       "      <td>33.000000</td>\n",
       "      <td>1.000000</td>\n",
       "      <td>0.000000</td>\n",
       "      <td>0.000000</td>\n",
       "      <td>1.030532e+05</td>\n",
       "    </tr>\n",
       "    <tr>\n",
       "      <th>50%</th>\n",
       "      <td>0.000000</td>\n",
       "      <td>-1203.369529</td>\n",
       "      <td>42.000000</td>\n",
       "      <td>1.000000</td>\n",
       "      <td>0.000000</td>\n",
       "      <td>0.000000</td>\n",
       "      <td>1.450179e+05</td>\n",
       "    </tr>\n",
       "    <tr>\n",
       "      <th>75%</th>\n",
       "      <td>1.000000</td>\n",
       "      <td>-291.095954</td>\n",
       "      <td>53.000000</td>\n",
       "      <td>1.000000</td>\n",
       "      <td>1.000000</td>\n",
       "      <td>0.000000</td>\n",
       "      <td>2.034351e+05</td>\n",
       "    </tr>\n",
       "    <tr>\n",
       "      <th>max</th>\n",
       "      <td>20.000000</td>\n",
       "      <td>401755.400475</td>\n",
       "      <td>75.000000</td>\n",
       "      <td>4.000000</td>\n",
       "      <td>4.000000</td>\n",
       "      <td>1.000000</td>\n",
       "      <td>2.265604e+06</td>\n",
       "    </tr>\n",
       "  </tbody>\n",
       "</table>\n",
       "</div>"
      ],
      "text/plain": [
       "           children  days_employed     dob_years  education_id  \\\n",
       "count  21525.000000   19351.000000  21525.000000  21525.000000   \n",
       "mean       0.538908   63046.497661     43.293380      0.817236   \n",
       "std        1.381587  140827.311974     12.574584      0.548138   \n",
       "min       -1.000000  -18388.949901      0.000000      0.000000   \n",
       "25%        0.000000   -2747.423625     33.000000      1.000000   \n",
       "50%        0.000000   -1203.369529     42.000000      1.000000   \n",
       "75%        1.000000    -291.095954     53.000000      1.000000   \n",
       "max       20.000000  401755.400475     75.000000      4.000000   \n",
       "\n",
       "       family_status_id          debt  total_income  \n",
       "count      21525.000000  21525.000000  1.935100e+04  \n",
       "mean           0.972544      0.080883  1.674223e+05  \n",
       "std            1.420324      0.272661  1.029716e+05  \n",
       "min            0.000000      0.000000  2.066726e+04  \n",
       "25%            0.000000      0.000000  1.030532e+05  \n",
       "50%            0.000000      0.000000  1.450179e+05  \n",
       "75%            1.000000      0.000000  2.034351e+05  \n",
       "max            4.000000      1.000000  2.265604e+06  "
      ]
     },
     "execution_count": 5,
     "metadata": {},
     "output_type": "execute_result"
    }
   ],
   "source": [
    "df.describe()"
   ]
  },
  {
   "cell_type": "markdown",
   "id": "664c5ca5",
   "metadata": {},
   "source": [
    "**Выводы**\n",
    "\n",
    "В каждой строке таблицы — данные о заёмщике. Предварительно можно утверждать, что информации достаточно для пответов на вопросы.\n",
    "\n",
    "Но встречаются пропуски в данных, заменты артефакты (например, отрицательное количество дней стажа), возможны дубликаты, и, скорее всего, потребуется изменение формата в колонках для удобства.\n",
    "\n",
    "Приступаем к предобработке данных."
   ]
  },
  {
   "cell_type": "markdown",
   "id": "ec0e2bd9",
   "metadata": {},
   "source": [
    "## Шаг 2. Предобработка данных\n",
    "\n",
    "Удалим дубликаты, исключим пропуски, приведем данные в столбцах к единому стилю, оптимизируем данные в таблице путем категоризации."
   ]
  },
  {
   "cell_type": "markdown",
   "id": "e5421658",
   "metadata": {},
   "source": [
    "### Удаление дубликатов"
   ]
  },
  {
   "cell_type": "markdown",
   "id": "8cf6bb27",
   "metadata": {},
   "source": [
    "Проверим датафрейм на наличие явных дубликатов и избавимся от них."
   ]
  },
  {
   "cell_type": "code",
   "execution_count": 6,
   "id": "b2e38921",
   "metadata": {},
   "outputs": [
    {
     "data": {
      "text/plain": [
       "54"
      ]
     },
     "execution_count": 6,
     "metadata": {},
     "output_type": "execute_result"
    }
   ],
   "source": [
    "df.duplicated().sum()    # подсчёт явных дубликатов"
   ]
  },
  {
   "cell_type": "code",
   "execution_count": 7,
   "id": "b8ac87ba",
   "metadata": {},
   "outputs": [
    {
     "data": {
      "text/plain": [
       "0"
      ]
     },
     "execution_count": 7,
     "metadata": {},
     "output_type": "execute_result"
    }
   ],
   "source": [
    "# удаление явных дубликатов (с удалением старых индексов и формированием новых)\n",
    "\n",
    "df = df.drop_duplicates().reset_index(drop=True)\n",
    "df.duplicated().sum()    # проверка"
   ]
  },
  {
   "cell_type": "markdown",
   "id": "cbae4390",
   "metadata": {},
   "source": [
    "Проведем работу с текстом в столбцах: для этого выведем каждый столбец и визуально оценим его значения на уникальность.     \n",
    "Не исключено, что придется вносить изменения, если ошибки критичны и могут повлиять на результат исследования."
   ]
  },
  {
   "cell_type": "code",
   "execution_count": 8,
   "id": "1ce5101a",
   "metadata": {
    "scrolled": true
   },
   "outputs": [
    {
     "data": {
      "text/plain": [
       "среднее                13705\n",
       "высшее                  4710\n",
       "СРЕДНЕЕ                  772\n",
       "Среднее                  711\n",
       "неоконченное высшее      668\n",
       "ВЫСШЕЕ                   273\n",
       "Высшее                   268\n",
       "начальное                250\n",
       "Неоконченное высшее       47\n",
       "НЕОКОНЧЕННОЕ ВЫСШЕЕ       29\n",
       "НАЧАЛЬНОЕ                 17\n",
       "Начальное                 15\n",
       "ученая степень             4\n",
       "УЧЕНАЯ СТЕПЕНЬ             1\n",
       "Ученая степень             1\n",
       "Name: education, dtype: int64"
      ]
     },
     "execution_count": 8,
     "metadata": {},
     "output_type": "execute_result"
    }
   ],
   "source": [
    "df['education'].value_counts()    # просмотр уникальных значений"
   ]
  },
  {
   "cell_type": "markdown",
   "id": "6f97924e",
   "metadata": {},
   "source": [
    "Предположу, что информация могла быть сведена из разных баз, где предполагаемые варианты для выбора (при заполнении анкеты) написаны в разных стилях.\n",
    "\n",
    "Приведем все значения к нижнему регистру."
   ]
  },
  {
   "cell_type": "code",
   "execution_count": 9,
   "id": "916e81bb",
   "metadata": {},
   "outputs": [
    {
     "data": {
      "text/plain": [
       "среднее                15188\n",
       "высшее                  5251\n",
       "неоконченное высшее      744\n",
       "начальное                282\n",
       "ученая степень             6\n",
       "Name: education, dtype: int64"
      ]
     },
     "execution_count": 9,
     "metadata": {},
     "output_type": "execute_result"
    }
   ],
   "source": [
    "#приводим все символы в строке к нижнему регистру, проверяем результат\n",
    "\n",
    "df['education'] = df['education'].str.lower()\n",
    "df['education'].value_counts()    # проверка"
   ]
  },
  {
   "cell_type": "code",
   "execution_count": 10,
   "id": "d059a55c",
   "metadata": {},
   "outputs": [
    {
     "data": {
      "text/plain": [
       "женат / замужем          12344\n",
       "гражданский брак          4163\n",
       "Не женат / не замужем     2810\n",
       "в разводе                 1195\n",
       "вдовец / вдова             959\n",
       "Name: family_status, dtype: int64"
      ]
     },
     "execution_count": 10,
     "metadata": {},
     "output_type": "execute_result"
    }
   ],
   "source": [
    "df['family_status'].value_counts()    # просмотр уникальных значений"
   ]
  },
  {
   "cell_type": "markdown",
   "id": "ef5a38c3",
   "metadata": {},
   "source": [
    "Одно из значений начинается с заглавной буквы. Приведем все к единой стилистике."
   ]
  },
  {
   "cell_type": "code",
   "execution_count": 11,
   "id": "48141743",
   "metadata": {},
   "outputs": [],
   "source": [
    "df['family_status'] = df['family_status'].str.lower()    #приводим все символы в строке к нижнему регистру"
   ]
  },
  {
   "cell_type": "code",
   "execution_count": 12,
   "id": "6d1f179e",
   "metadata": {},
   "outputs": [
    {
     "data": {
      "text/plain": [
       "сотрудник          11091\n",
       "компаньон           5080\n",
       "пенсионер           3837\n",
       "госслужащий         1457\n",
       "безработный            2\n",
       "предприниматель        2\n",
       "в декрете              1\n",
       "студент                1\n",
       "Name: income_type, dtype: int64"
      ]
     },
     "execution_count": 12,
     "metadata": {},
     "output_type": "execute_result"
    }
   ],
   "source": [
    "df['income_type'].value_counts()     # просмотр уникальных значений"
   ]
  },
  {
   "cell_type": "code",
   "execution_count": 13,
   "id": "0c953201",
   "metadata": {},
   "outputs": [
    {
     "data": {
      "text/plain": [
       "F      14189\n",
       "M       7281\n",
       "XNA        1\n",
       "Name: gender, dtype: int64"
      ]
     },
     "execution_count": 13,
     "metadata": {},
     "output_type": "execute_result"
    }
   ],
   "source": [
    "df['gender'].value_counts()     # просмотр уникальных значений"
   ]
  },
  {
   "cell_type": "markdown",
   "id": "7fec5ce3",
   "metadata": {},
   "source": [
    "Интересно: в данных встречаются три разных половых принадлежности. Запомним этот момент и вернемся к нему позже."
   ]
  },
  {
   "cell_type": "code",
   "execution_count": 14,
   "id": "4c7b5dd4",
   "metadata": {},
   "outputs": [
    {
     "data": {
      "text/plain": [
       "свадьба                                   793\n",
       "на проведение свадьбы                     773\n",
       "сыграть свадьбу                           769\n",
       "операции с недвижимостью                  675\n",
       "покупка коммерческой недвижимости         662\n",
       "покупка жилья для сдачи                   652\n",
       "операции с жильем                         652\n",
       "операции с коммерческой недвижимостью     650\n",
       "покупка жилья                             646\n",
       "жилье                                     646\n",
       "покупка жилья для семьи                   638\n",
       "строительство собственной недвижимости    635\n",
       "недвижимость                              633\n",
       "операции со своей недвижимостью           627\n",
       "строительство жилой недвижимости          625\n",
       "покупка недвижимости                      621\n",
       "покупка своего жилья                      620\n",
       "строительство недвижимости                619\n",
       "ремонт жилью                              607\n",
       "покупка жилой недвижимости                606\n",
       "на покупку своего автомобиля              505\n",
       "заняться высшим образованием              496\n",
       "автомобиль                                494\n",
       "сделка с подержанным автомобилем          486\n",
       "свой автомобиль                           479\n",
       "автомобили                                478\n",
       "на покупку подержанного автомобиля        478\n",
       "на покупку автомобиля                     472\n",
       "приобретение автомобиля                   461\n",
       "дополнительное образование                460\n",
       "сделка с автомобилем                      455\n",
       "высшее образование                        452\n",
       "получение дополнительного образования     447\n",
       "образование                               447\n",
       "получение образования                     442\n",
       "профильное образование                    436\n",
       "получение высшего образования             426\n",
       "заняться образованием                     408\n",
       "Name: purpose, dtype: int64"
      ]
     },
     "execution_count": 14,
     "metadata": {},
     "output_type": "execute_result"
    }
   ],
   "source": [
    "df['purpose'].value_counts()     # просмотр уникальных значений"
   ]
  },
  {
   "cell_type": "markdown",
   "id": "e5eb2f13",
   "metadata": {},
   "source": [
    "В общем и целом, к данным в столбцах (кроме последнего) -  замечаний нет.\n"
   ]
  },
  {
   "cell_type": "markdown",
   "id": "2fa8736e",
   "metadata": {},
   "source": [
    "### Категоризация целей кредита"
   ]
  },
  {
   "cell_type": "markdown",
   "id": "b2623067",
   "metadata": {},
   "source": [
    "Как мы заметили выше, данные столбца `purpose` нуждаются в категоризации: объективных причин для получения заёма всего четыре.\n",
    "\n",
    "Это:\n",
    "* `операции с автомобилем`,\n",
    "* `операции с недвижимостью`,\n",
    "* `проведение свадьбы`,\n",
    "* `получение образования`.\n",
    "\n",
    "Создадим новый столбец `purpose_category`, в который добавим категории, перечисленные выше.\n",
    "Данные старого столбца`purpose` после этого уже не будут нужны, и могут быть удалены."
   ]
  },
  {
   "cell_type": "code",
   "execution_count": 15,
   "id": "99cc6841",
   "metadata": {},
   "outputs": [],
   "source": [
    "def purposes(reason):    # создаем функцию\n",
    "    if 'образ' in reason:\n",
    "        return 'получение образования'\n",
    "    if 'свадь' in reason:\n",
    "        return 'проведение свадьбы'\n",
    "    if 'авто' in reason:\n",
    "        return 'операции с автомобилем'\n",
    "    return 'операции с недвижимостью'"
   ]
  },
  {
   "cell_type": "code",
   "execution_count": 16,
   "id": "aaab0259",
   "metadata": {},
   "outputs": [],
   "source": [
    "df['purpose_category'] = df['purpose'].apply(purposes)    # применяем ее"
   ]
  },
  {
   "cell_type": "markdown",
   "id": "07e66c35",
   "metadata": {},
   "source": [
    "### Формирование дополнительных датафреймов словарей, декомпозиция исходного датафрейма"
   ]
  },
  {
   "cell_type": "markdown",
   "id": "9f7def0c",
   "metadata": {},
   "source": [
    "Так же, для облегчения таблицы создаем два новых датафрэйма `df_education` и `df_family` со столбцами\n",
    "* `education_id и education` — в первом;\t\t\t\t\n",
    "* `family_status_id и family_status` — во втором.\n",
    "\n",
    "После этого удаляем из текущей таблицы столбцы `education`, `family` и `puropse`(из пункта 2.2)."
   ]
  },
  {
   "cell_type": "code",
   "execution_count": 17,
   "id": "bbd8e3a8",
   "metadata": {},
   "outputs": [
    {
     "data": {
      "text/html": [
       "<div>\n",
       "<style scoped>\n",
       "    .dataframe tbody tr th:only-of-type {\n",
       "        vertical-align: middle;\n",
       "    }\n",
       "\n",
       "    .dataframe tbody tr th {\n",
       "        vertical-align: top;\n",
       "    }\n",
       "\n",
       "    .dataframe thead th {\n",
       "        text-align: right;\n",
       "    }\n",
       "</style>\n",
       "<table border=\"1\" class=\"dataframe\">\n",
       "  <thead>\n",
       "    <tr style=\"text-align: right;\">\n",
       "      <th></th>\n",
       "      <th>education_id</th>\n",
       "      <th>education</th>\n",
       "    </tr>\n",
       "  </thead>\n",
       "  <tbody>\n",
       "    <tr>\n",
       "      <th>0</th>\n",
       "      <td>0</td>\n",
       "      <td>высшее</td>\n",
       "    </tr>\n",
       "    <tr>\n",
       "      <th>1</th>\n",
       "      <td>1</td>\n",
       "      <td>среднее</td>\n",
       "    </tr>\n",
       "    <tr>\n",
       "      <th>2</th>\n",
       "      <td>2</td>\n",
       "      <td>неоконченное высшее</td>\n",
       "    </tr>\n",
       "    <tr>\n",
       "      <th>3</th>\n",
       "      <td>3</td>\n",
       "      <td>начальное</td>\n",
       "    </tr>\n",
       "    <tr>\n",
       "      <th>4</th>\n",
       "      <td>4</td>\n",
       "      <td>ученая степень</td>\n",
       "    </tr>\n",
       "  </tbody>\n",
       "</table>\n",
       "</div>"
      ],
      "text/plain": [
       "   education_id            education\n",
       "0             0               высшее\n",
       "1             1              среднее\n",
       "2             2  неоконченное высшее\n",
       "3             3            начальное\n",
       "4             4       ученая степень"
      ]
     },
     "execution_count": 17,
     "metadata": {},
     "output_type": "execute_result"
    }
   ],
   "source": [
    "df_education = df[['education_id', 'education']].drop_duplicates().reset_index(drop=True)\n",
    "df_education"
   ]
  },
  {
   "cell_type": "code",
   "execution_count": 18,
   "id": "fd99c360",
   "metadata": {},
   "outputs": [
    {
     "data": {
      "text/html": [
       "<div>\n",
       "<style scoped>\n",
       "    .dataframe tbody tr th:only-of-type {\n",
       "        vertical-align: middle;\n",
       "    }\n",
       "\n",
       "    .dataframe tbody tr th {\n",
       "        vertical-align: top;\n",
       "    }\n",
       "\n",
       "    .dataframe thead th {\n",
       "        text-align: right;\n",
       "    }\n",
       "</style>\n",
       "<table border=\"1\" class=\"dataframe\">\n",
       "  <thead>\n",
       "    <tr style=\"text-align: right;\">\n",
       "      <th></th>\n",
       "      <th>family_status_id</th>\n",
       "      <th>family_status</th>\n",
       "    </tr>\n",
       "  </thead>\n",
       "  <tbody>\n",
       "    <tr>\n",
       "      <th>0</th>\n",
       "      <td>0</td>\n",
       "      <td>женат / замужем</td>\n",
       "    </tr>\n",
       "    <tr>\n",
       "      <th>1</th>\n",
       "      <td>1</td>\n",
       "      <td>гражданский брак</td>\n",
       "    </tr>\n",
       "    <tr>\n",
       "      <th>2</th>\n",
       "      <td>2</td>\n",
       "      <td>вдовец / вдова</td>\n",
       "    </tr>\n",
       "    <tr>\n",
       "      <th>3</th>\n",
       "      <td>3</td>\n",
       "      <td>в разводе</td>\n",
       "    </tr>\n",
       "    <tr>\n",
       "      <th>4</th>\n",
       "      <td>4</td>\n",
       "      <td>не женат / не замужем</td>\n",
       "    </tr>\n",
       "  </tbody>\n",
       "</table>\n",
       "</div>"
      ],
      "text/plain": [
       "   family_status_id          family_status\n",
       "0                 0        женат / замужем\n",
       "1                 1       гражданский брак\n",
       "2                 2         вдовец / вдова\n",
       "3                 3              в разводе\n",
       "4                 4  не женат / не замужем"
      ]
     },
     "execution_count": 18,
     "metadata": {},
     "output_type": "execute_result"
    }
   ],
   "source": [
    "df_family = df[['family_status_id', 'family_status']].drop_duplicates().reset_index(drop=True)\n",
    "df_family"
   ]
  },
  {
   "cell_type": "code",
   "execution_count": 19,
   "id": "619c3928",
   "metadata": {},
   "outputs": [],
   "source": [
    "df = df.drop(['family_status','education','purpose'], axis=1) # удаляем лишние столбцы, включая puropse из п.2.2"
   ]
  },
  {
   "cell_type": "markdown",
   "id": "ab1a2d31",
   "metadata": {},
   "source": [
    "Смотрим на нашу облегченную таблицу."
   ]
  },
  {
   "cell_type": "code",
   "execution_count": 20,
   "id": "81bf57f2",
   "metadata": {},
   "outputs": [
    {
     "data": {
      "text/html": [
       "<div>\n",
       "<style scoped>\n",
       "    .dataframe tbody tr th:only-of-type {\n",
       "        vertical-align: middle;\n",
       "    }\n",
       "\n",
       "    .dataframe tbody tr th {\n",
       "        vertical-align: top;\n",
       "    }\n",
       "\n",
       "    .dataframe thead th {\n",
       "        text-align: right;\n",
       "    }\n",
       "</style>\n",
       "<table border=\"1\" class=\"dataframe\">\n",
       "  <thead>\n",
       "    <tr style=\"text-align: right;\">\n",
       "      <th></th>\n",
       "      <th>children</th>\n",
       "      <th>days_employed</th>\n",
       "      <th>dob_years</th>\n",
       "      <th>education_id</th>\n",
       "      <th>family_status_id</th>\n",
       "      <th>gender</th>\n",
       "      <th>income_type</th>\n",
       "      <th>debt</th>\n",
       "      <th>total_income</th>\n",
       "      <th>purpose_category</th>\n",
       "    </tr>\n",
       "  </thead>\n",
       "  <tbody>\n",
       "    <tr>\n",
       "      <th>0</th>\n",
       "      <td>1</td>\n",
       "      <td>-8437.673028</td>\n",
       "      <td>42</td>\n",
       "      <td>0</td>\n",
       "      <td>0</td>\n",
       "      <td>F</td>\n",
       "      <td>сотрудник</td>\n",
       "      <td>0</td>\n",
       "      <td>253875.639453</td>\n",
       "      <td>операции с недвижимостью</td>\n",
       "    </tr>\n",
       "    <tr>\n",
       "      <th>1</th>\n",
       "      <td>1</td>\n",
       "      <td>-4024.803754</td>\n",
       "      <td>36</td>\n",
       "      <td>1</td>\n",
       "      <td>0</td>\n",
       "      <td>F</td>\n",
       "      <td>сотрудник</td>\n",
       "      <td>0</td>\n",
       "      <td>112080.014102</td>\n",
       "      <td>операции с автомобилем</td>\n",
       "    </tr>\n",
       "    <tr>\n",
       "      <th>2</th>\n",
       "      <td>0</td>\n",
       "      <td>-5623.422610</td>\n",
       "      <td>33</td>\n",
       "      <td>1</td>\n",
       "      <td>0</td>\n",
       "      <td>M</td>\n",
       "      <td>сотрудник</td>\n",
       "      <td>0</td>\n",
       "      <td>145885.952297</td>\n",
       "      <td>операции с недвижимостью</td>\n",
       "    </tr>\n",
       "    <tr>\n",
       "      <th>3</th>\n",
       "      <td>3</td>\n",
       "      <td>-4124.747207</td>\n",
       "      <td>32</td>\n",
       "      <td>1</td>\n",
       "      <td>0</td>\n",
       "      <td>M</td>\n",
       "      <td>сотрудник</td>\n",
       "      <td>0</td>\n",
       "      <td>267628.550329</td>\n",
       "      <td>получение образования</td>\n",
       "    </tr>\n",
       "    <tr>\n",
       "      <th>4</th>\n",
       "      <td>0</td>\n",
       "      <td>340266.072047</td>\n",
       "      <td>53</td>\n",
       "      <td>1</td>\n",
       "      <td>1</td>\n",
       "      <td>F</td>\n",
       "      <td>пенсионер</td>\n",
       "      <td>0</td>\n",
       "      <td>158616.077870</td>\n",
       "      <td>проведение свадьбы</td>\n",
       "    </tr>\n",
       "  </tbody>\n",
       "</table>\n",
       "</div>"
      ],
      "text/plain": [
       "   children  days_employed  dob_years  education_id  family_status_id gender  \\\n",
       "0         1   -8437.673028         42             0                 0      F   \n",
       "1         1   -4024.803754         36             1                 0      F   \n",
       "2         0   -5623.422610         33             1                 0      M   \n",
       "3         3   -4124.747207         32             1                 0      M   \n",
       "4         0  340266.072047         53             1                 1      F   \n",
       "\n",
       "  income_type  debt   total_income          purpose_category  \n",
       "0   сотрудник     0  253875.639453  операции с недвижимостью  \n",
       "1   сотрудник     0  112080.014102    операции с автомобилем  \n",
       "2   сотрудник     0  145885.952297  операции с недвижимостью  \n",
       "3   сотрудник     0  267628.550329     получение образования  \n",
       "4   пенсионер     0  158616.077870        проведение свадьбы  "
      ]
     },
     "execution_count": 20,
     "metadata": {},
     "output_type": "execute_result"
    }
   ],
   "source": [
    "df.head()"
   ]
  },
  {
   "cell_type": "markdown",
   "id": "11408c67",
   "metadata": {},
   "source": [
    "### Проверка данных на аномалии и исправления"
   ]
  },
  {
   "cell_type": "markdown",
   "id": "75fefb1e",
   "metadata": {},
   "source": [
    "На одном из предыдущих шагов у нас появился заёмщик, который не определился со своей гендерной принадлежностью.\n",
    "Т.к. это единственный случай, удаляем его из таблицы."
   ]
  },
  {
   "cell_type": "code",
   "execution_count": 21,
   "id": "7edd5f2e",
   "metadata": {},
   "outputs": [
    {
     "data": {
      "text/plain": [
       "F    14189\n",
       "M     7281\n",
       "Name: gender, dtype: int64"
      ]
     },
     "execution_count": 21,
     "metadata": {},
     "output_type": "execute_result"
    }
   ],
   "source": [
    "df = df.loc[df['gender'] != 'XNA']\n",
    "df['gender'].value_counts()"
   ]
  },
  {
   "cell_type": "markdown",
   "id": "21ef43ea",
   "metadata": {},
   "source": [
    "Теперь посмотрим на цифровые значения в таблице.\n",
    "\n",
    "Первое, что настораживает: значения столбца `day_employed` могут принимать отрицательные значения.\n",
    "Исправим это."
   ]
  },
  {
   "cell_type": "code",
   "execution_count": 22,
   "id": "351ce035",
   "metadata": {},
   "outputs": [
    {
     "data": {
      "text/html": [
       "<div>\n",
       "<style scoped>\n",
       "    .dataframe tbody tr th:only-of-type {\n",
       "        vertical-align: middle;\n",
       "    }\n",
       "\n",
       "    .dataframe tbody tr th {\n",
       "        vertical-align: top;\n",
       "    }\n",
       "\n",
       "    .dataframe thead th {\n",
       "        text-align: right;\n",
       "    }\n",
       "</style>\n",
       "<table border=\"1\" class=\"dataframe\">\n",
       "  <thead>\n",
       "    <tr style=\"text-align: right;\">\n",
       "      <th></th>\n",
       "      <th>children</th>\n",
       "      <th>days_employed</th>\n",
       "      <th>dob_years</th>\n",
       "      <th>education_id</th>\n",
       "      <th>family_status_id</th>\n",
       "      <th>gender</th>\n",
       "      <th>income_type</th>\n",
       "      <th>debt</th>\n",
       "      <th>total_income</th>\n",
       "      <th>purpose_category</th>\n",
       "    </tr>\n",
       "  </thead>\n",
       "  <tbody>\n",
       "    <tr>\n",
       "      <th>0</th>\n",
       "      <td>1</td>\n",
       "      <td>8437.673028</td>\n",
       "      <td>42</td>\n",
       "      <td>0</td>\n",
       "      <td>0</td>\n",
       "      <td>F</td>\n",
       "      <td>сотрудник</td>\n",
       "      <td>0</td>\n",
       "      <td>253875.639453</td>\n",
       "      <td>операции с недвижимостью</td>\n",
       "    </tr>\n",
       "    <tr>\n",
       "      <th>1</th>\n",
       "      <td>1</td>\n",
       "      <td>4024.803754</td>\n",
       "      <td>36</td>\n",
       "      <td>1</td>\n",
       "      <td>0</td>\n",
       "      <td>F</td>\n",
       "      <td>сотрудник</td>\n",
       "      <td>0</td>\n",
       "      <td>112080.014102</td>\n",
       "      <td>операции с автомобилем</td>\n",
       "    </tr>\n",
       "    <tr>\n",
       "      <th>2</th>\n",
       "      <td>0</td>\n",
       "      <td>5623.422610</td>\n",
       "      <td>33</td>\n",
       "      <td>1</td>\n",
       "      <td>0</td>\n",
       "      <td>M</td>\n",
       "      <td>сотрудник</td>\n",
       "      <td>0</td>\n",
       "      <td>145885.952297</td>\n",
       "      <td>операции с недвижимостью</td>\n",
       "    </tr>\n",
       "    <tr>\n",
       "      <th>3</th>\n",
       "      <td>3</td>\n",
       "      <td>4124.747207</td>\n",
       "      <td>32</td>\n",
       "      <td>1</td>\n",
       "      <td>0</td>\n",
       "      <td>M</td>\n",
       "      <td>сотрудник</td>\n",
       "      <td>0</td>\n",
       "      <td>267628.550329</td>\n",
       "      <td>получение образования</td>\n",
       "    </tr>\n",
       "    <tr>\n",
       "      <th>4</th>\n",
       "      <td>0</td>\n",
       "      <td>340266.072047</td>\n",
       "      <td>53</td>\n",
       "      <td>1</td>\n",
       "      <td>1</td>\n",
       "      <td>F</td>\n",
       "      <td>пенсионер</td>\n",
       "      <td>0</td>\n",
       "      <td>158616.077870</td>\n",
       "      <td>проведение свадьбы</td>\n",
       "    </tr>\n",
       "  </tbody>\n",
       "</table>\n",
       "</div>"
      ],
      "text/plain": [
       "   children  days_employed  dob_years  education_id  family_status_id gender  \\\n",
       "0         1    8437.673028         42             0                 0      F   \n",
       "1         1    4024.803754         36             1                 0      F   \n",
       "2         0    5623.422610         33             1                 0      M   \n",
       "3         3    4124.747207         32             1                 0      M   \n",
       "4         0  340266.072047         53             1                 1      F   \n",
       "\n",
       "  income_type  debt   total_income          purpose_category  \n",
       "0   сотрудник     0  253875.639453  операции с недвижимостью  \n",
       "1   сотрудник     0  112080.014102    операции с автомобилем  \n",
       "2   сотрудник     0  145885.952297  операции с недвижимостью  \n",
       "3   сотрудник     0  267628.550329     получение образования  \n",
       "4   пенсионер     0  158616.077870        проведение свадьбы  "
      ]
     },
     "execution_count": 22,
     "metadata": {},
     "output_type": "execute_result"
    }
   ],
   "source": [
    "df['days_employed'] = df['days_employed'].abs()\n",
    "df.head()"
   ]
  },
  {
   "cell_type": "markdown",
   "id": "016c12cf",
   "metadata": {},
   "source": [
    "На всякий случай выведем минимальное и максимальное значения трудового стажа."
   ]
  },
  {
   "cell_type": "code",
   "execution_count": 23,
   "id": "485fc02e",
   "metadata": {},
   "outputs": [
    {
     "data": {
      "text/plain": [
       "24.14163324048118"
      ]
     },
     "metadata": {},
     "output_type": "display_data"
    },
    {
     "data": {
      "text/plain": [
       "401755.40047533"
      ]
     },
     "metadata": {},
     "output_type": "display_data"
    }
   ],
   "source": [
    "display(min(df['days_employed']), max(df['days_employed']))"
   ]
  },
  {
   "cell_type": "markdown",
   "id": "997d14dc",
   "metadata": {},
   "source": [
    "401755 дней - это стаж более 1100 лет. \n",
    "\n",
    "Поищем строки, где количество стажа более 24000 дней (24000 дней практически соответствуют стажу 80-ти летнего человека, который работет с 14-ти лет.)"
   ]
  },
  {
   "cell_type": "code",
   "execution_count": 24,
   "id": "0a8d9dea",
   "metadata": {},
   "outputs": [
    {
     "data": {
      "text/plain": [
       "3445"
      ]
     },
     "execution_count": 24,
     "metadata": {},
     "output_type": "execute_result"
    }
   ],
   "source": [
    "df[df['days_employed'] >= 24000]['total_income'].count()"
   ]
  },
  {
   "cell_type": "markdown",
   "id": "2e566793",
   "metadata": {},
   "source": [
    "К сожалению, строк с такими значениями слишком много.\n",
    "Проверим среднее значение по таким случаям."
   ]
  },
  {
   "cell_type": "code",
   "execution_count": 25,
   "id": "0cfb764f",
   "metadata": {},
   "outputs": [
    {
     "data": {
      "text/plain": [
       "365004.30991626816"
      ]
     },
     "execution_count": 25,
     "metadata": {},
     "output_type": "execute_result"
    }
   ],
   "source": [
    "df[df['days_employed'] >= 24000]['days_employed'].mean()"
   ]
  },
  {
   "cell_type": "markdown",
   "id": "dec30565",
   "metadata": {},
   "source": [
    "Рискну предоложить, что указан стаж в часах, а не днях.\n",
    "Скорее всего, опять проблемы, связанные с выгрузками из разных баз (в одной стаж указан в днях, в другой -  в часах).\n",
    "\n",
    "Попробуем это исправить, поделив аномальные значения стажа на 24 часа. \n",
    "\n",
    "Для этого напишем функцию и применим ее к значениям столбца, превышающим 24000 часов медианным значением стажа остальных заёмщиков. \n",
    "\n",
    "Медианное значение для количественных данных является лучшим решением для заполнения пропусков, т.к. исключает в расчете экстремальные значения.\n",
    "___\n",
    "_Вообще, вопросы, которым посвящено данное исследование, не касаются значений стажа, но для отработки навыков и приведения проекта в приятный вид сделаем это._\n",
    "___"
   ]
  },
  {
   "cell_type": "code",
   "execution_count": 26,
   "id": "ecebe26d",
   "metadata": {},
   "outputs": [],
   "source": [
    "med_days_employed = df[df['days_employed'] <= 24000]['days_employed'].median()    # расчет медианы"
   ]
  },
  {
   "cell_type": "code",
   "execution_count": 27,
   "id": "8c293ac5",
   "metadata": {},
   "outputs": [
    {
     "data": {
      "text/plain": [
       "10000"
      ]
     },
     "execution_count": 27,
     "metadata": {},
     "output_type": "execute_result"
    }
   ],
   "source": [
    "def to_do_better(days):  # создаем функцию\n",
    "    if days >= 24000:\n",
    "        return med_days_employed\n",
    "    else:\n",
    "        return days\n",
    "to_do_better(10000) # проверка   "
   ]
  },
  {
   "cell_type": "code",
   "execution_count": 28,
   "id": "9caceeed",
   "metadata": {},
   "outputs": [
    {
     "data": {
      "text/html": [
       "<div>\n",
       "<style scoped>\n",
       "    .dataframe tbody tr th:only-of-type {\n",
       "        vertical-align: middle;\n",
       "    }\n",
       "\n",
       "    .dataframe tbody tr th {\n",
       "        vertical-align: top;\n",
       "    }\n",
       "\n",
       "    .dataframe thead th {\n",
       "        text-align: right;\n",
       "    }\n",
       "</style>\n",
       "<table border=\"1\" class=\"dataframe\">\n",
       "  <thead>\n",
       "    <tr style=\"text-align: right;\">\n",
       "      <th></th>\n",
       "      <th>children</th>\n",
       "      <th>days_employed</th>\n",
       "      <th>dob_years</th>\n",
       "      <th>education_id</th>\n",
       "      <th>family_status_id</th>\n",
       "      <th>gender</th>\n",
       "      <th>income_type</th>\n",
       "      <th>debt</th>\n",
       "      <th>total_income</th>\n",
       "      <th>purpose_category</th>\n",
       "    </tr>\n",
       "  </thead>\n",
       "  <tbody>\n",
       "    <tr>\n",
       "      <th>0</th>\n",
       "      <td>1</td>\n",
       "      <td>8437.673028</td>\n",
       "      <td>42</td>\n",
       "      <td>0</td>\n",
       "      <td>0</td>\n",
       "      <td>F</td>\n",
       "      <td>сотрудник</td>\n",
       "      <td>0</td>\n",
       "      <td>253875.639453</td>\n",
       "      <td>операции с недвижимостью</td>\n",
       "    </tr>\n",
       "    <tr>\n",
       "      <th>1</th>\n",
       "      <td>1</td>\n",
       "      <td>4024.803754</td>\n",
       "      <td>36</td>\n",
       "      <td>1</td>\n",
       "      <td>0</td>\n",
       "      <td>F</td>\n",
       "      <td>сотрудник</td>\n",
       "      <td>0</td>\n",
       "      <td>112080.014102</td>\n",
       "      <td>операции с автомобилем</td>\n",
       "    </tr>\n",
       "    <tr>\n",
       "      <th>2</th>\n",
       "      <td>0</td>\n",
       "      <td>5623.422610</td>\n",
       "      <td>33</td>\n",
       "      <td>1</td>\n",
       "      <td>0</td>\n",
       "      <td>M</td>\n",
       "      <td>сотрудник</td>\n",
       "      <td>0</td>\n",
       "      <td>145885.952297</td>\n",
       "      <td>операции с недвижимостью</td>\n",
       "    </tr>\n",
       "    <tr>\n",
       "      <th>3</th>\n",
       "      <td>3</td>\n",
       "      <td>4124.747207</td>\n",
       "      <td>32</td>\n",
       "      <td>1</td>\n",
       "      <td>0</td>\n",
       "      <td>M</td>\n",
       "      <td>сотрудник</td>\n",
       "      <td>0</td>\n",
       "      <td>267628.550329</td>\n",
       "      <td>получение образования</td>\n",
       "    </tr>\n",
       "    <tr>\n",
       "      <th>4</th>\n",
       "      <td>0</td>\n",
       "      <td>1629.997862</td>\n",
       "      <td>53</td>\n",
       "      <td>1</td>\n",
       "      <td>1</td>\n",
       "      <td>F</td>\n",
       "      <td>пенсионер</td>\n",
       "      <td>0</td>\n",
       "      <td>158616.077870</td>\n",
       "      <td>проведение свадьбы</td>\n",
       "    </tr>\n",
       "  </tbody>\n",
       "</table>\n",
       "</div>"
      ],
      "text/plain": [
       "   children  days_employed  dob_years  education_id  family_status_id gender  \\\n",
       "0         1    8437.673028         42             0                 0      F   \n",
       "1         1    4024.803754         36             1                 0      F   \n",
       "2         0    5623.422610         33             1                 0      M   \n",
       "3         3    4124.747207         32             1                 0      M   \n",
       "4         0    1629.997862         53             1                 1      F   \n",
       "\n",
       "  income_type  debt   total_income          purpose_category  \n",
       "0   сотрудник     0  253875.639453  операции с недвижимостью  \n",
       "1   сотрудник     0  112080.014102    операции с автомобилем  \n",
       "2   сотрудник     0  145885.952297  операции с недвижимостью  \n",
       "3   сотрудник     0  267628.550329     получение образования  \n",
       "4   пенсионер     0  158616.077870        проведение свадьбы  "
      ]
     },
     "execution_count": 28,
     "metadata": {},
     "output_type": "execute_result"
    }
   ],
   "source": [
    "df['days_employed'] = df['days_employed'].apply(to_do_better) #применяем функцию\n",
    "df.head()                "
   ]
  },
  {
   "cell_type": "markdown",
   "id": "7377619e",
   "metadata": {},
   "source": [
    "Теперь проверим возраст заёмщиков: есть ли лица, моложе 18-ти лет (включая нулевые значения)?    \n",
    "Если доля таких строк мала, то удалим их."
   ]
  },
  {
   "cell_type": "code",
   "execution_count": 29,
   "id": "a98d6b53",
   "metadata": {},
   "outputs": [
    {
     "data": {
      "text/plain": [
       "0.004704238472286912"
      ]
     },
     "execution_count": 29,
     "metadata": {},
     "output_type": "execute_result"
    }
   ],
   "source": [
    "df[df['dob_years'] < 18]['dob_years'].count() / df.shape[0] "
   ]
  },
  {
   "cell_type": "markdown",
   "id": "ab191483",
   "metadata": {},
   "source": [
    "Доля ничтожна мала, удаляем такие строки:"
   ]
  },
  {
   "cell_type": "code",
   "execution_count": 30,
   "id": "9a924f06",
   "metadata": {},
   "outputs": [],
   "source": [
    "df = df.loc[df['dob_years'] >= 18]"
   ]
  },
  {
   "cell_type": "markdown",
   "id": "4fcdaae9",
   "metadata": {},
   "source": [
    "Проверим максимальный возраст заёмщиков:"
   ]
  },
  {
   "cell_type": "code",
   "execution_count": 31,
   "id": "1dd313d3",
   "metadata": {},
   "outputs": [
    {
     "data": {
      "text/plain": [
       "75"
      ]
     },
     "execution_count": 31,
     "metadata": {},
     "output_type": "execute_result"
    }
   ],
   "source": [
    "max(df['dob_years'])"
   ]
  },
  {
   "cell_type": "markdown",
   "id": "0df15b0b",
   "metadata": {},
   "source": [
    "К возрасту больше вопросов нет.\n",
    "\n",
    "\n",
    "Теперь проверим, какие значения есть в столбце `children`:"
   ]
  },
  {
   "cell_type": "code",
   "execution_count": 32,
   "id": "a387600e",
   "metadata": {},
   "outputs": [
    {
     "data": {
      "text/plain": [
       " 0     14037\n",
       " 1      4793\n",
       " 2      2039\n",
       " 3       328\n",
       " 20       75\n",
       "-1        47\n",
       " 4        41\n",
       " 5         9\n",
       "Name: children, dtype: int64"
      ]
     },
     "execution_count": 32,
     "metadata": {},
     "output_type": "execute_result"
    }
   ],
   "source": [
    "df['children'].value_counts()"
   ]
  },
  {
   "cell_type": "markdown",
   "id": "8f62b40e",
   "metadata": {},
   "source": [
    "Необходимо исправить отрицательное количество детей на нулевое значение."
   ]
  },
  {
   "cell_type": "code",
   "execution_count": 33,
   "id": "44764ff0",
   "metadata": {},
   "outputs": [],
   "source": [
    "df['children'] = df['children'].replace(-1, 0)"
   ]
  },
  {
   "cell_type": "markdown",
   "id": "de54bb72",
   "metadata": {},
   "source": [
    "Теперь посмотрим внимательнее на заёмщиков, имеющих 20 детей, возможно, это частные детские дома?"
   ]
  },
  {
   "cell_type": "code",
   "execution_count": 34,
   "id": "6e233f0a",
   "metadata": {},
   "outputs": [
    {
     "data": {
      "text/html": [
       "<div>\n",
       "<style scoped>\n",
       "    .dataframe tbody tr th:only-of-type {\n",
       "        vertical-align: middle;\n",
       "    }\n",
       "\n",
       "    .dataframe tbody tr th {\n",
       "        vertical-align: top;\n",
       "    }\n",
       "\n",
       "    .dataframe thead th {\n",
       "        text-align: right;\n",
       "    }\n",
       "</style>\n",
       "<table border=\"1\" class=\"dataframe\">\n",
       "  <thead>\n",
       "    <tr style=\"text-align: right;\">\n",
       "      <th></th>\n",
       "      <th>children</th>\n",
       "      <th>days_employed</th>\n",
       "      <th>dob_years</th>\n",
       "      <th>education_id</th>\n",
       "      <th>family_status_id</th>\n",
       "      <th>gender</th>\n",
       "      <th>income_type</th>\n",
       "      <th>debt</th>\n",
       "      <th>total_income</th>\n",
       "      <th>purpose_category</th>\n",
       "    </tr>\n",
       "  </thead>\n",
       "  <tbody>\n",
       "    <tr>\n",
       "      <th>606</th>\n",
       "      <td>20</td>\n",
       "      <td>880.221113</td>\n",
       "      <td>21</td>\n",
       "      <td>1</td>\n",
       "      <td>0</td>\n",
       "      <td>M</td>\n",
       "      <td>компаньон</td>\n",
       "      <td>0</td>\n",
       "      <td>145334.865002</td>\n",
       "      <td>операции с недвижимостью</td>\n",
       "    </tr>\n",
       "    <tr>\n",
       "      <th>720</th>\n",
       "      <td>20</td>\n",
       "      <td>855.595512</td>\n",
       "      <td>44</td>\n",
       "      <td>1</td>\n",
       "      <td>0</td>\n",
       "      <td>F</td>\n",
       "      <td>компаньон</td>\n",
       "      <td>0</td>\n",
       "      <td>112998.738649</td>\n",
       "      <td>операции с недвижимостью</td>\n",
       "    </tr>\n",
       "    <tr>\n",
       "      <th>1074</th>\n",
       "      <td>20</td>\n",
       "      <td>3310.411598</td>\n",
       "      <td>56</td>\n",
       "      <td>1</td>\n",
       "      <td>0</td>\n",
       "      <td>F</td>\n",
       "      <td>сотрудник</td>\n",
       "      <td>1</td>\n",
       "      <td>229518.537004</td>\n",
       "      <td>получение образования</td>\n",
       "    </tr>\n",
       "    <tr>\n",
       "      <th>2510</th>\n",
       "      <td>20</td>\n",
       "      <td>2714.161249</td>\n",
       "      <td>59</td>\n",
       "      <td>0</td>\n",
       "      <td>2</td>\n",
       "      <td>F</td>\n",
       "      <td>сотрудник</td>\n",
       "      <td>0</td>\n",
       "      <td>264474.835577</td>\n",
       "      <td>операции с недвижимостью</td>\n",
       "    </tr>\n",
       "    <tr>\n",
       "      <th>3301</th>\n",
       "      <td>20</td>\n",
       "      <td>NaN</td>\n",
       "      <td>35</td>\n",
       "      <td>1</td>\n",
       "      <td>4</td>\n",
       "      <td>F</td>\n",
       "      <td>госслужащий</td>\n",
       "      <td>0</td>\n",
       "      <td>NaN</td>\n",
       "      <td>получение образования</td>\n",
       "    </tr>\n",
       "  </tbody>\n",
       "</table>\n",
       "</div>"
      ],
      "text/plain": [
       "      children  days_employed  dob_years  education_id  family_status_id  \\\n",
       "606         20     880.221113         21             1                 0   \n",
       "720         20     855.595512         44             1                 0   \n",
       "1074        20    3310.411598         56             1                 0   \n",
       "2510        20    2714.161249         59             0                 2   \n",
       "3301        20            NaN         35             1                 4   \n",
       "\n",
       "     gender  income_type  debt   total_income          purpose_category  \n",
       "606       M    компаньон     0  145334.865002  операции с недвижимостью  \n",
       "720       F    компаньон     0  112998.738649  операции с недвижимостью  \n",
       "1074      F    сотрудник     1  229518.537004     получение образования  \n",
       "2510      F    сотрудник     0  264474.835577  операции с недвижимостью  \n",
       "3301      F  госслужащий     0            NaN     получение образования  "
      ]
     },
     "execution_count": 34,
     "metadata": {},
     "output_type": "execute_result"
    }
   ],
   "source": [
    "df[df['children'] == 20].head()"
   ]
  },
  {
   "cell_type": "markdown",
   "id": "5632270d",
   "metadata": {},
   "source": [
    "К сожалению, по выводу первых строк непонятно - среди многодетных представителей присутствуют гослужащий, сотрудник и компаньон. Все разного возраста. Считаем долю и, если она незначительная, удаляем строки.  "
   ]
  },
  {
   "cell_type": "code",
   "execution_count": 35,
   "id": "e3c21997",
   "metadata": {},
   "outputs": [
    {
     "data": {
      "text/plain": [
       "0.0035097571248069634"
      ]
     },
     "execution_count": 35,
     "metadata": {},
     "output_type": "execute_result"
    }
   ],
   "source": [
    "df[df['children'] == 20]['children'].count() / df.shape[0] "
   ]
  },
  {
   "cell_type": "code",
   "execution_count": 36,
   "id": "d09a1a3e",
   "metadata": {},
   "outputs": [],
   "source": [
    "df = df.loc[df['children'] < 20]    # удаляем"
   ]
  },
  {
   "cell_type": "markdown",
   "id": "d99e6596",
   "metadata": {},
   "source": [
    "### Заполнение пропусков"
   ]
  },
  {
   "cell_type": "markdown",
   "id": "81c4535c",
   "metadata": {},
   "source": [
    "Проверим оставшееся количество пропусков в данных."
   ]
  },
  {
   "cell_type": "code",
   "execution_count": 37,
   "id": "f2642fc2",
   "metadata": {},
   "outputs": [
    {
     "data": {
      "text/plain": [
       "children               0\n",
       "days_employed       2101\n",
       "dob_years              0\n",
       "education_id           0\n",
       "family_status_id       0\n",
       "gender                 0\n",
       "income_type            0\n",
       "debt                   0\n",
       "total_income        2101\n",
       "purpose_category       0\n",
       "dtype: int64"
      ]
     },
     "execution_count": 37,
     "metadata": {},
     "output_type": "execute_result"
    }
   ],
   "source": [
    "df.isna().sum()    # подсчёт пропусков"
   ]
  },
  {
   "cell_type": "markdown",
   "id": "d4127ef6",
   "metadata": {},
   "source": [
    "Пустые значения столбца `days_employed` заполняем рассчитанным ранее медианным значением стажа (`med_days_employed`)."
   ]
  },
  {
   "cell_type": "code",
   "execution_count": 38,
   "id": "27396b1d",
   "metadata": {},
   "outputs": [],
   "source": [
    "df['days_employed'] = df['days_employed'].fillna(med_days_employed)"
   ]
  },
  {
   "cell_type": "markdown",
   "id": "27a7f7c5",
   "metadata": {},
   "source": [
    "Пустые значения столбца `total_income` так же придется заполнить медианным значением дохода, т.к. среди всей выборки могут быть значительные отклонения от основной массы значений (как и в случае со стажем)."
   ]
  },
  {
   "cell_type": "code",
   "execution_count": 39,
   "id": "d4080e39",
   "metadata": {},
   "outputs": [],
   "source": [
    "med_total_income = df['total_income'].median() # рассчитываем медиану\n",
    "df['total_income'] = df['total_income'].fillna(med_total_income)"
   ]
  },
  {
   "cell_type": "code",
   "execution_count": 40,
   "id": "7a1dfcf4",
   "metadata": {},
   "outputs": [
    {
     "data": {
      "text/plain": [
       "children            0\n",
       "days_employed       0\n",
       "dob_years           0\n",
       "education_id        0\n",
       "family_status_id    0\n",
       "gender              0\n",
       "income_type         0\n",
       "debt                0\n",
       "total_income        0\n",
       "purpose_category    0\n",
       "dtype: int64"
      ]
     },
     "execution_count": 40,
     "metadata": {},
     "output_type": "execute_result"
    }
   ],
   "source": [
    "df.isna().sum() # проверка"
   ]
  },
  {
   "cell_type": "markdown",
   "id": "2d507289",
   "metadata": {},
   "source": [
    "### Изменение типов данных"
   ]
  },
  {
   "cell_type": "markdown",
   "id": "1cf5765d",
   "metadata": {},
   "source": [
    "Теперь посмотрим на цифровые значения в таблице.\n",
    "\n",
    "Для начала заменим вещественный тип данных в столбце `total_income` на целочисленный."
   ]
  },
  {
   "cell_type": "code",
   "execution_count": 41,
   "id": "0a46f831",
   "metadata": {},
   "outputs": [
    {
     "data": {
      "text/html": [
       "<div>\n",
       "<style scoped>\n",
       "    .dataframe tbody tr th:only-of-type {\n",
       "        vertical-align: middle;\n",
       "    }\n",
       "\n",
       "    .dataframe tbody tr th {\n",
       "        vertical-align: top;\n",
       "    }\n",
       "\n",
       "    .dataframe thead th {\n",
       "        text-align: right;\n",
       "    }\n",
       "</style>\n",
       "<table border=\"1\" class=\"dataframe\">\n",
       "  <thead>\n",
       "    <tr style=\"text-align: right;\">\n",
       "      <th></th>\n",
       "      <th>children</th>\n",
       "      <th>days_employed</th>\n",
       "      <th>dob_years</th>\n",
       "      <th>education_id</th>\n",
       "      <th>family_status_id</th>\n",
       "      <th>gender</th>\n",
       "      <th>income_type</th>\n",
       "      <th>debt</th>\n",
       "      <th>total_income</th>\n",
       "      <th>purpose_category</th>\n",
       "    </tr>\n",
       "  </thead>\n",
       "  <tbody>\n",
       "    <tr>\n",
       "      <th>0</th>\n",
       "      <td>1</td>\n",
       "      <td>8437.673028</td>\n",
       "      <td>42</td>\n",
       "      <td>0</td>\n",
       "      <td>0</td>\n",
       "      <td>F</td>\n",
       "      <td>сотрудник</td>\n",
       "      <td>0</td>\n",
       "      <td>253875</td>\n",
       "      <td>операции с недвижимостью</td>\n",
       "    </tr>\n",
       "    <tr>\n",
       "      <th>1</th>\n",
       "      <td>1</td>\n",
       "      <td>4024.803754</td>\n",
       "      <td>36</td>\n",
       "      <td>1</td>\n",
       "      <td>0</td>\n",
       "      <td>F</td>\n",
       "      <td>сотрудник</td>\n",
       "      <td>0</td>\n",
       "      <td>112080</td>\n",
       "      <td>операции с автомобилем</td>\n",
       "    </tr>\n",
       "    <tr>\n",
       "      <th>2</th>\n",
       "      <td>0</td>\n",
       "      <td>5623.422610</td>\n",
       "      <td>33</td>\n",
       "      <td>1</td>\n",
       "      <td>0</td>\n",
       "      <td>M</td>\n",
       "      <td>сотрудник</td>\n",
       "      <td>0</td>\n",
       "      <td>145885</td>\n",
       "      <td>операции с недвижимостью</td>\n",
       "    </tr>\n",
       "    <tr>\n",
       "      <th>3</th>\n",
       "      <td>3</td>\n",
       "      <td>4124.747207</td>\n",
       "      <td>32</td>\n",
       "      <td>1</td>\n",
       "      <td>0</td>\n",
       "      <td>M</td>\n",
       "      <td>сотрудник</td>\n",
       "      <td>0</td>\n",
       "      <td>267628</td>\n",
       "      <td>получение образования</td>\n",
       "    </tr>\n",
       "    <tr>\n",
       "      <th>4</th>\n",
       "      <td>0</td>\n",
       "      <td>1629.997862</td>\n",
       "      <td>53</td>\n",
       "      <td>1</td>\n",
       "      <td>1</td>\n",
       "      <td>F</td>\n",
       "      <td>пенсионер</td>\n",
       "      <td>0</td>\n",
       "      <td>158616</td>\n",
       "      <td>проведение свадьбы</td>\n",
       "    </tr>\n",
       "  </tbody>\n",
       "</table>\n",
       "</div>"
      ],
      "text/plain": [
       "   children  days_employed  dob_years  education_id  family_status_id gender  \\\n",
       "0         1    8437.673028         42             0                 0      F   \n",
       "1         1    4024.803754         36             1                 0      F   \n",
       "2         0    5623.422610         33             1                 0      M   \n",
       "3         3    4124.747207         32             1                 0      M   \n",
       "4         0    1629.997862         53             1                 1      F   \n",
       "\n",
       "  income_type  debt  total_income          purpose_category  \n",
       "0   сотрудник     0        253875  операции с недвижимостью  \n",
       "1   сотрудник     0        112080    операции с автомобилем  \n",
       "2   сотрудник     0        145885  операции с недвижимостью  \n",
       "3   сотрудник     0        267628     получение образования  \n",
       "4   пенсионер     0        158616        проведение свадьбы  "
      ]
     },
     "execution_count": 41,
     "metadata": {},
     "output_type": "execute_result"
    }
   ],
   "source": [
    "df['total_income'] = df['total_income'].astype('int')\n",
    "df.head()"
   ]
  },
  {
   "cell_type": "markdown",
   "id": "aca76991",
   "metadata": {},
   "source": [
    "Проверим, что столбец `debt`имеет бинарное значение (0 = задолженности нет или 1 = наличие задолженности):"
   ]
  },
  {
   "cell_type": "code",
   "execution_count": 42,
   "id": "f8447fd6",
   "metadata": {},
   "outputs": [
    {
     "data": {
      "text/plain": [
       "0    19569\n",
       "1     1725\n",
       "Name: debt, dtype: int64"
      ]
     },
     "execution_count": 42,
     "metadata": {},
     "output_type": "execute_result"
    }
   ],
   "source": [
    "df['debt'].value_counts()    # просмотр уникальных значений"
   ]
  },
  {
   "cell_type": "markdown",
   "id": "ab3836eb",
   "metadata": {},
   "source": [
    "### Категоризация дохода"
   ]
  },
  {
   "cell_type": "markdown",
   "id": "199c9d68",
   "metadata": {},
   "source": [
    "Остался последний шаг предобработки данных: категоризация дохода.\n",
    "\n",
    "На основании диапазонов, указанных ниже, создадим столбец `total_income_category` с категориями:\n",
    "\n",
    "* `E` - 0 – 30 000 руб.;\n",
    "* `D` - 30 001 – 50 000 руб.;\n",
    "* `C` - 50 001 – 200 000 руб.;\n",
    "* `B` - 200 001 – 1 000 000 руб.;\n",
    "* `A` - 1 000 001 руб.  и выше.\n"
   ]
  },
  {
   "cell_type": "code",
   "execution_count": 43,
   "id": "dd483d91",
   "metadata": {},
   "outputs": [
    {
     "data": {
      "text/plain": [
       "'C'"
      ]
     },
     "execution_count": 43,
     "metadata": {},
     "output_type": "execute_result"
    }
   ],
   "source": [
    "def income_total(incomes):    # создаем функцию\n",
    "    if incomes <= 30000:\n",
    "        return 'E'\n",
    "    if incomes <= 50000:\n",
    "        return 'D'\n",
    "    if incomes <= 200000:\n",
    "        return 'C'\n",
    "    if incomes <=1000000:\n",
    "        return 'B'\n",
    "    return 'A'\n",
    "\n",
    "income_total(150000)    # проверка"
   ]
  },
  {
   "cell_type": "code",
   "execution_count": 44,
   "id": "a9176192",
   "metadata": {},
   "outputs": [],
   "source": [
    "df['total_income_category'] = df['total_income'].apply(income_total)    # применяем функцию "
   ]
  },
  {
   "cell_type": "markdown",
   "id": "a5a19885",
   "metadata": {},
   "source": [
    "Итак, наша таблица с данными полностью готова:"
   ]
  },
  {
   "cell_type": "code",
   "execution_count": 45,
   "id": "c4002e15",
   "metadata": {},
   "outputs": [
    {
     "data": {
      "text/html": [
       "<div>\n",
       "<style scoped>\n",
       "    .dataframe tbody tr th:only-of-type {\n",
       "        vertical-align: middle;\n",
       "    }\n",
       "\n",
       "    .dataframe tbody tr th {\n",
       "        vertical-align: top;\n",
       "    }\n",
       "\n",
       "    .dataframe thead th {\n",
       "        text-align: right;\n",
       "    }\n",
       "</style>\n",
       "<table border=\"1\" class=\"dataframe\">\n",
       "  <thead>\n",
       "    <tr style=\"text-align: right;\">\n",
       "      <th></th>\n",
       "      <th>children</th>\n",
       "      <th>days_employed</th>\n",
       "      <th>dob_years</th>\n",
       "      <th>education_id</th>\n",
       "      <th>family_status_id</th>\n",
       "      <th>gender</th>\n",
       "      <th>income_type</th>\n",
       "      <th>debt</th>\n",
       "      <th>total_income</th>\n",
       "      <th>purpose_category</th>\n",
       "      <th>total_income_category</th>\n",
       "    </tr>\n",
       "  </thead>\n",
       "  <tbody>\n",
       "    <tr>\n",
       "      <th>0</th>\n",
       "      <td>1</td>\n",
       "      <td>8437.673028</td>\n",
       "      <td>42</td>\n",
       "      <td>0</td>\n",
       "      <td>0</td>\n",
       "      <td>F</td>\n",
       "      <td>сотрудник</td>\n",
       "      <td>0</td>\n",
       "      <td>253875</td>\n",
       "      <td>операции с недвижимостью</td>\n",
       "      <td>B</td>\n",
       "    </tr>\n",
       "    <tr>\n",
       "      <th>1</th>\n",
       "      <td>1</td>\n",
       "      <td>4024.803754</td>\n",
       "      <td>36</td>\n",
       "      <td>1</td>\n",
       "      <td>0</td>\n",
       "      <td>F</td>\n",
       "      <td>сотрудник</td>\n",
       "      <td>0</td>\n",
       "      <td>112080</td>\n",
       "      <td>операции с автомобилем</td>\n",
       "      <td>C</td>\n",
       "    </tr>\n",
       "    <tr>\n",
       "      <th>2</th>\n",
       "      <td>0</td>\n",
       "      <td>5623.422610</td>\n",
       "      <td>33</td>\n",
       "      <td>1</td>\n",
       "      <td>0</td>\n",
       "      <td>M</td>\n",
       "      <td>сотрудник</td>\n",
       "      <td>0</td>\n",
       "      <td>145885</td>\n",
       "      <td>операции с недвижимостью</td>\n",
       "      <td>C</td>\n",
       "    </tr>\n",
       "    <tr>\n",
       "      <th>3</th>\n",
       "      <td>3</td>\n",
       "      <td>4124.747207</td>\n",
       "      <td>32</td>\n",
       "      <td>1</td>\n",
       "      <td>0</td>\n",
       "      <td>M</td>\n",
       "      <td>сотрудник</td>\n",
       "      <td>0</td>\n",
       "      <td>267628</td>\n",
       "      <td>получение образования</td>\n",
       "      <td>B</td>\n",
       "    </tr>\n",
       "    <tr>\n",
       "      <th>4</th>\n",
       "      <td>0</td>\n",
       "      <td>1629.997862</td>\n",
       "      <td>53</td>\n",
       "      <td>1</td>\n",
       "      <td>1</td>\n",
       "      <td>F</td>\n",
       "      <td>пенсионер</td>\n",
       "      <td>0</td>\n",
       "      <td>158616</td>\n",
       "      <td>проведение свадьбы</td>\n",
       "      <td>C</td>\n",
       "    </tr>\n",
       "    <tr>\n",
       "      <th>5</th>\n",
       "      <td>0</td>\n",
       "      <td>926.185831</td>\n",
       "      <td>27</td>\n",
       "      <td>0</td>\n",
       "      <td>1</td>\n",
       "      <td>M</td>\n",
       "      <td>компаньон</td>\n",
       "      <td>0</td>\n",
       "      <td>255763</td>\n",
       "      <td>операции с недвижимостью</td>\n",
       "      <td>B</td>\n",
       "    </tr>\n",
       "    <tr>\n",
       "      <th>6</th>\n",
       "      <td>0</td>\n",
       "      <td>2879.202052</td>\n",
       "      <td>43</td>\n",
       "      <td>0</td>\n",
       "      <td>0</td>\n",
       "      <td>F</td>\n",
       "      <td>компаньон</td>\n",
       "      <td>0</td>\n",
       "      <td>240525</td>\n",
       "      <td>операции с недвижимостью</td>\n",
       "      <td>B</td>\n",
       "    </tr>\n",
       "    <tr>\n",
       "      <th>7</th>\n",
       "      <td>0</td>\n",
       "      <td>152.779569</td>\n",
       "      <td>50</td>\n",
       "      <td>1</td>\n",
       "      <td>0</td>\n",
       "      <td>M</td>\n",
       "      <td>сотрудник</td>\n",
       "      <td>0</td>\n",
       "      <td>135823</td>\n",
       "      <td>получение образования</td>\n",
       "      <td>C</td>\n",
       "    </tr>\n",
       "    <tr>\n",
       "      <th>8</th>\n",
       "      <td>2</td>\n",
       "      <td>6929.865299</td>\n",
       "      <td>35</td>\n",
       "      <td>0</td>\n",
       "      <td>1</td>\n",
       "      <td>F</td>\n",
       "      <td>сотрудник</td>\n",
       "      <td>0</td>\n",
       "      <td>95856</td>\n",
       "      <td>проведение свадьбы</td>\n",
       "      <td>C</td>\n",
       "    </tr>\n",
       "    <tr>\n",
       "      <th>9</th>\n",
       "      <td>0</td>\n",
       "      <td>2188.756445</td>\n",
       "      <td>41</td>\n",
       "      <td>1</td>\n",
       "      <td>0</td>\n",
       "      <td>M</td>\n",
       "      <td>сотрудник</td>\n",
       "      <td>0</td>\n",
       "      <td>144425</td>\n",
       "      <td>операции с недвижимостью</td>\n",
       "      <td>C</td>\n",
       "    </tr>\n",
       "  </tbody>\n",
       "</table>\n",
       "</div>"
      ],
      "text/plain": [
       "   children  days_employed  dob_years  education_id  family_status_id gender  \\\n",
       "0         1    8437.673028         42             0                 0      F   \n",
       "1         1    4024.803754         36             1                 0      F   \n",
       "2         0    5623.422610         33             1                 0      M   \n",
       "3         3    4124.747207         32             1                 0      M   \n",
       "4         0    1629.997862         53             1                 1      F   \n",
       "5         0     926.185831         27             0                 1      M   \n",
       "6         0    2879.202052         43             0                 0      F   \n",
       "7         0     152.779569         50             1                 0      M   \n",
       "8         2    6929.865299         35             0                 1      F   \n",
       "9         0    2188.756445         41             1                 0      M   \n",
       "\n",
       "  income_type  debt  total_income          purpose_category  \\\n",
       "0   сотрудник     0        253875  операции с недвижимостью   \n",
       "1   сотрудник     0        112080    операции с автомобилем   \n",
       "2   сотрудник     0        145885  операции с недвижимостью   \n",
       "3   сотрудник     0        267628     получение образования   \n",
       "4   пенсионер     0        158616        проведение свадьбы   \n",
       "5   компаньон     0        255763  операции с недвижимостью   \n",
       "6   компаньон     0        240525  операции с недвижимостью   \n",
       "7   сотрудник     0        135823     получение образования   \n",
       "8   сотрудник     0         95856        проведение свадьбы   \n",
       "9   сотрудник     0        144425  операции с недвижимостью   \n",
       "\n",
       "  total_income_category  \n",
       "0                     B  \n",
       "1                     C  \n",
       "2                     C  \n",
       "3                     B  \n",
       "4                     C  \n",
       "5                     B  \n",
       "6                     B  \n",
       "7                     C  \n",
       "8                     C  \n",
       "9                     C  "
      ]
     },
     "execution_count": 45,
     "metadata": {},
     "output_type": "execute_result"
    }
   ],
   "source": [
    "df.head(10)    # вывод первых 10 строк"
   ]
  },
  {
   "cell_type": "markdown",
   "id": "95aeefab",
   "metadata": {},
   "source": [
    "**Выводы**\n",
    "\n",
    "Предобработка обнаружила три проблемы в данных:\n",
    "\n",
    "* анамалии в данных,\n",
    "* пропущенные значения,\n",
    "* дубликаты — явные и неявные.\n",
    "\n",
    "Кат же мы категоризировали данные,чтобы упростить работу с таблицей. \n",
    "\n",
    "Пропущенные значения в количественных данных мы заменили на медианное. \n",
    "\n",
    "Теперь можно перейти к ответу на вопросы. "
   ]
  },
  {
   "cell_type": "markdown",
   "id": "b05dc7d9",
   "metadata": {},
   "source": [
    "## Шаг 3. Ответы на вопросы."
   ]
  },
  {
   "cell_type": "markdown",
   "id": "bdfa3b76",
   "metadata": {},
   "source": [
    "### Вопрос 1:"
   ]
  },
  {
   "cell_type": "markdown",
   "id": "36c33768",
   "metadata": {},
   "source": [
    "* Есть ли зависимость между количеством детей и возвратом кредита в срок?"
   ]
  },
  {
   "cell_type": "code",
   "execution_count": 46,
   "id": "5d2ffc00",
   "metadata": {},
   "outputs": [
    {
     "data": {
      "text/html": [
       "<div>\n",
       "<style scoped>\n",
       "    .dataframe tbody tr th:only-of-type {\n",
       "        vertical-align: middle;\n",
       "    }\n",
       "\n",
       "    .dataframe tbody tr th {\n",
       "        vertical-align: top;\n",
       "    }\n",
       "\n",
       "    .dataframe thead th {\n",
       "        text-align: right;\n",
       "    }\n",
       "</style>\n",
       "<table border=\"1\" class=\"dataframe\">\n",
       "  <thead>\n",
       "    <tr style=\"text-align: right;\">\n",
       "      <th>debt</th>\n",
       "      <th>children</th>\n",
       "      <th>0</th>\n",
       "      <th>1</th>\n",
       "      <th>percent</th>\n",
       "    </tr>\n",
       "  </thead>\n",
       "  <tbody>\n",
       "    <tr>\n",
       "      <th>5</th>\n",
       "      <td>5</td>\n",
       "      <td>9</td>\n",
       "      <td>0</td>\n",
       "      <td>0.000000</td>\n",
       "    </tr>\n",
       "    <tr>\n",
       "      <th>0</th>\n",
       "      <td>0</td>\n",
       "      <td>13025</td>\n",
       "      <td>1059</td>\n",
       "      <td>7.519171</td>\n",
       "    </tr>\n",
       "    <tr>\n",
       "      <th>3</th>\n",
       "      <td>3</td>\n",
       "      <td>301</td>\n",
       "      <td>27</td>\n",
       "      <td>8.231707</td>\n",
       "    </tr>\n",
       "    <tr>\n",
       "      <th>1</th>\n",
       "      <td>1</td>\n",
       "      <td>4352</td>\n",
       "      <td>441</td>\n",
       "      <td>9.200918</td>\n",
       "    </tr>\n",
       "    <tr>\n",
       "      <th>2</th>\n",
       "      <td>2</td>\n",
       "      <td>1845</td>\n",
       "      <td>194</td>\n",
       "      <td>9.514468</td>\n",
       "    </tr>\n",
       "    <tr>\n",
       "      <th>4</th>\n",
       "      <td>4</td>\n",
       "      <td>37</td>\n",
       "      <td>4</td>\n",
       "      <td>9.756098</td>\n",
       "    </tr>\n",
       "  </tbody>\n",
       "</table>\n",
       "</div>"
      ],
      "text/plain": [
       "debt  children      0     1   percent\n",
       "5            5      9     0  0.000000\n",
       "0            0  13025  1059  7.519171\n",
       "3            3    301    27  8.231707\n",
       "1            1   4352   441  9.200918\n",
       "2            2   1845   194  9.514468\n",
       "4            4     37     4  9.756098"
      ]
     },
     "execution_count": 46,
     "metadata": {},
     "output_type": "execute_result"
    }
   ],
   "source": [
    "# сформируем сводную таблицу и добавим дополнительный столбец с % случаев просрочки относительно всех заёмщиков\n",
    "# в данной категории\n",
    "\n",
    "children_data_pivot = df.pivot_table(index=['children'], columns='debt', values='purpose_category', aggfunc='count')\n",
    "\n",
    "children_data_pivot =  children_data_pivot.fillna(0)   # заполним нулевое значение в сводой таблице\n",
    "children_data_pivot = children_data_pivot.reset_index()    # сбросим мультииндексы в сводной таблице\n",
    "children_data_pivot['percent'] = (children_data_pivot[1] / (children_data_pivot[1] + children_data_pivot[0])) *100\n",
    "children_data_pivot[1] = children_data_pivot[1].astype('int')    # переводим в цельночисленный формат \n",
    "children_data_pivot[0] = children_data_pivot[0].astype('int')\n",
    "children_data_pivot.sort_values('percent')"
   ]
  },
  {
   "cell_type": "markdown",
   "id": "e744bdb4",
   "metadata": {},
   "source": [
    "Сводная таблица показывает рост процента просрочки по займу в зависимости от количества детей. Процент рассчитан от общего количества заёмщиков в каждой из категорий (0,1,2,3,4,5 детей соответственно).    \n",
    "\n",
    "Напоминаем, что:\n",
    "* 0 - задолженности нет;\n",
    "* 1 - наличие задолженности.   \n",
    "\n",
    "\n",
    "Попробуем визуализировать таблицу."
   ]
  },
  {
   "cell_type": "code",
   "execution_count": 47,
   "id": "a96faeae",
   "metadata": {},
   "outputs": [
    {
     "data": {
      "image/png": "[encoded data removed]",
      "text/plain": [
       "<Figure size 432x288 with 1 Axes>"
      ]
     },
     "metadata": {
      "needs_background": "light"
     },
     "output_type": "display_data"
    }
   ],
   "source": [
    "sns.barplot(x='children',y='percent', data = children_data_pivot, palette='Pastel2_r')\n",
    "plt.xlabel('Количество детей')\n",
    "plt.ylabel('% задолженности')\n",
    "plt.show()"
   ]
  },
  {
   "cell_type": "markdown",
   "id": "66b2694d",
   "metadata": {},
   "source": [
    "### Вывод 1:"
   ]
  },
  {
   "cell_type": "markdown",
   "id": "391d04fd",
   "metadata": {},
   "source": [
    "Как ни странно, ни одного случая просрочки по кредиту нет у заёмщиков, имеющих пятерых детей.   \n",
    "Но это частный случай, ведь такое количество детей - редкость.    \n",
    "Наименьший процент просрочки - у  бездетных заёмщиков (7,52%), в других группах эта доля выше на 1-2%."
   ]
  },
  {
   "cell_type": "markdown",
   "id": "3ca5f1eb",
   "metadata": {},
   "source": [
    "### Вопрос 2:"
   ]
  },
  {
   "cell_type": "markdown",
   "id": "d7fd3813",
   "metadata": {},
   "source": [
    "* Есть ли зависимость между семейным положением и возвратом кредита в срок?"
   ]
  },
  {
   "cell_type": "code",
   "execution_count": 48,
   "id": "e1464662",
   "metadata": {},
   "outputs": [
    {
     "data": {
      "text/html": [
       "<div>\n",
       "<style scoped>\n",
       "    .dataframe tbody tr th:only-of-type {\n",
       "        vertical-align: middle;\n",
       "    }\n",
       "\n",
       "    .dataframe tbody tr th {\n",
       "        vertical-align: top;\n",
       "    }\n",
       "\n",
       "    .dataframe thead th {\n",
       "        text-align: right;\n",
       "    }\n",
       "</style>\n",
       "<table border=\"1\" class=\"dataframe\">\n",
       "  <thead>\n",
       "    <tr style=\"text-align: right;\">\n",
       "      <th></th>\n",
       "      <th>family_status_id</th>\n",
       "      <th>0</th>\n",
       "      <th>1</th>\n",
       "      <th>percent</th>\n",
       "      <th>family_status</th>\n",
       "    </tr>\n",
       "  </thead>\n",
       "  <tbody>\n",
       "    <tr>\n",
       "      <th>2</th>\n",
       "      <td>2</td>\n",
       "      <td>888</td>\n",
       "      <td>62</td>\n",
       "      <td>6.526316</td>\n",
       "      <td>вдовец / вдова</td>\n",
       "    </tr>\n",
       "    <tr>\n",
       "      <th>3</th>\n",
       "      <td>3</td>\n",
       "      <td>1099</td>\n",
       "      <td>84</td>\n",
       "      <td>7.100592</td>\n",
       "      <td>в разводе</td>\n",
       "    </tr>\n",
       "    <tr>\n",
       "      <th>0</th>\n",
       "      <td>0</td>\n",
       "      <td>11323</td>\n",
       "      <td>924</td>\n",
       "      <td>7.544705</td>\n",
       "      <td>женат / замужем</td>\n",
       "    </tr>\n",
       "    <tr>\n",
       "      <th>1</th>\n",
       "      <td>1</td>\n",
       "      <td>3746</td>\n",
       "      <td>383</td>\n",
       "      <td>9.275854</td>\n",
       "      <td>гражданский брак</td>\n",
       "    </tr>\n",
       "    <tr>\n",
       "      <th>4</th>\n",
       "      <td>4</td>\n",
       "      <td>2513</td>\n",
       "      <td>272</td>\n",
       "      <td>9.766607</td>\n",
       "      <td>не женат / не замужем</td>\n",
       "    </tr>\n",
       "  </tbody>\n",
       "</table>\n",
       "</div>"
      ],
      "text/plain": [
       "   family_status_id      0    1   percent          family_status\n",
       "2                 2    888   62  6.526316         вдовец / вдова\n",
       "3                 3   1099   84  7.100592              в разводе\n",
       "0                 0  11323  924  7.544705        женат / замужем\n",
       "1                 1   3746  383  9.275854       гражданский брак\n",
       "4                 4   2513  272  9.766607  не женат / не замужем"
      ]
     },
     "execution_count": 48,
     "metadata": {},
     "output_type": "execute_result"
    }
   ],
   "source": [
    "# сформируем сводную таблицу и добавим дополнительный столбец с % случаев просрочки относительно всех заёмщиков\n",
    "# в данной категории\n",
    "# добавим словесную расшифровку ID статуса из ранее созданного словаря\n",
    "\n",
    "family_data_pivot = df.pivot_table(index=['family_status_id'], columns='debt', values='purpose_category', aggfunc='count')\n",
    "family_data_pivot['percent'] = (family_data_pivot[1] / (family_data_pivot[1] + family_data_pivot[0])) *100\n",
    "family_data_pivot = family_data_pivot.merge(df_family, on='family_status_id', how='left')\n",
    "family_data_pivot.sort_values('percent')"
   ]
  },
  {
   "cell_type": "markdown",
   "id": "5a4e360c",
   "metadata": {},
   "source": [
    "Сводная таблица показывает зависимость возникновении просрочки по займу в зависимости от семейного положения.   \n",
    "\n",
    "Процент просрочки, который рассчитан от общего количества заёмщиков в каждой из категорий, ниже у людей, которые оформляли свои отношения официально. "
   ]
  },
  {
   "cell_type": "code",
   "execution_count": 49,
   "id": "6670a572",
   "metadata": {},
   "outputs": [
    {
     "data": {
      "image/png": "[encoded data removed]",
      "text/plain": [
       "<Figure size 432x288 with 1 Axes>"
      ]
     },
     "metadata": {
      "needs_background": "light"
     },
     "output_type": "display_data"
    }
   ],
   "source": [
    "# строим диаграмму\n",
    "\n",
    "sns.barplot(y='family_status',x='percent',data = family_data_pivot, palette='Pastel2_r')\n",
    "plt.xlabel('% задолженности')\n",
    "plt.ylabel('Семейное положение')\n",
    "plt.show()    "
   ]
  },
  {
   "cell_type": "markdown",
   "id": "4aa6b5f8",
   "metadata": {},
   "source": [
    "### Вывод 2:"
   ]
  },
  {
   "cell_type": "markdown",
   "id": "8a5e0e66",
   "metadata": {},
   "source": [
    "Наиболее доброcовестными заёмщиками являются люди, имевшие опыт семейных отношений, оформленных официально (вне зависимости от того, закончились эти отношения по каким-то причинам или нет). Количество клиентов, которые не имели такого опыта, и которые имеют задолженность по кредиту - выше на 2-3%."
   ]
  },
  {
   "cell_type": "markdown",
   "id": "20cc99aa",
   "metadata": {},
   "source": [
    "### Вопрос 3:"
   ]
  },
  {
   "cell_type": "markdown",
   "id": "e9553552",
   "metadata": {},
   "source": [
    "* Есть ли зависимость между уровнем дохода и возвратом кредита в срок?"
   ]
  },
  {
   "cell_type": "code",
   "execution_count": 50,
   "id": "5c252e33",
   "metadata": {},
   "outputs": [
    {
     "data": {
      "text/html": [
       "<div>\n",
       "<style scoped>\n",
       "    .dataframe tbody tr th:only-of-type {\n",
       "        vertical-align: middle;\n",
       "    }\n",
       "\n",
       "    .dataframe tbody tr th {\n",
       "        vertical-align: top;\n",
       "    }\n",
       "\n",
       "    .dataframe thead th {\n",
       "        text-align: right;\n",
       "    }\n",
       "</style>\n",
       "<table border=\"1\" class=\"dataframe\">\n",
       "  <thead>\n",
       "    <tr style=\"text-align: right;\">\n",
       "      <th>debt</th>\n",
       "      <th>total_income_category</th>\n",
       "      <th>0</th>\n",
       "      <th>1</th>\n",
       "      <th>percent</th>\n",
       "    </tr>\n",
       "  </thead>\n",
       "  <tbody>\n",
       "    <tr>\n",
       "      <th>3</th>\n",
       "      <td>D</td>\n",
       "      <td>327</td>\n",
       "      <td>21</td>\n",
       "      <td>6.034483</td>\n",
       "    </tr>\n",
       "    <tr>\n",
       "      <th>1</th>\n",
       "      <td>B</td>\n",
       "      <td>4641</td>\n",
       "      <td>353</td>\n",
       "      <td>7.068482</td>\n",
       "    </tr>\n",
       "    <tr>\n",
       "      <th>0</th>\n",
       "      <td>A</td>\n",
       "      <td>23</td>\n",
       "      <td>2</td>\n",
       "      <td>8.000000</td>\n",
       "    </tr>\n",
       "    <tr>\n",
       "      <th>2</th>\n",
       "      <td>C</td>\n",
       "      <td>14558</td>\n",
       "      <td>1347</td>\n",
       "      <td>8.469035</td>\n",
       "    </tr>\n",
       "    <tr>\n",
       "      <th>4</th>\n",
       "      <td>E</td>\n",
       "      <td>20</td>\n",
       "      <td>2</td>\n",
       "      <td>9.090909</td>\n",
       "    </tr>\n",
       "  </tbody>\n",
       "</table>\n",
       "</div>"
      ],
      "text/plain": [
       "debt total_income_category      0     1   percent\n",
       "3                        D    327    21  6.034483\n",
       "1                        B   4641   353  7.068482\n",
       "0                        A     23     2  8.000000\n",
       "2                        C  14558  1347  8.469035\n",
       "4                        E     20     2  9.090909"
      ]
     },
     "execution_count": 50,
     "metadata": {},
     "output_type": "execute_result"
    }
   ],
   "source": [
    "# сформируем сводную таблицу и добавим дополнительный столбец с % случаев просрочки относительно всех заёмщиков\n",
    "# в данной категории\n",
    "\n",
    "income_data_pivot = df.pivot_table(index=['total_income_category'], columns='debt', values='gender', aggfunc='count')\n",
    "income_data_pivot['percent'] = (income_data_pivot[1] / (income_data_pivot[1] + income_data_pivot[0])) *100\n",
    "income_data_pivot = income_data_pivot.reset_index()    # сбросим мультииндексы в сводной таблице\n",
    "income_data_pivot.sort_values('percent')"
   ]
  },
  {
   "cell_type": "code",
   "execution_count": 51,
   "id": "500ea744",
   "metadata": {},
   "outputs": [
    {
     "data": {
      "image/png": "[encoded data removed]",
      "text/plain": [
       "<Figure size 432x288 with 1 Axes>"
      ]
     },
     "metadata": {
      "needs_background": "light"
     },
     "output_type": "display_data"
    }
   ],
   "source": [
    "# строим диаграмму\n",
    "\n",
    "sns.barplot(y='total_income_category',x='percent',data = income_data_pivot, palette='Pastel2_r')\n",
    "plt.xlabel('% задолженности')\n",
    "plt.ylabel('Категории уровня дохода')\n",
    "plt.show()"
   ]
  },
  {
   "cell_type": "markdown",
   "id": "c45aabe1",
   "metadata": {},
   "source": [
    "### Вывод 3:"
   ]
  },
  {
   "cell_type": "markdown",
   "id": "dd0c0e5d",
   "metadata": {},
   "source": [
    "Как видно из таблицы и диаграммы выше, заёмщики с уровнем дохода 30 001 - 50 000 рублей в первую очередь стараются погасить кредит согласно расписанию. Процент просрочки по ним самый низкий: всего 6%.\n",
    "\n",
    "Далее идут люди с доходом выше среднего  и высоким доходом (от 200 001 рублей и выше).\n",
    "\n",
    "Самыми неисполнительными заёмщиками являются лица с самым низким уровнем дохода (менее 30 000 рублей.)"
   ]
  },
  {
   "cell_type": "markdown",
   "id": "e7a14e6e",
   "metadata": {},
   "source": [
    "### Вопрос 4:"
   ]
  },
  {
   "cell_type": "markdown",
   "id": "202cd94c",
   "metadata": {},
   "source": [
    "* Как разные цели кредита влияют на его возврат в срок?"
   ]
  },
  {
   "cell_type": "code",
   "execution_count": 52,
   "id": "9972e367",
   "metadata": {},
   "outputs": [
    {
     "data": {
      "text/html": [
       "<div>\n",
       "<style scoped>\n",
       "    .dataframe tbody tr th:only-of-type {\n",
       "        vertical-align: middle;\n",
       "    }\n",
       "\n",
       "    .dataframe tbody tr th {\n",
       "        vertical-align: top;\n",
       "    }\n",
       "\n",
       "    .dataframe thead th {\n",
       "        text-align: right;\n",
       "    }\n",
       "</style>\n",
       "<table border=\"1\" class=\"dataframe\">\n",
       "  <thead>\n",
       "    <tr style=\"text-align: right;\">\n",
       "      <th>debt</th>\n",
       "      <th>purpose_category</th>\n",
       "      <th>0</th>\n",
       "      <th>1</th>\n",
       "      <th>percent</th>\n",
       "    </tr>\n",
       "  </thead>\n",
       "  <tbody>\n",
       "    <tr>\n",
       "      <th>1</th>\n",
       "      <td>операции с недвижимостью</td>\n",
       "      <td>9953</td>\n",
       "      <td>777</td>\n",
       "      <td>7.241379</td>\n",
       "    </tr>\n",
       "    <tr>\n",
       "      <th>3</th>\n",
       "      <td>проведение свадьбы</td>\n",
       "      <td>2131</td>\n",
       "      <td>181</td>\n",
       "      <td>7.828720</td>\n",
       "    </tr>\n",
       "    <tr>\n",
       "      <th>2</th>\n",
       "      <td>получение образования</td>\n",
       "      <td>3612</td>\n",
       "      <td>369</td>\n",
       "      <td>9.269028</td>\n",
       "    </tr>\n",
       "    <tr>\n",
       "      <th>0</th>\n",
       "      <td>операции с автомобилем</td>\n",
       "      <td>3873</td>\n",
       "      <td>398</td>\n",
       "      <td>9.318661</td>\n",
       "    </tr>\n",
       "  </tbody>\n",
       "</table>\n",
       "</div>"
      ],
      "text/plain": [
       "debt          purpose_category     0    1   percent\n",
       "1     операции с недвижимостью  9953  777  7.241379\n",
       "3           проведение свадьбы  2131  181  7.828720\n",
       "2        получение образования  3612  369  9.269028\n",
       "0       операции с автомобилем  3873  398  9.318661"
      ]
     },
     "execution_count": 52,
     "metadata": {},
     "output_type": "execute_result"
    }
   ],
   "source": [
    "# сформируем сводную таблицу и добавим дополнительный столбец с % случаев просрочки относительно всех заёмщиков\n",
    "# относительно своей категории\n",
    "\n",
    "purpose_data_pivot = df.pivot_table(index=['purpose_category'], columns='debt', values='gender', aggfunc='count')\n",
    "purpose_data_pivot['percent'] = (purpose_data_pivot[1] / (purpose_data_pivot[1] + purpose_data_pivot[0])) *100\n",
    "purpose_data_pivot = purpose_data_pivot.reset_index()    # сбросим мультииндексы в сводной таблице\n",
    "purpose_data_pivot.sort_values('percent')"
   ]
  },
  {
   "cell_type": "code",
   "execution_count": 53,
   "id": "0c37642f",
   "metadata": {},
   "outputs": [
    {
     "data": {
      "image/png": "[encoded data removed]",
      "text/plain": [
       "<Figure size 432x288 with 1 Axes>"
      ]
     },
     "metadata": {
      "needs_background": "light"
     },
     "output_type": "display_data"
    }
   ],
   "source": [
    "# строим диаграмму\n",
    "\n",
    "sns.barplot(y='purpose_category',x='percent',data = purpose_data_pivot, palette='Pastel2_r')\n",
    "plt.xlabel('% задолженности')\n",
    "plt.ylabel('Цели кредита')\n",
    "plt.show()    "
   ]
  },
  {
   "cell_type": "markdown",
   "id": "7c13eeb3",
   "metadata": {},
   "source": [
    "### Вывод 4:"
   ]
  },
  {
   "cell_type": "markdown",
   "id": "24f49aa4",
   "metadata": {},
   "source": [
    "Самыми проблемными, с точки зрения возврата, являются кредиты на покупку автомобиля.\n",
    "\n",
    "Кредиты на операции с недвижимостью и на получение образования берут самые добропорядочные заёмщики."
   ]
  },
  {
   "cell_type": "markdown",
   "id": "6d801154",
   "metadata": {},
   "source": [
    "## Общий вывод"
   ]
  },
  {
   "cell_type": "markdown",
   "id": "1f2a5723",
   "metadata": {},
   "source": [
    "\n",
    "* лица без детей, с средним или выше среднего доходом, берущие кредит с целью улучшения жилищных условий или на другие операции с недвижимостью, являются наиболее надежной частью заёмщиков;    \n",
    "\n",
    "\n",
    "* лица, не состоящие в официальном браке, но имеющими 2-х и более детей, с средним и низким доходом, желающие потратить заёмные средства на покупку автомобиля,  наиболее склонны к нарушению договорных обязательств и погашению кредита в срок.\n",
    "\n"
   ]
  }
 ],
 "metadata": {
  "ExecuteTimeLog": [
   {
    "duration": 118,
    "start_time": "2022-02-11T07:39:27.335Z"
   },
   {
    "duration": 96,
    "start_time": "2022-02-11T07:40:45.919Z"
   },
   {
    "duration": 5,
    "start_time": "2022-02-11T07:44:18.783Z"
   },
   {
    "duration": 3,
    "start_time": "2022-02-11T07:45:58.895Z"
   },
   {
    "duration": 3,
    "start_time": "2022-02-11T07:46:32.764Z"
   },
   {
    "duration": 350,
    "start_time": "2022-02-11T07:50:48.706Z"
   },
   {
    "duration": 795,
    "start_time": "2022-02-11T07:50:57.296Z"
   },
   {
    "duration": 64,
    "start_time": "2022-02-11T07:51:00.601Z"
   },
   {
    "duration": 330,
    "start_time": "2022-02-11T07:51:03.437Z"
   },
   {
    "duration": 31,
    "start_time": "2022-02-11T07:51:28.570Z"
   },
   {
    "duration": 17,
    "start_time": "2022-02-11T07:52:05.498Z"
   },
   {
    "duration": 16,
    "start_time": "2022-02-11T07:52:57.219Z"
   },
   {
    "duration": 3,
    "start_time": "2022-02-11T08:18:02.591Z"
   },
   {
    "duration": 3,
    "start_time": "2022-02-11T08:19:43.430Z"
   },
   {
    "duration": 4,
    "start_time": "2022-02-11T08:19:45.761Z"
   },
   {
    "duration": 290,
    "start_time": "2022-02-11T08:26:54.106Z"
   },
   {
    "duration": 9,
    "start_time": "2022-02-11T08:27:22.627Z"
   },
   {
    "duration": 9,
    "start_time": "2022-02-11T08:27:49.269Z"
   },
   {
    "duration": 24,
    "start_time": "2022-02-11T08:31:29.357Z"
   },
   {
    "duration": 9,
    "start_time": "2022-02-11T08:33:40.393Z"
   },
   {
    "duration": 10,
    "start_time": "2022-02-11T08:36:01.725Z"
   },
   {
    "duration": 6861,
    "start_time": "2022-02-11T08:42:04.610Z"
   },
   {
    "duration": 11,
    "start_time": "2022-02-11T08:43:23.531Z"
   },
   {
    "duration": 4,
    "start_time": "2022-02-11T09:19:50.994Z"
   },
   {
    "duration": 392,
    "start_time": "2022-02-11T09:19:52.844Z"
   },
   {
    "duration": 27,
    "start_time": "2022-02-11T09:20:04.200Z"
   },
   {
    "duration": 374,
    "start_time": "2022-02-11T09:33:59.392Z"
   },
   {
    "duration": 394,
    "start_time": "2022-02-11T09:34:02.257Z"
   },
   {
    "duration": 34,
    "start_time": "2022-02-11T09:34:49.971Z"
   },
   {
    "duration": 5,
    "start_time": "2022-02-11T09:35:17.913Z"
   },
   {
    "duration": 30,
    "start_time": "2022-02-11T09:35:20.314Z"
   },
   {
    "duration": 28,
    "start_time": "2022-02-11T09:35:46.736Z"
   },
   {
    "duration": -44,
    "start_time": "2022-02-11T09:36:08.087Z"
   },
   {
    "duration": -44,
    "start_time": "2022-02-11T09:36:08.090Z"
   },
   {
    "duration": -37,
    "start_time": "2022-02-11T09:36:17.531Z"
   },
   {
    "duration": 5,
    "start_time": "2022-02-11T09:37:42.283Z"
   },
   {
    "duration": 7403,
    "start_time": "2022-02-11T09:37:47.565Z"
   },
   {
    "duration": 21,
    "start_time": "2022-02-11T09:38:06.607Z"
   },
   {
    "duration": 7155,
    "start_time": "2022-02-11T09:39:29.929Z"
   },
   {
    "duration": 6955,
    "start_time": "2022-02-11T09:40:37.894Z"
   },
   {
    "duration": 7238,
    "start_time": "2022-02-11T09:41:35.580Z"
   },
   {
    "duration": 3,
    "start_time": "2022-02-11T09:41:47.068Z"
   },
   {
    "duration": 65,
    "start_time": "2022-02-11T09:41:47.077Z"
   },
   {
    "duration": 18,
    "start_time": "2022-02-11T09:41:47.145Z"
   },
   {
    "duration": 15,
    "start_time": "2022-02-11T09:41:47.166Z"
   },
   {
    "duration": 10,
    "start_time": "2022-02-11T09:41:47.184Z"
   },
   {
    "duration": 54,
    "start_time": "2022-02-11T09:41:47.196Z"
   },
   {
    "duration": 11,
    "start_time": "2022-02-11T09:41:47.253Z"
   },
   {
    "duration": 10,
    "start_time": "2022-02-11T09:41:47.267Z"
   },
   {
    "duration": 18,
    "start_time": "2022-02-11T09:41:47.280Z"
   },
   {
    "duration": 30,
    "start_time": "2022-02-11T09:41:47.302Z"
   },
   {
    "duration": 323,
    "start_time": "2022-02-11T09:41:47.335Z"
   },
   {
    "duration": 42,
    "start_time": "2022-02-11T09:42:02.854Z"
   },
   {
    "duration": 24,
    "start_time": "2022-02-11T09:47:23.955Z"
   },
   {
    "duration": 10,
    "start_time": "2022-02-11T09:47:38.424Z"
   },
   {
    "duration": 32,
    "start_time": "2022-02-11T09:47:45.784Z"
   },
   {
    "duration": 308,
    "start_time": "2022-02-11T10:04:17.548Z"
   },
   {
    "duration": 6,
    "start_time": "2022-02-11T10:04:32.500Z"
   },
   {
    "duration": 7,
    "start_time": "2022-02-11T10:04:38.123Z"
   },
   {
    "duration": 360,
    "start_time": "2022-02-11T10:06:14.309Z"
   },
   {
    "duration": 19,
    "start_time": "2022-02-11T10:06:25.511Z"
   },
   {
    "duration": 302,
    "start_time": "2022-02-11T10:08:35.972Z"
   },
   {
    "duration": 326,
    "start_time": "2022-02-11T10:09:36.039Z"
   },
   {
    "duration": 16,
    "start_time": "2022-02-11T10:10:37.526Z"
   },
   {
    "duration": 23,
    "start_time": "2022-02-11T10:14:35.192Z"
   },
   {
    "duration": 22,
    "start_time": "2022-02-11T10:15:17.772Z"
   },
   {
    "duration": 22,
    "start_time": "2022-02-11T10:15:58.609Z"
   },
   {
    "duration": 23,
    "start_time": "2022-02-11T10:16:08.448Z"
   },
   {
    "duration": 31,
    "start_time": "2022-02-11T10:16:29.446Z"
   },
   {
    "duration": 19,
    "start_time": "2022-02-11T10:16:50.707Z"
   },
   {
    "duration": 7442,
    "start_time": "2022-02-11T10:17:21.555Z"
   },
   {
    "duration": 7756,
    "start_time": "2022-02-11T10:18:16.705Z"
   },
   {
    "duration": 333,
    "start_time": "2022-02-11T10:18:24.859Z"
   },
   {
    "duration": 4,
    "start_time": "2022-02-11T10:18:35.714Z"
   },
   {
    "duration": 66,
    "start_time": "2022-02-11T10:18:35.720Z"
   },
   {
    "duration": 22,
    "start_time": "2022-02-11T10:18:35.789Z"
   },
   {
    "duration": 16,
    "start_time": "2022-02-11T10:18:35.832Z"
   },
   {
    "duration": 9,
    "start_time": "2022-02-11T10:18:35.850Z"
   },
   {
    "duration": 24,
    "start_time": "2022-02-11T10:18:35.862Z"
   },
   {
    "duration": 43,
    "start_time": "2022-02-11T10:18:35.889Z"
   },
   {
    "duration": 13,
    "start_time": "2022-02-11T10:18:35.936Z"
   },
   {
    "duration": 15,
    "start_time": "2022-02-11T10:18:35.952Z"
   },
   {
    "duration": 5,
    "start_time": "2022-02-11T10:18:35.970Z"
   },
   {
    "duration": 21,
    "start_time": "2022-02-11T10:18:35.978Z"
   },
   {
    "duration": 51,
    "start_time": "2022-02-11T10:18:36.001Z"
   },
   {
    "duration": 17,
    "start_time": "2022-02-11T10:18:36.055Z"
   },
   {
    "duration": 18,
    "start_time": "2022-02-11T10:18:36.075Z"
   },
   {
    "duration": 16,
    "start_time": "2022-02-11T10:20:40.368Z"
   },
   {
    "duration": 334,
    "start_time": "2022-02-11T10:21:02.161Z"
   },
   {
    "duration": 274,
    "start_time": "2022-02-11T10:21:05.201Z"
   },
   {
    "duration": 3,
    "start_time": "2022-02-11T10:21:08.736Z"
   },
   {
    "duration": 60,
    "start_time": "2022-02-11T10:21:08.741Z"
   },
   {
    "duration": 29,
    "start_time": "2022-02-11T10:21:08.804Z"
   },
   {
    "duration": 15,
    "start_time": "2022-02-11T10:21:08.836Z"
   },
   {
    "duration": 9,
    "start_time": "2022-02-11T10:21:08.853Z"
   },
   {
    "duration": 25,
    "start_time": "2022-02-11T10:21:08.864Z"
   },
   {
    "duration": 43,
    "start_time": "2022-02-11T10:21:08.893Z"
   },
   {
    "duration": 9,
    "start_time": "2022-02-11T10:21:08.939Z"
   },
   {
    "duration": 14,
    "start_time": "2022-02-11T10:21:08.951Z"
   },
   {
    "duration": 7,
    "start_time": "2022-02-11T10:21:08.967Z"
   },
   {
    "duration": 16,
    "start_time": "2022-02-11T10:21:08.976Z"
   },
   {
    "duration": 50,
    "start_time": "2022-02-11T10:21:08.995Z"
   },
   {
    "duration": 15,
    "start_time": "2022-02-11T10:21:09.048Z"
   },
   {
    "duration": 11,
    "start_time": "2022-02-11T10:21:09.066Z"
   },
   {
    "duration": 16,
    "start_time": "2022-02-11T10:21:09.080Z"
   },
   {
    "duration": 315,
    "start_time": "2022-02-11T10:29:34.569Z"
   },
   {
    "duration": 304,
    "start_time": "2022-02-11T10:29:55.549Z"
   },
   {
    "duration": 292,
    "start_time": "2022-02-11T12:10:16.329Z"
   },
   {
    "duration": 18,
    "start_time": "2022-02-11T12:10:28.865Z"
   },
   {
    "duration": 8,
    "start_time": "2022-02-11T12:10:47.995Z"
   },
   {
    "duration": 7,
    "start_time": "2022-02-11T12:11:00.779Z"
   },
   {
    "duration": 3,
    "start_time": "2022-02-11T12:12:12.578Z"
   },
   {
    "duration": 61,
    "start_time": "2022-02-11T12:12:12.584Z"
   },
   {
    "duration": 18,
    "start_time": "2022-02-11T12:12:12.647Z"
   },
   {
    "duration": 16,
    "start_time": "2022-02-11T12:12:12.667Z"
   },
   {
    "duration": 10,
    "start_time": "2022-02-11T12:12:12.686Z"
   },
   {
    "duration": 55,
    "start_time": "2022-02-11T12:12:12.699Z"
   },
   {
    "duration": 10,
    "start_time": "2022-02-11T12:12:12.759Z"
   },
   {
    "duration": 12,
    "start_time": "2022-02-11T12:12:12.773Z"
   },
   {
    "duration": 48,
    "start_time": "2022-02-11T12:12:12.787Z"
   },
   {
    "duration": 118,
    "start_time": "2022-02-11T12:12:12.838Z"
   },
   {
    "duration": -30,
    "start_time": "2022-02-11T12:12:12.988Z"
   },
   {
    "duration": -29,
    "start_time": "2022-02-11T12:12:12.989Z"
   },
   {
    "duration": -43,
    "start_time": "2022-02-11T12:12:13.004Z"
   },
   {
    "duration": -49,
    "start_time": "2022-02-11T12:12:13.012Z"
   },
   {
    "duration": -59,
    "start_time": "2022-02-11T12:12:13.023Z"
   },
   {
    "duration": -68,
    "start_time": "2022-02-11T12:12:13.034Z"
   },
   {
    "duration": -74,
    "start_time": "2022-02-11T12:12:13.041Z"
   },
   {
    "duration": -82,
    "start_time": "2022-02-11T12:12:13.050Z"
   },
   {
    "duration": -82,
    "start_time": "2022-02-11T12:12:13.052Z"
   },
   {
    "duration": 26,
    "start_time": "2022-02-11T12:13:06.996Z"
   },
   {
    "duration": 307,
    "start_time": "2022-02-11T12:13:21.654Z"
   },
   {
    "duration": 25,
    "start_time": "2022-02-11T12:13:37.815Z"
   },
   {
    "duration": 22,
    "start_time": "2022-02-11T12:16:45.477Z"
   },
   {
    "duration": 18,
    "start_time": "2022-02-11T12:30:18.323Z"
   },
   {
    "duration": 4,
    "start_time": "2022-02-11T12:30:28.857Z"
   },
   {
    "duration": 58,
    "start_time": "2022-02-11T12:30:28.863Z"
   },
   {
    "duration": 17,
    "start_time": "2022-02-11T12:30:28.924Z"
   },
   {
    "duration": 15,
    "start_time": "2022-02-11T12:30:28.944Z"
   },
   {
    "duration": 21,
    "start_time": "2022-02-11T12:30:28.962Z"
   },
   {
    "duration": 58,
    "start_time": "2022-02-11T12:30:28.985Z"
   },
   {
    "duration": 10,
    "start_time": "2022-02-11T12:30:29.046Z"
   },
   {
    "duration": 25,
    "start_time": "2022-02-11T12:30:29.058Z"
   },
   {
    "duration": 9,
    "start_time": "2022-02-11T12:30:29.087Z"
   },
   {
    "duration": 36,
    "start_time": "2022-02-11T12:30:29.099Z"
   },
   {
    "duration": 15,
    "start_time": "2022-02-11T12:30:29.138Z"
   },
   {
    "duration": 5,
    "start_time": "2022-02-11T12:30:29.156Z"
   },
   {
    "duration": 21,
    "start_time": "2022-02-11T12:30:29.164Z"
   },
   {
    "duration": 57,
    "start_time": "2022-02-11T12:30:29.188Z"
   },
   {
    "duration": 16,
    "start_time": "2022-02-11T12:30:29.247Z"
   },
   {
    "duration": 7,
    "start_time": "2022-02-11T12:30:29.265Z"
   },
   {
    "duration": 18,
    "start_time": "2022-02-11T12:30:29.275Z"
   },
   {
    "duration": 396,
    "start_time": "2022-02-11T12:30:29.295Z"
   },
   {
    "duration": -53,
    "start_time": "2022-02-11T12:30:29.748Z"
   },
   {
    "duration": 315,
    "start_time": "2022-02-11T12:34:14.770Z"
   },
   {
    "duration": 18,
    "start_time": "2022-02-11T12:35:00.145Z"
   },
   {
    "duration": 8,
    "start_time": "2022-02-11T12:38:39.213Z"
   },
   {
    "duration": 8,
    "start_time": "2022-02-11T12:39:05.075Z"
   },
   {
    "duration": 12,
    "start_time": "2022-02-11T12:45:47.285Z"
   },
   {
    "duration": 97,
    "start_time": "2022-02-11T12:55:33.017Z"
   },
   {
    "duration": 33,
    "start_time": "2022-02-11T12:56:39.111Z"
   },
   {
    "duration": 8,
    "start_time": "2022-02-11T13:03:02.359Z"
   },
   {
    "duration": 8,
    "start_time": "2022-02-11T13:03:05.978Z"
   },
   {
    "duration": 18,
    "start_time": "2022-02-11T13:03:23.494Z"
   },
   {
    "duration": 307,
    "start_time": "2022-02-11T13:07:47.417Z"
   },
   {
    "duration": 11,
    "start_time": "2022-02-11T13:08:05.223Z"
   },
   {
    "duration": 20,
    "start_time": "2022-02-11T13:10:51.923Z"
   },
   {
    "duration": 13,
    "start_time": "2022-02-11T13:12:30.588Z"
   },
   {
    "duration": 289,
    "start_time": "2022-02-11T13:13:10.854Z"
   },
   {
    "duration": 283,
    "start_time": "2022-02-11T13:13:35.703Z"
   },
   {
    "duration": 287,
    "start_time": "2022-02-11T13:19:22.362Z"
   },
   {
    "duration": 11,
    "start_time": "2022-02-11T13:20:43.222Z"
   },
   {
    "duration": 94,
    "start_time": "2022-02-11T13:23:07.047Z"
   },
   {
    "duration": 7,
    "start_time": "2022-02-11T13:23:58.835Z"
   },
   {
    "duration": 12,
    "start_time": "2022-02-11T13:24:45.731Z"
   },
   {
    "duration": 301,
    "start_time": "2022-02-11T13:25:07.519Z"
   },
   {
    "duration": 303,
    "start_time": "2022-02-11T13:40:12.664Z"
   },
   {
    "duration": 9,
    "start_time": "2022-02-11T13:40:35.488Z"
   },
   {
    "duration": 305,
    "start_time": "2022-02-11T13:54:10.528Z"
   },
   {
    "duration": 10,
    "start_time": "2022-02-11T13:54:31.699Z"
   },
   {
    "duration": 8,
    "start_time": "2022-02-11T13:54:45.733Z"
   },
   {
    "duration": 300,
    "start_time": "2022-02-11T13:54:49.594Z"
   },
   {
    "duration": 9,
    "start_time": "2022-02-11T14:05:37.692Z"
   },
   {
    "duration": 15,
    "start_time": "2022-02-11T14:08:59.608Z"
   },
   {
    "duration": 8,
    "start_time": "2022-02-11T14:11:23.580Z"
   },
   {
    "duration": 103,
    "start_time": "2022-02-11T14:12:18.907Z"
   },
   {
    "duration": 283,
    "start_time": "2022-02-11T14:13:17.640Z"
   },
   {
    "duration": 288,
    "start_time": "2022-02-11T14:18:10.413Z"
   },
   {
    "duration": 105,
    "start_time": "2022-02-11T14:20:09.365Z"
   },
   {
    "duration": 104,
    "start_time": "2022-02-11T14:20:27.114Z"
   },
   {
    "duration": 19,
    "start_time": "2022-02-11T14:22:50.452Z"
   },
   {
    "duration": 300,
    "start_time": "2022-02-11T14:28:48.982Z"
   },
   {
    "duration": 21,
    "start_time": "2022-02-11T14:29:58.165Z"
   },
   {
    "duration": 29,
    "start_time": "2022-02-11T14:32:51.502Z"
   },
   {
    "duration": 2102,
    "start_time": "2022-02-11T14:37:00.576Z"
   },
   {
    "duration": 1958,
    "start_time": "2022-02-11T14:41:06.208Z"
   },
   {
    "duration": 6,
    "start_time": "2022-02-11T15:14:46.370Z"
   },
   {
    "duration": 113,
    "start_time": "2022-02-11T15:17:33.348Z"
   },
   {
    "duration": 15,
    "start_time": "2022-02-11T15:19:18.540Z"
   },
   {
    "duration": 30,
    "start_time": "2022-02-11T15:20:35.705Z"
   },
   {
    "duration": 20,
    "start_time": "2022-02-11T15:20:55.778Z"
   },
   {
    "duration": 93,
    "start_time": "2022-02-11T15:23:52.672Z"
   },
   {
    "duration": 98,
    "start_time": "2022-02-11T15:24:04.046Z"
   },
   {
    "duration": 107,
    "start_time": "2022-02-11T15:24:30.777Z"
   },
   {
    "duration": 139,
    "start_time": "2022-02-11T15:24:43.983Z"
   },
   {
    "duration": 308,
    "start_time": "2022-02-11T15:25:06.391Z"
   },
   {
    "duration": 290,
    "start_time": "2022-02-11T15:25:23.030Z"
   },
   {
    "duration": 291,
    "start_time": "2022-02-11T15:26:23.368Z"
   },
   {
    "duration": 276,
    "start_time": "2022-02-11T15:28:53.184Z"
   },
   {
    "duration": 301,
    "start_time": "2022-02-11T15:29:17.677Z"
   },
   {
    "duration": 277,
    "start_time": "2022-02-11T15:29:41.141Z"
   },
   {
    "duration": 290,
    "start_time": "2022-02-11T15:30:01.042Z"
   },
   {
    "duration": 30,
    "start_time": "2022-02-11T15:31:36.504Z"
   },
   {
    "duration": 25,
    "start_time": "2022-02-11T15:31:53.154Z"
   },
   {
    "duration": 284,
    "start_time": "2022-02-11T15:32:34.437Z"
   },
   {
    "duration": 268,
    "start_time": "2022-02-11T15:32:45.690Z"
   },
   {
    "duration": 305,
    "start_time": "2022-02-11T15:32:54.714Z"
   },
   {
    "duration": 5,
    "start_time": "2022-02-11T15:32:59.666Z"
   },
   {
    "duration": 94,
    "start_time": "2022-02-11T15:34:15.795Z"
   },
   {
    "duration": -35,
    "start_time": "2022-02-11T15:35:35.405Z"
   },
   {
    "duration": 3,
    "start_time": "2022-02-11T15:35:39.640Z"
   },
   {
    "duration": 62,
    "start_time": "2022-02-11T15:35:39.646Z"
   },
   {
    "duration": 25,
    "start_time": "2022-02-11T15:35:39.711Z"
   },
   {
    "duration": 15,
    "start_time": "2022-02-11T15:35:39.739Z"
   },
   {
    "duration": 21,
    "start_time": "2022-02-11T15:35:39.757Z"
   },
   {
    "duration": 60,
    "start_time": "2022-02-11T15:35:39.781Z"
   },
   {
    "duration": 10,
    "start_time": "2022-02-11T15:35:39.845Z"
   },
   {
    "duration": 25,
    "start_time": "2022-02-11T15:35:39.858Z"
   },
   {
    "duration": 11,
    "start_time": "2022-02-11T15:35:39.885Z"
   },
   {
    "duration": 40,
    "start_time": "2022-02-11T15:35:39.899Z"
   },
   {
    "duration": 11,
    "start_time": "2022-02-11T15:35:39.942Z"
   },
   {
    "duration": 4,
    "start_time": "2022-02-11T15:35:39.956Z"
   },
   {
    "duration": 15,
    "start_time": "2022-02-11T15:35:39.962Z"
   },
   {
    "duration": 55,
    "start_time": "2022-02-11T15:35:39.979Z"
   },
   {
    "duration": 15,
    "start_time": "2022-02-11T15:35:40.036Z"
   },
   {
    "duration": 6,
    "start_time": "2022-02-11T15:35:40.053Z"
   },
   {
    "duration": 21,
    "start_time": "2022-02-11T15:35:40.061Z"
   },
   {
    "duration": 20,
    "start_time": "2022-02-11T15:35:40.084Z"
   },
   {
    "duration": 11,
    "start_time": "2022-02-11T15:35:40.135Z"
   },
   {
    "duration": 9,
    "start_time": "2022-02-11T15:35:40.148Z"
   },
   {
    "duration": 7360,
    "start_time": "2022-02-11T15:35:40.159Z"
   },
   {
    "duration": -40,
    "start_time": "2022-02-11T15:35:47.562Z"
   },
   {
    "duration": -41,
    "start_time": "2022-02-11T15:35:47.564Z"
   },
   {
    "duration": -41,
    "start_time": "2022-02-11T15:35:47.566Z"
   },
   {
    "duration": -43,
    "start_time": "2022-02-11T15:35:47.569Z"
   },
   {
    "duration": 9,
    "start_time": "2022-02-11T15:36:32.525Z"
   },
   {
    "duration": 6,
    "start_time": "2022-02-11T15:36:44.471Z"
   },
   {
    "duration": 100,
    "start_time": "2022-02-11T15:36:48.457Z"
   },
   {
    "duration": 10,
    "start_time": "2022-02-11T15:37:33.370Z"
   },
   {
    "duration": 11,
    "start_time": "2022-02-11T15:37:51.629Z"
   },
   {
    "duration": 9,
    "start_time": "2022-02-11T15:38:07.521Z"
   },
   {
    "duration": 5,
    "start_time": "2022-02-11T15:39:52.871Z"
   },
   {
    "duration": 6,
    "start_time": "2022-02-11T15:40:00.291Z"
   },
   {
    "duration": 9,
    "start_time": "2022-02-11T15:43:10.709Z"
   },
   {
    "duration": 11,
    "start_time": "2022-02-11T15:48:42.236Z"
   },
   {
    "duration": 9,
    "start_time": "2022-02-11T15:48:54.213Z"
   },
   {
    "duration": 8,
    "start_time": "2022-02-11T15:57:05.880Z"
   },
   {
    "duration": 4,
    "start_time": "2022-02-11T15:58:21.801Z"
   },
   {
    "duration": -42,
    "start_time": "2022-02-11T15:59:37.353Z"
   },
   {
    "duration": -37,
    "start_time": "2022-02-11T16:00:13.644Z"
   },
   {
    "duration": -40,
    "start_time": "2022-02-11T16:00:13.648Z"
   },
   {
    "duration": -45,
    "start_time": "2022-02-11T16:00:13.655Z"
   },
   {
    "duration": -47,
    "start_time": "2022-02-11T16:00:13.658Z"
   },
   {
    "duration": -49,
    "start_time": "2022-02-11T16:00:13.661Z"
   },
   {
    "duration": -49,
    "start_time": "2022-02-11T16:00:13.663Z"
   },
   {
    "duration": -55,
    "start_time": "2022-02-11T16:00:13.671Z"
   },
   {
    "duration": -58,
    "start_time": "2022-02-11T16:00:13.675Z"
   },
   {
    "duration": -60,
    "start_time": "2022-02-11T16:00:13.678Z"
   },
   {
    "duration": -66,
    "start_time": "2022-02-11T16:00:13.686Z"
   },
   {
    "duration": -68,
    "start_time": "2022-02-11T16:00:13.689Z"
   },
   {
    "duration": -68,
    "start_time": "2022-02-11T16:00:13.691Z"
   },
   {
    "duration": -71,
    "start_time": "2022-02-11T16:00:13.695Z"
   },
   {
    "duration": -78,
    "start_time": "2022-02-11T16:00:13.703Z"
   },
   {
    "duration": -79,
    "start_time": "2022-02-11T16:00:13.706Z"
   },
   {
    "duration": -81,
    "start_time": "2022-02-11T16:00:13.709Z"
   },
   {
    "duration": -82,
    "start_time": "2022-02-11T16:00:13.712Z"
   },
   {
    "duration": -87,
    "start_time": "2022-02-11T16:00:13.718Z"
   },
   {
    "duration": -89,
    "start_time": "2022-02-11T16:00:13.722Z"
   },
   {
    "duration": -91,
    "start_time": "2022-02-11T16:00:13.725Z"
   },
   {
    "duration": -92,
    "start_time": "2022-02-11T16:00:13.727Z"
   },
   {
    "duration": -95,
    "start_time": "2022-02-11T16:00:13.732Z"
   },
   {
    "duration": -100,
    "start_time": "2022-02-11T16:00:13.738Z"
   },
   {
    "duration": -101,
    "start_time": "2022-02-11T16:00:13.740Z"
   },
   {
    "duration": -102,
    "start_time": "2022-02-11T16:00:13.743Z"
   },
   {
    "duration": 7534,
    "start_time": "2022-02-11T16:00:22.893Z"
   },
   {
    "duration": 4,
    "start_time": "2022-02-11T16:00:39.623Z"
   },
   {
    "duration": 1441,
    "start_time": "2022-02-11T16:01:01.351Z"
   },
   {
    "duration": 3,
    "start_time": "2022-02-11T16:01:41.851Z"
   },
   {
    "duration": 33,
    "start_time": "2022-02-11T16:01:43.280Z"
   },
   {
    "duration": 9,
    "start_time": "2022-02-11T16:02:00.237Z"
   },
   {
    "duration": 8,
    "start_time": "2022-02-11T16:03:01.900Z"
   },
   {
    "duration": 10,
    "start_time": "2022-02-11T16:03:04.652Z"
   },
   {
    "duration": 5,
    "start_time": "2022-02-11T16:03:08.851Z"
   },
   {
    "duration": 6,
    "start_time": "2022-02-11T16:03:41.785Z"
   },
   {
    "duration": 4,
    "start_time": "2022-02-11T16:03:43.840Z"
   },
   {
    "duration": 35,
    "start_time": "2022-02-11T16:03:46.756Z"
   },
   {
    "duration": 4,
    "start_time": "2022-02-11T16:04:33.689Z"
   },
   {
    "duration": 33,
    "start_time": "2022-02-11T16:04:36.540Z"
   },
   {
    "duration": 5,
    "start_time": "2022-02-11T16:05:41.098Z"
   },
   {
    "duration": 1390,
    "start_time": "2022-02-11T16:05:43.172Z"
   },
   {
    "duration": 4,
    "start_time": "2022-02-11T16:07:12.988Z"
   },
   {
    "duration": 33,
    "start_time": "2022-02-11T16:07:14.124Z"
   },
   {
    "duration": 3,
    "start_time": "2022-02-11T16:11:13.738Z"
   },
   {
    "duration": 31,
    "start_time": "2022-02-11T16:11:15.964Z"
   },
   {
    "duration": 6,
    "start_time": "2022-02-11T16:11:51.601Z"
   },
   {
    "duration": 17,
    "start_time": "2022-02-11T16:12:14.286Z"
   },
   {
    "duration": 3,
    "start_time": "2022-02-11T16:12:24.772Z"
   },
   {
    "duration": 60,
    "start_time": "2022-02-11T16:12:24.778Z"
   },
   {
    "duration": 16,
    "start_time": "2022-02-11T16:12:24.841Z"
   },
   {
    "duration": 18,
    "start_time": "2022-02-11T16:12:24.860Z"
   },
   {
    "duration": 21,
    "start_time": "2022-02-11T16:12:24.880Z"
   },
   {
    "duration": 52,
    "start_time": "2022-02-11T16:12:24.903Z"
   },
   {
    "duration": 10,
    "start_time": "2022-02-11T16:12:24.957Z"
   },
   {
    "duration": 24,
    "start_time": "2022-02-11T16:12:24.971Z"
   },
   {
    "duration": 10,
    "start_time": "2022-02-11T16:12:25.032Z"
   },
   {
    "duration": 22,
    "start_time": "2022-02-11T16:12:25.044Z"
   },
   {
    "duration": 14,
    "start_time": "2022-02-11T16:12:25.068Z"
   },
   {
    "duration": 9,
    "start_time": "2022-02-11T16:12:25.084Z"
   },
   {
    "duration": 19,
    "start_time": "2022-02-11T16:12:25.095Z"
   },
   {
    "duration": 20,
    "start_time": "2022-02-11T16:12:25.132Z"
   },
   {
    "duration": 14,
    "start_time": "2022-02-11T16:12:25.155Z"
   },
   {
    "duration": 7,
    "start_time": "2022-02-11T16:12:25.172Z"
   },
   {
    "duration": 52,
    "start_time": "2022-02-11T16:12:25.181Z"
   },
   {
    "duration": 17,
    "start_time": "2022-02-11T16:12:25.236Z"
   },
   {
    "duration": 14,
    "start_time": "2022-02-11T16:12:25.255Z"
   },
   {
    "duration": 11,
    "start_time": "2022-02-11T16:12:25.272Z"
   },
   {
    "duration": 8,
    "start_time": "2022-02-11T16:12:25.285Z"
   },
   {
    "duration": 7,
    "start_time": "2022-02-11T16:12:25.332Z"
   },
   {
    "duration": 6,
    "start_time": "2022-02-11T16:12:25.343Z"
   },
   {
    "duration": 33,
    "start_time": "2022-02-11T16:12:25.352Z"
   },
   {
    "duration": 89,
    "start_time": "2022-02-11T16:12:25.387Z"
   },
   {
    "duration": -23,
    "start_time": "2022-02-11T16:12:25.501Z"
   },
   {
    "duration": 22,
    "start_time": "2022-02-11T16:13:14.301Z"
   },
   {
    "duration": 287,
    "start_time": "2022-02-11T16:13:32.073Z"
   },
   {
    "duration": 3,
    "start_time": "2022-02-11T16:26:51.721Z"
   },
   {
    "duration": 7426,
    "start_time": "2022-02-11T16:29:18.972Z"
   },
   {
    "duration": 6753,
    "start_time": "2022-02-11T16:29:31.867Z"
   },
   {
    "duration": 3,
    "start_time": "2022-02-11T16:31:58.152Z"
   },
   {
    "duration": 67,
    "start_time": "2022-02-11T16:31:58.158Z"
   },
   {
    "duration": 17,
    "start_time": "2022-02-11T16:31:58.228Z"
   },
   {
    "duration": 17,
    "start_time": "2022-02-11T16:31:58.247Z"
   },
   {
    "duration": 21,
    "start_time": "2022-02-11T16:31:58.266Z"
   },
   {
    "duration": 61,
    "start_time": "2022-02-11T16:31:58.289Z"
   },
   {
    "duration": 10,
    "start_time": "2022-02-11T16:31:58.353Z"
   },
   {
    "duration": 26,
    "start_time": "2022-02-11T16:31:58.366Z"
   },
   {
    "duration": 9,
    "start_time": "2022-02-11T16:31:58.394Z"
   },
   {
    "duration": 17,
    "start_time": "2022-02-11T16:31:58.433Z"
   },
   {
    "duration": 12,
    "start_time": "2022-02-11T16:31:58.452Z"
   },
   {
    "duration": 12,
    "start_time": "2022-02-11T16:31:58.466Z"
   },
   {
    "duration": 4,
    "start_time": "2022-02-11T16:31:58.480Z"
   },
   {
    "duration": 48,
    "start_time": "2022-02-11T16:31:58.486Z"
   },
   {
    "duration": 26,
    "start_time": "2022-02-11T16:31:58.537Z"
   },
   {
    "duration": 18,
    "start_time": "2022-02-11T16:31:58.565Z"
   },
   {
    "duration": 7,
    "start_time": "2022-02-11T16:31:58.585Z"
   },
   {
    "duration": 47,
    "start_time": "2022-02-11T16:31:58.594Z"
   },
   {
    "duration": 20,
    "start_time": "2022-02-11T16:31:58.645Z"
   },
   {
    "duration": 12,
    "start_time": "2022-02-11T16:31:58.668Z"
   },
   {
    "duration": 10,
    "start_time": "2022-02-11T16:31:58.682Z"
   },
   {
    "duration": 41,
    "start_time": "2022-02-11T16:31:58.695Z"
   },
   {
    "duration": 7,
    "start_time": "2022-02-11T16:31:58.739Z"
   },
   {
    "duration": 5,
    "start_time": "2022-02-11T16:31:58.748Z"
   },
   {
    "duration": 25,
    "start_time": "2022-02-11T16:31:58.757Z"
   },
   {
    "duration": 89,
    "start_time": "2022-02-11T16:31:58.785Z"
   },
   {
    "duration": -35,
    "start_time": "2022-02-11T16:31:58.913Z"
   },
   {
    "duration": 10,
    "start_time": "2022-02-11T16:34:15.122Z"
   },
   {
    "duration": -34,
    "start_time": "2022-02-11T16:41:12.146Z"
   },
   {
    "duration": -43,
    "start_time": "2022-02-11T16:41:12.157Z"
   },
   {
    "duration": 7372,
    "start_time": "2022-02-11T16:41:25.731Z"
   },
   {
    "duration": -42,
    "start_time": "2022-02-11T16:42:06.443Z"
   },
   {
    "duration": 100,
    "start_time": "2022-02-11T16:42:15.624Z"
   },
   {
    "duration": 7306,
    "start_time": "2022-02-11T16:42:30.958Z"
   },
   {
    "duration": 7022,
    "start_time": "2022-02-11T16:44:45.767Z"
   },
   {
    "duration": -35,
    "start_time": "2022-02-11T16:45:05.269Z"
   },
   {
    "duration": -37,
    "start_time": "2022-02-11T16:45:05.273Z"
   },
   {
    "duration": -36,
    "start_time": "2022-02-11T16:45:05.275Z"
   },
   {
    "duration": -36,
    "start_time": "2022-02-11T16:45:05.277Z"
   },
   {
    "duration": -37,
    "start_time": "2022-02-11T16:45:05.280Z"
   },
   {
    "duration": -42,
    "start_time": "2022-02-11T16:45:05.287Z"
   },
   {
    "duration": -41,
    "start_time": "2022-02-11T16:45:05.289Z"
   },
   {
    "duration": -41,
    "start_time": "2022-02-11T16:45:05.293Z"
   },
   {
    "duration": -42,
    "start_time": "2022-02-11T16:45:05.295Z"
   },
   {
    "duration": -43,
    "start_time": "2022-02-11T16:45:05.298Z"
   },
   {
    "duration": -48,
    "start_time": "2022-02-11T16:45:05.304Z"
   },
   {
    "duration": -49,
    "start_time": "2022-02-11T16:45:05.307Z"
   },
   {
    "duration": -51,
    "start_time": "2022-02-11T16:45:05.310Z"
   },
   {
    "duration": -51,
    "start_time": "2022-02-11T16:45:05.312Z"
   },
   {
    "duration": -59,
    "start_time": "2022-02-11T16:45:05.321Z"
   },
   {
    "duration": -59,
    "start_time": "2022-02-11T16:45:05.323Z"
   },
   {
    "duration": -60,
    "start_time": "2022-02-11T16:45:05.325Z"
   },
   {
    "duration": -86,
    "start_time": "2022-02-11T16:45:05.353Z"
   },
   {
    "duration": -87,
    "start_time": "2022-02-11T16:45:05.356Z"
   },
   {
    "duration": -89,
    "start_time": "2022-02-11T16:45:05.359Z"
   },
   {
    "duration": -92,
    "start_time": "2022-02-11T16:45:05.363Z"
   },
   {
    "duration": -97,
    "start_time": "2022-02-11T16:45:05.370Z"
   },
   {
    "duration": -98,
    "start_time": "2022-02-11T16:45:05.372Z"
   },
   {
    "duration": -43,
    "start_time": "2022-02-11T16:45:05.375Z"
   },
   {
    "duration": -43,
    "start_time": "2022-02-11T16:45:05.377Z"
   },
   {
    "duration": -59,
    "start_time": "2022-02-11T16:45:05.394Z"
   },
   {
    "duration": -59,
    "start_time": "2022-02-11T16:45:05.396Z"
   },
   {
    "duration": -66,
    "start_time": "2022-02-11T16:45:05.404Z"
   },
   {
    "duration": -68,
    "start_time": "2022-02-11T16:45:05.407Z"
   },
   {
    "duration": 7194,
    "start_time": "2022-02-11T16:45:41.945Z"
   },
   {
    "duration": 4,
    "start_time": "2022-02-11T16:48:02.370Z"
   },
   {
    "duration": 79,
    "start_time": "2022-02-11T16:48:02.381Z"
   },
   {
    "duration": 17,
    "start_time": "2022-02-11T16:48:02.462Z"
   },
   {
    "duration": 24,
    "start_time": "2022-02-11T16:48:02.482Z"
   },
   {
    "duration": 40,
    "start_time": "2022-02-11T16:48:02.509Z"
   },
   {
    "duration": 27,
    "start_time": "2022-02-11T16:48:02.552Z"
   },
   {
    "duration": 10,
    "start_time": "2022-02-11T16:48:02.581Z"
   },
   {
    "duration": 53,
    "start_time": "2022-02-11T16:48:02.594Z"
   },
   {
    "duration": 9,
    "start_time": "2022-02-11T16:48:02.651Z"
   },
   {
    "duration": 21,
    "start_time": "2022-02-11T16:48:02.662Z"
   },
   {
    "duration": 14,
    "start_time": "2022-02-11T16:48:02.686Z"
   },
   {
    "duration": 32,
    "start_time": "2022-02-11T16:48:02.702Z"
   },
   {
    "duration": 11,
    "start_time": "2022-02-11T16:48:02.737Z"
   },
   {
    "duration": 4,
    "start_time": "2022-02-11T16:48:02.751Z"
   },
   {
    "duration": 16,
    "start_time": "2022-02-11T16:48:02.758Z"
   },
   {
    "duration": 23,
    "start_time": "2022-02-11T16:48:02.777Z"
   },
   {
    "duration": 47,
    "start_time": "2022-02-11T16:48:02.802Z"
   },
   {
    "duration": 9,
    "start_time": "2022-02-11T16:48:02.852Z"
   },
   {
    "duration": 18,
    "start_time": "2022-02-11T16:48:02.863Z"
   },
   {
    "duration": 7347,
    "start_time": "2022-02-11T16:48:02.883Z"
   },
   {
    "duration": -38,
    "start_time": "2022-02-11T16:48:10.271Z"
   },
   {
    "duration": -39,
    "start_time": "2022-02-11T16:48:10.273Z"
   },
   {
    "duration": -40,
    "start_time": "2022-02-11T16:48:10.276Z"
   },
   {
    "duration": -46,
    "start_time": "2022-02-11T16:48:10.283Z"
   },
   {
    "duration": -47,
    "start_time": "2022-02-11T16:48:10.285Z"
   },
   {
    "duration": -48,
    "start_time": "2022-02-11T16:48:10.288Z"
   },
   {
    "duration": -50,
    "start_time": "2022-02-11T16:48:10.291Z"
   },
   {
    "duration": -51,
    "start_time": "2022-02-11T16:48:10.293Z"
   },
   {
    "duration": -60,
    "start_time": "2022-02-11T16:48:10.303Z"
   },
   {
    "duration": 40,
    "start_time": "2022-02-11T16:48:23.006Z"
   },
   {
    "duration": 24,
    "start_time": "2022-02-11T16:49:10.473Z"
   },
   {
    "duration": 31,
    "start_time": "2022-02-11T16:49:28.050Z"
   },
   {
    "duration": 26,
    "start_time": "2022-02-11T16:49:47.908Z"
   },
   {
    "duration": 16,
    "start_time": "2022-02-11T16:50:57.483Z"
   },
   {
    "duration": 105,
    "start_time": "2022-02-11T16:51:25.421Z"
   },
   {
    "duration": 26,
    "start_time": "2022-02-11T16:51:39.552Z"
   },
   {
    "duration": -48,
    "start_time": "2022-02-11T16:54:52.134Z"
   },
   {
    "duration": 15,
    "start_time": "2022-02-11T16:55:02.841Z"
   },
   {
    "duration": 15,
    "start_time": "2022-02-11T17:01:24.708Z"
   },
   {
    "duration": 19,
    "start_time": "2022-02-11T17:03:12.155Z"
   },
   {
    "duration": 13,
    "start_time": "2022-02-11T17:03:38.736Z"
   },
   {
    "duration": 276,
    "start_time": "2022-02-11T17:06:49.487Z"
   },
   {
    "duration": 12,
    "start_time": "2022-02-11T17:07:06.174Z"
   },
   {
    "duration": 5,
    "start_time": "2022-02-11T17:11:19.112Z"
   },
   {
    "duration": 3881,
    "start_time": "2022-02-11T17:23:06.857Z"
   },
   {
    "duration": 3,
    "start_time": "2022-02-11T17:24:12.351Z"
   },
   {
    "duration": 68,
    "start_time": "2022-02-11T17:24:12.357Z"
   },
   {
    "duration": 16,
    "start_time": "2022-02-11T17:24:12.432Z"
   },
   {
    "duration": 20,
    "start_time": "2022-02-11T17:24:12.451Z"
   },
   {
    "duration": 24,
    "start_time": "2022-02-11T17:24:12.473Z"
   },
   {
    "duration": 49,
    "start_time": "2022-02-11T17:24:12.500Z"
   },
   {
    "duration": 10,
    "start_time": "2022-02-11T17:24:12.552Z"
   },
   {
    "duration": 33,
    "start_time": "2022-02-11T17:24:12.566Z"
   },
   {
    "duration": 31,
    "start_time": "2022-02-11T17:24:12.602Z"
   },
   {
    "duration": 16,
    "start_time": "2022-02-11T17:24:12.635Z"
   },
   {
    "duration": 11,
    "start_time": "2022-02-11T17:24:12.653Z"
   },
   {
    "duration": 12,
    "start_time": "2022-02-11T17:24:12.666Z"
   },
   {
    "duration": 12,
    "start_time": "2022-02-11T17:24:12.680Z"
   },
   {
    "duration": 4,
    "start_time": "2022-02-11T17:24:12.733Z"
   },
   {
    "duration": 19,
    "start_time": "2022-02-11T17:24:12.739Z"
   },
   {
    "duration": 22,
    "start_time": "2022-02-11T17:24:12.761Z"
   },
   {
    "duration": 55,
    "start_time": "2022-02-11T17:24:12.786Z"
   },
   {
    "duration": 8,
    "start_time": "2022-02-11T17:24:12.843Z"
   },
   {
    "duration": 19,
    "start_time": "2022-02-11T17:24:12.853Z"
   },
   {
    "duration": 31,
    "start_time": "2022-02-11T17:24:12.874Z"
   },
   {
    "duration": 40,
    "start_time": "2022-02-11T17:24:12.907Z"
   },
   {
    "duration": 14,
    "start_time": "2022-02-11T17:24:12.949Z"
   },
   {
    "duration": 9,
    "start_time": "2022-02-11T17:24:12.968Z"
   },
   {
    "duration": 57,
    "start_time": "2022-02-11T17:24:12.979Z"
   },
   {
    "duration": 9,
    "start_time": "2022-02-11T17:24:13.039Z"
   },
   {
    "duration": 6,
    "start_time": "2022-02-11T17:24:13.051Z"
   },
   {
    "duration": 25,
    "start_time": "2022-02-11T17:24:13.060Z"
   },
   {
    "duration": 51,
    "start_time": "2022-02-11T17:24:13.087Z"
   },
   {
    "duration": 4,
    "start_time": "2022-02-11T17:24:13.140Z"
   },
   {
    "duration": 3815,
    "start_time": "2022-02-11T17:24:13.146Z"
   },
   {
    "duration": -32,
    "start_time": "2022-02-11T17:24:16.996Z"
   },
   {
    "duration": -39,
    "start_time": "2022-02-11T17:24:17.005Z"
   },
   {
    "duration": 3783,
    "start_time": "2022-02-11T17:24:57.245Z"
   },
   {
    "duration": 3743,
    "start_time": "2022-02-11T17:25:34.832Z"
   },
   {
    "duration": 3647,
    "start_time": "2022-02-11T17:26:34.073Z"
   },
   {
    "duration": 3572,
    "start_time": "2022-02-11T17:26:47.273Z"
   },
   {
    "duration": 4,
    "start_time": "2022-02-11T17:27:06.290Z"
   },
   {
    "duration": 72,
    "start_time": "2022-02-11T17:27:06.297Z"
   },
   {
    "duration": 18,
    "start_time": "2022-02-11T17:27:06.373Z"
   },
   {
    "duration": 45,
    "start_time": "2022-02-11T17:27:06.396Z"
   },
   {
    "duration": 26,
    "start_time": "2022-02-11T17:27:06.444Z"
   },
   {
    "duration": 30,
    "start_time": "2022-02-11T17:27:06.472Z"
   },
   {
    "duration": 34,
    "start_time": "2022-02-11T17:27:06.506Z"
   },
   {
    "duration": 22,
    "start_time": "2022-02-11T17:27:06.544Z"
   },
   {
    "duration": 11,
    "start_time": "2022-02-11T17:27:06.569Z"
   },
   {
    "duration": 55,
    "start_time": "2022-02-11T17:27:06.582Z"
   },
   {
    "duration": 11,
    "start_time": "2022-02-11T17:27:06.640Z"
   },
   {
    "duration": 13,
    "start_time": "2022-02-11T17:27:06.654Z"
   },
   {
    "duration": 16,
    "start_time": "2022-02-11T17:27:06.670Z"
   },
   {
    "duration": 6,
    "start_time": "2022-02-11T17:27:06.689Z"
   },
   {
    "duration": 20,
    "start_time": "2022-02-11T17:27:06.733Z"
   },
   {
    "duration": 26,
    "start_time": "2022-02-11T17:27:06.756Z"
   },
   {
    "duration": 53,
    "start_time": "2022-02-11T17:27:06.785Z"
   },
   {
    "duration": 9,
    "start_time": "2022-02-11T17:27:06.841Z"
   },
   {
    "duration": 18,
    "start_time": "2022-02-11T17:27:06.856Z"
   },
   {
    "duration": 22,
    "start_time": "2022-02-11T17:27:06.877Z"
   },
   {
    "duration": 43,
    "start_time": "2022-02-11T17:27:06.901Z"
   },
   {
    "duration": 13,
    "start_time": "2022-02-11T17:27:06.948Z"
   },
   {
    "duration": 11,
    "start_time": "2022-02-11T17:27:06.964Z"
   },
   {
    "duration": 10,
    "start_time": "2022-02-11T17:27:06.978Z"
   },
   {
    "duration": 50,
    "start_time": "2022-02-11T17:27:06.990Z"
   },
   {
    "duration": 6,
    "start_time": "2022-02-11T17:27:07.043Z"
   },
   {
    "duration": 24,
    "start_time": "2022-02-11T17:27:07.052Z"
   },
   {
    "duration": 51,
    "start_time": "2022-02-11T17:27:07.081Z"
   },
   {
    "duration": 42,
    "start_time": "2022-02-11T17:27:07.135Z"
   },
   {
    "duration": 7,
    "start_time": "2022-02-11T17:27:07.180Z"
   },
   {
    "duration": 91,
    "start_time": "2022-02-11T17:27:07.190Z"
   },
   {
    "duration": -24,
    "start_time": "2022-02-11T17:27:07.308Z"
   },
   {
    "duration": 3868,
    "start_time": "2022-02-11T17:27:53.771Z"
   },
   {
    "duration": 3,
    "start_time": "2022-02-11T17:29:11.303Z"
   },
   {
    "duration": 88,
    "start_time": "2022-02-11T17:29:11.315Z"
   },
   {
    "duration": 34,
    "start_time": "2022-02-11T17:29:11.406Z"
   },
   {
    "duration": 23,
    "start_time": "2022-02-11T17:29:11.444Z"
   },
   {
    "duration": 21,
    "start_time": "2022-02-11T17:29:11.470Z"
   },
   {
    "duration": 73,
    "start_time": "2022-02-11T17:29:11.494Z"
   },
   {
    "duration": 14,
    "start_time": "2022-02-11T17:29:11.570Z"
   },
   {
    "duration": 68,
    "start_time": "2022-02-11T17:29:11.587Z"
   },
   {
    "duration": 9,
    "start_time": "2022-02-11T17:29:11.657Z"
   },
   {
    "duration": 34,
    "start_time": "2022-02-11T17:29:11.670Z"
   },
   {
    "duration": 26,
    "start_time": "2022-02-11T17:29:11.708Z"
   },
   {
    "duration": 11,
    "start_time": "2022-02-11T17:29:11.737Z"
   },
   {
    "duration": 12,
    "start_time": "2022-02-11T17:29:11.751Z"
   },
   {
    "duration": 9,
    "start_time": "2022-02-11T17:29:11.765Z"
   },
   {
    "duration": 20,
    "start_time": "2022-02-11T17:29:11.776Z"
   },
   {
    "duration": 49,
    "start_time": "2022-02-11T17:29:11.799Z"
   },
   {
    "duration": 18,
    "start_time": "2022-02-11T17:29:11.851Z"
   },
   {
    "duration": 7,
    "start_time": "2022-02-11T17:29:11.874Z"
   },
   {
    "duration": 19,
    "start_time": "2022-02-11T17:29:11.883Z"
   },
   {
    "duration": 18,
    "start_time": "2022-02-11T17:29:11.933Z"
   },
   {
    "duration": 17,
    "start_time": "2022-02-11T17:29:11.954Z"
   },
   {
    "duration": 23,
    "start_time": "2022-02-11T17:29:11.974Z"
   },
   {
    "duration": 10,
    "start_time": "2022-02-11T17:29:12.036Z"
   },
   {
    "duration": 12,
    "start_time": "2022-02-11T17:29:12.049Z"
   },
   {
    "duration": 16,
    "start_time": "2022-02-11T17:29:12.064Z"
   },
   {
    "duration": 21,
    "start_time": "2022-02-11T17:29:12.083Z"
   },
   {
    "duration": 57,
    "start_time": "2022-02-11T17:29:12.107Z"
   },
   {
    "duration": 14,
    "start_time": "2022-02-11T17:29:12.171Z"
   },
   {
    "duration": 5,
    "start_time": "2022-02-11T17:29:12.189Z"
   },
   {
    "duration": 38,
    "start_time": "2022-02-11T17:29:12.196Z"
   },
   {
    "duration": 12,
    "start_time": "2022-02-11T17:29:12.237Z"
   },
   {
    "duration": 118,
    "start_time": "2022-02-11T17:29:12.252Z"
   },
   {
    "duration": -22,
    "start_time": "2022-02-11T17:29:12.395Z"
   },
   {
    "duration": 3,
    "start_time": "2022-02-11T17:30:14.886Z"
   },
   {
    "duration": 68,
    "start_time": "2022-02-11T17:30:14.892Z"
   },
   {
    "duration": 17,
    "start_time": "2022-02-11T17:30:14.963Z"
   },
   {
    "duration": 53,
    "start_time": "2022-02-11T17:30:14.984Z"
   },
   {
    "duration": 38,
    "start_time": "2022-02-11T17:30:15.040Z"
   },
   {
    "duration": 60,
    "start_time": "2022-02-11T17:30:15.082Z"
   },
   {
    "duration": 15,
    "start_time": "2022-02-11T17:30:15.147Z"
   },
   {
    "duration": 39,
    "start_time": "2022-02-11T17:30:15.166Z"
   },
   {
    "duration": 32,
    "start_time": "2022-02-11T17:30:15.208Z"
   },
   {
    "duration": 21,
    "start_time": "2022-02-11T17:30:15.243Z"
   },
   {
    "duration": 13,
    "start_time": "2022-02-11T17:30:15.267Z"
   },
   {
    "duration": 19,
    "start_time": "2022-02-11T17:30:15.282Z"
   },
   {
    "duration": 16,
    "start_time": "2022-02-11T17:30:15.332Z"
   },
   {
    "duration": 7,
    "start_time": "2022-02-11T17:30:15.351Z"
   },
   {
    "duration": 16,
    "start_time": "2022-02-11T17:30:15.360Z"
   },
   {
    "duration": 55,
    "start_time": "2022-02-11T17:30:15.379Z"
   },
   {
    "duration": 28,
    "start_time": "2022-02-11T17:30:15.437Z"
   },
   {
    "duration": 8,
    "start_time": "2022-02-11T17:30:15.467Z"
   },
   {
    "duration": 59,
    "start_time": "2022-02-11T17:30:15.479Z"
   },
   {
    "duration": 21,
    "start_time": "2022-02-11T17:30:15.541Z"
   },
   {
    "duration": 37,
    "start_time": "2022-02-11T17:30:15.565Z"
   },
   {
    "duration": 37,
    "start_time": "2022-02-11T17:30:15.605Z"
   },
   {
    "duration": 11,
    "start_time": "2022-02-11T17:30:15.645Z"
   },
   {
    "duration": 9,
    "start_time": "2022-02-11T17:30:15.658Z"
   },
   {
    "duration": 7,
    "start_time": "2022-02-11T17:30:15.669Z"
   },
   {
    "duration": 53,
    "start_time": "2022-02-11T17:30:15.679Z"
   },
   {
    "duration": 25,
    "start_time": "2022-02-11T17:30:15.735Z"
   },
   {
    "duration": 11,
    "start_time": "2022-02-11T17:30:15.762Z"
   },
   {
    "duration": 5,
    "start_time": "2022-02-11T17:30:15.775Z"
   },
   {
    "duration": 50,
    "start_time": "2022-02-11T17:30:15.783Z"
   },
   {
    "duration": 12,
    "start_time": "2022-02-11T17:30:15.836Z"
   },
   {
    "duration": 30,
    "start_time": "2022-02-11T17:30:15.851Z"
   },
   {
    "duration": 16,
    "start_time": "2022-02-11T17:32:36.769Z"
   },
   {
    "duration": 106,
    "start_time": "2022-02-11T17:33:36.551Z"
   },
   {
    "duration": 3,
    "start_time": "2022-02-11T17:36:18.549Z"
   },
   {
    "duration": 65,
    "start_time": "2022-02-11T17:36:18.555Z"
   },
   {
    "duration": 20,
    "start_time": "2022-02-11T17:36:18.623Z"
   },
   {
    "duration": 16,
    "start_time": "2022-02-11T17:36:18.645Z"
   },
   {
    "duration": 19,
    "start_time": "2022-02-11T17:36:18.664Z"
   },
   {
    "duration": 53,
    "start_time": "2022-02-11T17:36:18.686Z"
   },
   {
    "duration": 9,
    "start_time": "2022-02-11T17:36:18.741Z"
   },
   {
    "duration": 21,
    "start_time": "2022-02-11T17:36:18.754Z"
   },
   {
    "duration": 9,
    "start_time": "2022-02-11T17:36:18.778Z"
   },
   {
    "duration": 49,
    "start_time": "2022-02-11T17:36:18.789Z"
   },
   {
    "duration": 16,
    "start_time": "2022-02-11T17:36:18.841Z"
   },
   {
    "duration": 19,
    "start_time": "2022-02-11T17:36:18.859Z"
   },
   {
    "duration": 16,
    "start_time": "2022-02-11T17:36:18.880Z"
   },
   {
    "duration": 8,
    "start_time": "2022-02-11T17:36:18.898Z"
   },
   {
    "duration": 31,
    "start_time": "2022-02-11T17:36:18.908Z"
   },
   {
    "duration": 40,
    "start_time": "2022-02-11T17:36:18.941Z"
   },
   {
    "duration": 17,
    "start_time": "2022-02-11T17:36:18.984Z"
   },
   {
    "duration": 15,
    "start_time": "2022-02-11T17:36:19.003Z"
   },
   {
    "duration": 37,
    "start_time": "2022-02-11T17:36:19.021Z"
   },
   {
    "duration": 29,
    "start_time": "2022-02-11T17:36:19.060Z"
   },
   {
    "duration": 33,
    "start_time": "2022-02-11T17:36:19.091Z"
   },
   {
    "duration": 12,
    "start_time": "2022-02-11T17:36:19.127Z"
   },
   {
    "duration": 18,
    "start_time": "2022-02-11T17:36:19.145Z"
   },
   {
    "duration": 11,
    "start_time": "2022-02-11T17:36:19.165Z"
   },
   {
    "duration": 15,
    "start_time": "2022-02-11T17:36:19.178Z"
   },
   {
    "duration": 9,
    "start_time": "2022-02-11T17:36:19.196Z"
   },
   {
    "duration": 24,
    "start_time": "2022-02-11T17:36:19.231Z"
   },
   {
    "duration": 14,
    "start_time": "2022-02-11T17:36:19.257Z"
   },
   {
    "duration": 5,
    "start_time": "2022-02-11T17:36:19.273Z"
   },
   {
    "duration": 14,
    "start_time": "2022-02-11T17:36:19.280Z"
   },
   {
    "duration": 38,
    "start_time": "2022-02-11T17:36:19.296Z"
   },
   {
    "duration": 17,
    "start_time": "2022-02-11T17:36:19.336Z"
   },
   {
    "duration": 16,
    "start_time": "2022-02-11T17:38:04.834Z"
   },
   {
    "duration": 285,
    "start_time": "2022-02-11T20:23:07.432Z"
   },
   {
    "duration": 732,
    "start_time": "2022-02-11T20:24:13.650Z"
   },
   {
    "duration": 59,
    "start_time": "2022-02-11T20:24:14.384Z"
   },
   {
    "duration": 21,
    "start_time": "2022-02-11T20:24:14.445Z"
   },
   {
    "duration": 10,
    "start_time": "2022-02-11T20:24:14.467Z"
   },
   {
    "duration": 13,
    "start_time": "2022-02-11T20:24:14.478Z"
   },
   {
    "duration": 14,
    "start_time": "2022-02-11T20:24:14.493Z"
   },
   {
    "duration": 484,
    "start_time": "2022-02-11T20:24:14.509Z"
   },
   {
    "duration": -1180,
    "start_time": "2022-02-11T20:24:16.176Z"
   },
   {
    "duration": -1182,
    "start_time": "2022-02-11T20:24:16.179Z"
   },
   {
    "duration": -1188,
    "start_time": "2022-02-11T20:24:16.186Z"
   },
   {
    "duration": -1190,
    "start_time": "2022-02-11T20:24:16.189Z"
   },
   {
    "duration": -1192,
    "start_time": "2022-02-11T20:24:16.192Z"
   },
   {
    "duration": -1195,
    "start_time": "2022-02-11T20:24:16.196Z"
   },
   {
    "duration": -1198,
    "start_time": "2022-02-11T20:24:16.200Z"
   },
   {
    "duration": -1203,
    "start_time": "2022-02-11T20:24:16.206Z"
   },
   {
    "duration": -1204,
    "start_time": "2022-02-11T20:24:16.208Z"
   },
   {
    "duration": -1206,
    "start_time": "2022-02-11T20:24:16.211Z"
   },
   {
    "duration": -1207,
    "start_time": "2022-02-11T20:24:16.213Z"
   },
   {
    "duration": -1210,
    "start_time": "2022-02-11T20:24:16.217Z"
   },
   {
    "duration": -1211,
    "start_time": "2022-02-11T20:24:16.219Z"
   },
   {
    "duration": -1212,
    "start_time": "2022-02-11T20:24:16.222Z"
   },
   {
    "duration": -1213,
    "start_time": "2022-02-11T20:24:16.224Z"
   },
   {
    "duration": -1214,
    "start_time": "2022-02-11T20:24:16.226Z"
   },
   {
    "duration": -1215,
    "start_time": "2022-02-11T20:24:16.227Z"
   },
   {
    "duration": -1216,
    "start_time": "2022-02-11T20:24:16.229Z"
   },
   {
    "duration": -1216,
    "start_time": "2022-02-11T20:24:16.231Z"
   },
   {
    "duration": -1220,
    "start_time": "2022-02-11T20:24:16.235Z"
   },
   {
    "duration": -1221,
    "start_time": "2022-02-11T20:24:16.237Z"
   },
   {
    "duration": -1223,
    "start_time": "2022-02-11T20:24:16.240Z"
   },
   {
    "duration": -1223,
    "start_time": "2022-02-11T20:24:16.241Z"
   },
   {
    "duration": -1224,
    "start_time": "2022-02-11T20:24:16.243Z"
   },
   {
    "duration": -1225,
    "start_time": "2022-02-11T20:24:16.245Z"
   },
   {
    "duration": 7,
    "start_time": "2022-02-11T20:24:34.508Z"
   },
   {
    "duration": 15,
    "start_time": "2022-02-11T20:24:41.923Z"
   },
   {
    "duration": 7,
    "start_time": "2022-02-11T20:24:48.374Z"
   },
   {
    "duration": 8,
    "start_time": "2022-02-11T20:24:55.039Z"
   },
   {
    "duration": 7,
    "start_time": "2022-02-11T20:24:59.289Z"
   },
   {
    "duration": 8,
    "start_time": "2022-02-11T20:25:04.144Z"
   },
   {
    "duration": 13,
    "start_time": "2022-02-11T20:25:24.650Z"
   },
   {
    "duration": 10,
    "start_time": "2022-02-11T20:25:28.924Z"
   },
   {
    "duration": 10,
    "start_time": "2022-02-11T20:25:33.306Z"
   },
   {
    "duration": 5,
    "start_time": "2022-02-11T20:25:40.508Z"
   },
   {
    "duration": 9,
    "start_time": "2022-02-11T20:25:43.765Z"
   },
   {
    "duration": 2,
    "start_time": "2022-02-11T20:26:07.288Z"
   },
   {
    "duration": 46,
    "start_time": "2022-02-11T20:26:07.293Z"
   },
   {
    "duration": 9,
    "start_time": "2022-02-11T20:26:07.341Z"
   },
   {
    "duration": 10,
    "start_time": "2022-02-11T20:26:07.352Z"
   },
   {
    "duration": 18,
    "start_time": "2022-02-11T20:26:07.363Z"
   },
   {
    "duration": 15,
    "start_time": "2022-02-11T20:26:07.382Z"
   },
   {
    "duration": 6,
    "start_time": "2022-02-11T20:26:07.398Z"
   },
   {
    "duration": 16,
    "start_time": "2022-02-11T20:26:07.405Z"
   },
   {
    "duration": 6,
    "start_time": "2022-02-11T20:26:07.423Z"
   },
   {
    "duration": 12,
    "start_time": "2022-02-11T20:26:07.432Z"
   },
   {
    "duration": 7,
    "start_time": "2022-02-11T20:26:07.471Z"
   },
   {
    "duration": 9,
    "start_time": "2022-02-11T20:26:07.480Z"
   },
   {
    "duration": 7,
    "start_time": "2022-02-11T20:26:07.491Z"
   },
   {
    "duration": 4,
    "start_time": "2022-02-11T20:26:07.500Z"
   },
   {
    "duration": 14,
    "start_time": "2022-02-11T20:26:07.505Z"
   },
   {
    "duration": 19,
    "start_time": "2022-02-11T20:26:07.521Z"
   },
   {
    "duration": 32,
    "start_time": "2022-02-11T20:26:07.542Z"
   },
   {
    "duration": 6,
    "start_time": "2022-02-11T20:26:07.576Z"
   },
   {
    "duration": 9,
    "start_time": "2022-02-11T20:26:07.584Z"
   },
   {
    "duration": 10,
    "start_time": "2022-02-11T20:26:07.595Z"
   },
   {
    "duration": 10,
    "start_time": "2022-02-11T20:26:07.607Z"
   },
   {
    "duration": 8,
    "start_time": "2022-02-11T20:26:07.619Z"
   },
   {
    "duration": 8,
    "start_time": "2022-02-11T20:26:07.628Z"
   },
   {
    "duration": 34,
    "start_time": "2022-02-11T20:26:07.638Z"
   },
   {
    "duration": 4,
    "start_time": "2022-02-11T20:26:07.674Z"
   },
   {
    "duration": 5,
    "start_time": "2022-02-11T20:26:07.680Z"
   },
   {
    "duration": 18,
    "start_time": "2022-02-11T20:26:07.686Z"
   },
   {
    "duration": 7,
    "start_time": "2022-02-11T20:26:07.706Z"
   },
   {
    "duration": 4,
    "start_time": "2022-02-11T20:26:07.715Z"
   },
   {
    "duration": 10,
    "start_time": "2022-02-11T20:26:07.721Z"
   },
   {
    "duration": 11,
    "start_time": "2022-02-11T20:26:07.732Z"
   },
   {
    "duration": 39,
    "start_time": "2022-02-11T20:26:07.744Z"
   },
   {
    "duration": 265,
    "start_time": "2022-02-11T20:30:21.982Z"
   },
   {
    "duration": 6,
    "start_time": "2022-02-11T20:30:33.070Z"
   },
   {
    "duration": 101,
    "start_time": "2022-02-12T13:14:42.464Z"
   },
   {
    "duration": 372,
    "start_time": "2022-02-12T13:20:38.896Z"
   },
   {
    "duration": 1561,
    "start_time": "2022-02-12T13:20:50.039Z"
   },
   {
    "duration": 687,
    "start_time": "2022-02-12T13:20:51.603Z"
   },
   {
    "duration": 32,
    "start_time": "2022-02-12T13:20:52.294Z"
   },
   {
    "duration": 33,
    "start_time": "2022-02-12T13:20:52.329Z"
   },
   {
    "duration": 26,
    "start_time": "2022-02-12T13:20:52.365Z"
   },
   {
    "duration": 33,
    "start_time": "2022-02-12T13:20:52.393Z"
   },
   {
    "duration": 39,
    "start_time": "2022-02-12T13:20:52.429Z"
   },
   {
    "duration": 35,
    "start_time": "2022-02-12T13:20:52.473Z"
   },
   {
    "duration": 9,
    "start_time": "2022-02-12T13:20:52.511Z"
   },
   {
    "duration": 56,
    "start_time": "2022-02-12T13:20:52.522Z"
   },
   {
    "duration": 12,
    "start_time": "2022-02-12T13:20:52.581Z"
   },
   {
    "duration": 13,
    "start_time": "2022-02-12T13:20:52.596Z"
   },
   {
    "duration": 48,
    "start_time": "2022-02-12T13:20:52.611Z"
   },
   {
    "duration": 6,
    "start_time": "2022-02-12T13:20:52.662Z"
   },
   {
    "duration": 29,
    "start_time": "2022-02-12T13:20:52.671Z"
   },
   {
    "duration": 29,
    "start_time": "2022-02-12T13:20:52.704Z"
   },
   {
    "duration": 30,
    "start_time": "2022-02-12T13:20:52.760Z"
   },
   {
    "duration": 12,
    "start_time": "2022-02-12T13:20:52.793Z"
   },
   {
    "duration": 26,
    "start_time": "2022-02-12T13:20:52.808Z"
   },
   {
    "duration": 20,
    "start_time": "2022-02-12T13:20:52.861Z"
   },
   {
    "duration": 31,
    "start_time": "2022-02-12T13:20:52.884Z"
   },
   {
    "duration": 48,
    "start_time": "2022-02-12T13:20:52.918Z"
   },
   {
    "duration": 12,
    "start_time": "2022-02-12T13:20:52.973Z"
   },
   {
    "duration": 14,
    "start_time": "2022-02-12T13:20:52.989Z"
   },
   {
    "duration": 10,
    "start_time": "2022-02-12T13:20:53.006Z"
   },
   {
    "duration": 8,
    "start_time": "2022-02-12T13:20:53.063Z"
   },
   {
    "duration": 37,
    "start_time": "2022-02-12T13:20:53.075Z"
   },
   {
    "duration": 14,
    "start_time": "2022-02-12T13:20:53.116Z"
   },
   {
    "duration": 7,
    "start_time": "2022-02-12T13:20:53.160Z"
   },
   {
    "duration": 10,
    "start_time": "2022-02-12T13:20:53.170Z"
   },
   {
    "duration": 14,
    "start_time": "2022-02-12T13:20:53.184Z"
   },
   {
    "duration": 25,
    "start_time": "2022-02-12T13:20:53.200Z"
   },
   {
    "duration": 10,
    "start_time": "2022-02-12T13:20:53.260Z"
   },
   {
    "duration": 21,
    "start_time": "2022-02-12T13:23:50.512Z"
   },
   {
    "duration": 10,
    "start_time": "2022-02-12T13:29:02.142Z"
   },
   {
    "duration": 8,
    "start_time": "2022-02-12T13:29:25.461Z"
   },
   {
    "duration": 35,
    "start_time": "2022-02-12T13:29:31.021Z"
   },
   {
    "duration": 9,
    "start_time": "2022-02-12T13:40:48.175Z"
   },
   {
    "duration": 84,
    "start_time": "2022-02-13T16:30:37.194Z"
   },
   {
    "duration": 77,
    "start_time": "2022-02-13T16:31:00.881Z"
   },
   {
    "duration": 81,
    "start_time": "2022-02-13T16:31:20.824Z"
   },
   {
    "duration": 4,
    "start_time": "2022-02-13T16:31:42.137Z"
   },
   {
    "duration": 251,
    "start_time": "2022-02-13T16:32:03.146Z"
   },
   {
    "duration": 11,
    "start_time": "2022-02-13T16:32:33.805Z"
   },
   {
    "duration": 5,
    "start_time": "2022-02-13T16:33:09.618Z"
   },
   {
    "duration": 5,
    "start_time": "2022-02-13T16:33:37.844Z"
   },
   {
    "duration": 5,
    "start_time": "2022-02-13T16:33:47.674Z"
   },
   {
    "duration": 6,
    "start_time": "2022-02-13T16:34:00.184Z"
   },
   {
    "duration": 5,
    "start_time": "2022-02-13T16:35:32.065Z"
   },
   {
    "duration": 5,
    "start_time": "2022-02-13T16:35:53.718Z"
   },
   {
    "duration": 5,
    "start_time": "2022-02-13T16:36:09.251Z"
   },
   {
    "duration": 234,
    "start_time": "2022-02-13T16:38:48.414Z"
   },
   {
    "duration": 543,
    "start_time": "2022-02-13T16:38:58.765Z"
   },
   {
    "duration": 44,
    "start_time": "2022-02-13T16:38:59.309Z"
   },
   {
    "duration": 13,
    "start_time": "2022-02-13T16:38:59.354Z"
   },
   {
    "duration": 12,
    "start_time": "2022-02-13T16:38:59.369Z"
   },
   {
    "duration": 15,
    "start_time": "2022-02-13T16:38:59.382Z"
   },
   {
    "duration": 29,
    "start_time": "2022-02-13T16:38:59.398Z"
   },
   {
    "duration": 7,
    "start_time": "2022-02-13T16:38:59.429Z"
   },
   {
    "duration": 19,
    "start_time": "2022-02-13T16:38:59.438Z"
   },
   {
    "duration": 7,
    "start_time": "2022-02-13T16:38:59.460Z"
   },
   {
    "duration": 13,
    "start_time": "2022-02-13T16:38:59.469Z"
   },
   {
    "duration": 8,
    "start_time": "2022-02-13T16:38:59.512Z"
   },
   {
    "duration": 8,
    "start_time": "2022-02-13T16:38:59.522Z"
   },
   {
    "duration": 9,
    "start_time": "2022-02-13T16:38:59.531Z"
   },
   {
    "duration": 3,
    "start_time": "2022-02-13T16:38:59.542Z"
   },
   {
    "duration": 12,
    "start_time": "2022-02-13T16:38:59.547Z"
   },
   {
    "duration": 18,
    "start_time": "2022-02-13T16:38:59.561Z"
   },
   {
    "duration": 37,
    "start_time": "2022-02-13T16:38:59.581Z"
   },
   {
    "duration": 4,
    "start_time": "2022-02-13T16:38:59.620Z"
   },
   {
    "duration": 12,
    "start_time": "2022-02-13T16:38:59.626Z"
   },
   {
    "duration": 10,
    "start_time": "2022-02-13T16:38:59.640Z"
   },
   {
    "duration": 11,
    "start_time": "2022-02-13T16:38:59.652Z"
   },
   {
    "duration": 10,
    "start_time": "2022-02-13T16:38:59.665Z"
   },
   {
    "duration": 6,
    "start_time": "2022-02-13T16:38:59.713Z"
   },
   {
    "duration": 6,
    "start_time": "2022-02-13T16:38:59.721Z"
   },
   {
    "duration": 5,
    "start_time": "2022-02-13T16:38:59.729Z"
   },
   {
    "duration": 5,
    "start_time": "2022-02-13T16:38:59.735Z"
   },
   {
    "duration": 17,
    "start_time": "2022-02-13T16:38:59.741Z"
   },
   {
    "duration": 8,
    "start_time": "2022-02-13T16:38:59.759Z"
   },
   {
    "duration": 4,
    "start_time": "2022-02-13T16:38:59.768Z"
   },
   {
    "duration": 4,
    "start_time": "2022-02-13T16:38:59.813Z"
   },
   {
    "duration": 8,
    "start_time": "2022-02-13T16:38:59.819Z"
   },
   {
    "duration": 11,
    "start_time": "2022-02-13T16:38:59.828Z"
   },
   {
    "duration": 6,
    "start_time": "2022-02-13T16:38:59.841Z"
   },
   {
    "duration": 6,
    "start_time": "2022-02-13T16:38:59.849Z"
   },
   {
    "duration": 15,
    "start_time": "2022-02-13T16:38:59.857Z"
   },
   {
    "duration": 45,
    "start_time": "2022-02-13T16:38:59.873Z"
   },
   {
    "duration": 12,
    "start_time": "2022-02-13T16:41:57.108Z"
   },
   {
    "duration": 307,
    "start_time": "2022-02-13T16:53:41.758Z"
   },
   {
    "duration": 21,
    "start_time": "2022-02-13T16:54:54.324Z"
   },
   {
    "duration": 6,
    "start_time": "2022-02-13T16:57:51.250Z"
   },
   {
    "duration": 7,
    "start_time": "2022-02-13T17:04:09.623Z"
   },
   {
    "duration": 6,
    "start_time": "2022-02-13T17:09:07.097Z"
   },
   {
    "duration": 17,
    "start_time": "2022-02-13T17:09:21.807Z"
   },
   {
    "duration": 13,
    "start_time": "2022-02-13T17:11:52.557Z"
   },
   {
    "duration": -25,
    "start_time": "2022-02-13T17:16:54.469Z"
   },
   {
    "duration": 6039,
    "start_time": "2022-02-13T17:17:00.227Z"
   },
   {
    "duration": 17,
    "start_time": "2022-02-13T17:17:20.267Z"
   },
   {
    "duration": 13,
    "start_time": "2022-02-13T17:18:17.985Z"
   },
   {
    "duration": 8,
    "start_time": "2022-02-13T17:19:55.508Z"
   },
   {
    "duration": 4,
    "start_time": "2022-02-13T17:20:57.691Z"
   },
   {
    "duration": 4,
    "start_time": "2022-02-13T17:21:04.564Z"
   },
   {
    "duration": 8,
    "start_time": "2022-02-13T17:21:19.414Z"
   },
   {
    "duration": 214,
    "start_time": "2022-02-13T17:21:52.032Z"
   },
   {
    "duration": 259,
    "start_time": "2022-02-13T17:22:03.996Z"
   },
   {
    "duration": 8,
    "start_time": "2022-02-13T17:22:15.658Z"
   },
   {
    "duration": 6,
    "start_time": "2022-02-13T17:23:11.693Z"
   },
   {
    "duration": 5,
    "start_time": "2022-02-13T17:25:11.996Z"
   },
   {
    "duration": 5,
    "start_time": "2022-02-13T17:26:30.047Z"
   },
   {
    "duration": 3,
    "start_time": "2022-02-13T17:31:59.931Z"
   },
   {
    "duration": 49,
    "start_time": "2022-02-13T17:31:59.937Z"
   },
   {
    "duration": 14,
    "start_time": "2022-02-13T17:31:59.988Z"
   },
   {
    "duration": 18,
    "start_time": "2022-02-13T17:32:00.004Z"
   },
   {
    "duration": 16,
    "start_time": "2022-02-13T17:32:00.025Z"
   },
   {
    "duration": 16,
    "start_time": "2022-02-13T17:32:00.043Z"
   },
   {
    "duration": 6,
    "start_time": "2022-02-13T17:32:00.061Z"
   },
   {
    "duration": 55,
    "start_time": "2022-02-13T17:32:00.069Z"
   },
   {
    "duration": 7,
    "start_time": "2022-02-13T17:32:00.127Z"
   },
   {
    "duration": 17,
    "start_time": "2022-02-13T17:32:00.135Z"
   },
   {
    "duration": 9,
    "start_time": "2022-02-13T17:32:00.154Z"
   },
   {
    "duration": 11,
    "start_time": "2022-02-13T17:32:00.165Z"
   },
   {
    "duration": 13,
    "start_time": "2022-02-13T17:32:00.177Z"
   },
   {
    "duration": 20,
    "start_time": "2022-02-13T17:32:00.192Z"
   },
   {
    "duration": 11,
    "start_time": "2022-02-13T17:32:00.214Z"
   },
   {
    "duration": 18,
    "start_time": "2022-02-13T17:32:00.226Z"
   },
   {
    "duration": 12,
    "start_time": "2022-02-13T17:32:00.245Z"
   },
   {
    "duration": 6,
    "start_time": "2022-02-13T17:32:00.258Z"
   },
   {
    "duration": 12,
    "start_time": "2022-02-13T17:32:00.265Z"
   },
   {
    "duration": 35,
    "start_time": "2022-02-13T17:32:00.278Z"
   },
   {
    "duration": 13,
    "start_time": "2022-02-13T17:32:00.314Z"
   },
   {
    "duration": 7,
    "start_time": "2022-02-13T17:32:00.328Z"
   },
   {
    "duration": 6,
    "start_time": "2022-02-13T17:32:00.337Z"
   },
   {
    "duration": 5,
    "start_time": "2022-02-13T17:32:00.346Z"
   },
   {
    "duration": 10,
    "start_time": "2022-02-13T17:32:00.353Z"
   },
   {
    "duration": 5,
    "start_time": "2022-02-13T17:32:00.364Z"
   },
   {
    "duration": 50,
    "start_time": "2022-02-13T17:32:00.370Z"
   },
   {
    "duration": 10,
    "start_time": "2022-02-13T17:32:00.422Z"
   },
   {
    "duration": 11,
    "start_time": "2022-02-13T17:32:00.433Z"
   },
   {
    "duration": 13,
    "start_time": "2022-02-13T17:32:00.446Z"
   },
   {
    "duration": 12,
    "start_time": "2022-02-13T17:32:00.460Z"
   },
   {
    "duration": 11,
    "start_time": "2022-02-13T17:32:00.473Z"
   },
   {
    "duration": 14,
    "start_time": "2022-02-13T17:32:00.486Z"
   },
   {
    "duration": 15,
    "start_time": "2022-02-13T17:32:00.501Z"
   },
   {
    "duration": 17,
    "start_time": "2022-02-13T17:32:00.518Z"
   },
   {
    "duration": 9,
    "start_time": "2022-02-13T17:32:00.536Z"
   },
   {
    "duration": 8,
    "start_time": "2022-02-13T17:32:00.547Z"
   },
   {
    "duration": 10,
    "start_time": "2022-02-13T17:32:00.557Z"
   },
   {
    "duration": 16,
    "start_time": "2022-02-13T17:32:00.569Z"
   },
   {
    "duration": 13,
    "start_time": "2022-02-13T17:32:00.587Z"
   },
   {
    "duration": 14,
    "start_time": "2022-02-13T17:32:00.602Z"
   },
   {
    "duration": 19,
    "start_time": "2022-02-13T17:32:00.618Z"
   },
   {
    "duration": 13,
    "start_time": "2022-02-13T17:32:00.638Z"
   },
   {
    "duration": 29,
    "start_time": "2022-02-13T17:32:00.652Z"
   },
   {
    "duration": 82,
    "start_time": "2022-02-13T17:36:46.725Z"
   },
   {
    "duration": 5,
    "start_time": "2022-02-13T17:37:06.182Z"
   },
   {
    "duration": 18,
    "start_time": "2022-02-13T17:40:52.424Z"
   },
   {
    "duration": 3,
    "start_time": "2022-02-13T17:41:04.154Z"
   },
   {
    "duration": 67,
    "start_time": "2022-02-13T17:41:04.159Z"
   },
   {
    "duration": 12,
    "start_time": "2022-02-13T17:41:04.228Z"
   },
   {
    "duration": 12,
    "start_time": "2022-02-13T17:41:04.242Z"
   },
   {
    "duration": 14,
    "start_time": "2022-02-13T17:41:04.256Z"
   },
   {
    "duration": 49,
    "start_time": "2022-02-13T17:41:04.271Z"
   },
   {
    "duration": 7,
    "start_time": "2022-02-13T17:41:04.322Z"
   },
   {
    "duration": 22,
    "start_time": "2022-02-13T17:41:04.331Z"
   },
   {
    "duration": 11,
    "start_time": "2022-02-13T17:41:04.355Z"
   },
   {
    "duration": 14,
    "start_time": "2022-02-13T17:41:04.368Z"
   },
   {
    "duration": 16,
    "start_time": "2022-02-13T17:41:04.384Z"
   },
   {
    "duration": 6,
    "start_time": "2022-02-13T17:41:04.413Z"
   },
   {
    "duration": 9,
    "start_time": "2022-02-13T17:41:04.421Z"
   },
   {
    "duration": 4,
    "start_time": "2022-02-13T17:41:04.432Z"
   },
   {
    "duration": 13,
    "start_time": "2022-02-13T17:41:04.437Z"
   },
   {
    "duration": 17,
    "start_time": "2022-02-13T17:41:04.451Z"
   },
   {
    "duration": 12,
    "start_time": "2022-02-13T17:41:04.470Z"
   },
   {
    "duration": 29,
    "start_time": "2022-02-13T17:41:04.484Z"
   },
   {
    "duration": 16,
    "start_time": "2022-02-13T17:41:04.514Z"
   },
   {
    "duration": 16,
    "start_time": "2022-02-13T17:41:04.532Z"
   },
   {
    "duration": 12,
    "start_time": "2022-02-13T17:41:04.549Z"
   },
   {
    "duration": 11,
    "start_time": "2022-02-13T17:41:04.563Z"
   },
   {
    "duration": 5,
    "start_time": "2022-02-13T17:41:04.577Z"
   },
   {
    "duration": 32,
    "start_time": "2022-02-13T17:41:04.584Z"
   },
   {
    "duration": 23,
    "start_time": "2022-02-13T17:41:04.618Z"
   },
   {
    "duration": 13,
    "start_time": "2022-02-13T17:41:04.642Z"
   },
   {
    "duration": 31,
    "start_time": "2022-02-13T17:41:04.657Z"
   },
   {
    "duration": 12,
    "start_time": "2022-02-13T17:41:04.690Z"
   },
   {
    "duration": 11,
    "start_time": "2022-02-13T17:41:04.704Z"
   },
   {
    "duration": 16,
    "start_time": "2022-02-13T17:41:04.717Z"
   },
   {
    "duration": 10,
    "start_time": "2022-02-13T17:41:04.735Z"
   },
   {
    "duration": 11,
    "start_time": "2022-02-13T17:41:04.747Z"
   },
   {
    "duration": 6,
    "start_time": "2022-02-13T17:41:04.759Z"
   },
   {
    "duration": 15,
    "start_time": "2022-02-13T17:41:04.767Z"
   },
   {
    "duration": 5,
    "start_time": "2022-02-13T17:41:04.784Z"
   },
   {
    "duration": 8,
    "start_time": "2022-02-13T17:41:04.790Z"
   },
   {
    "duration": 14,
    "start_time": "2022-02-13T17:41:04.800Z"
   },
   {
    "duration": 3,
    "start_time": "2022-02-13T17:41:04.816Z"
   },
   {
    "duration": 9,
    "start_time": "2022-02-13T17:41:04.821Z"
   },
   {
    "duration": 8,
    "start_time": "2022-02-13T17:41:04.832Z"
   },
   {
    "duration": 13,
    "start_time": "2022-02-13T17:41:04.841Z"
   },
   {
    "duration": 8,
    "start_time": "2022-02-13T17:41:04.855Z"
   },
   {
    "duration": 11,
    "start_time": "2022-02-13T17:41:04.865Z"
   },
   {
    "duration": 5,
    "start_time": "2022-02-13T17:41:04.878Z"
   },
   {
    "duration": 13,
    "start_time": "2022-02-13T17:41:04.912Z"
   },
   {
    "duration": 21,
    "start_time": "2022-02-13T17:41:04.926Z"
   },
   {
    "duration": 4,
    "start_time": "2022-02-13T17:41:56.386Z"
   },
   {
    "duration": 2,
    "start_time": "2022-02-13T17:41:59.459Z"
   },
   {
    "duration": 50,
    "start_time": "2022-02-13T17:41:59.465Z"
   },
   {
    "duration": 11,
    "start_time": "2022-02-13T17:41:59.516Z"
   },
   {
    "duration": 15,
    "start_time": "2022-02-13T17:41:59.529Z"
   },
   {
    "duration": 15,
    "start_time": "2022-02-13T17:41:59.546Z"
   },
   {
    "duration": 18,
    "start_time": "2022-02-13T17:41:59.562Z"
   },
   {
    "duration": 33,
    "start_time": "2022-02-13T17:41:59.582Z"
   },
   {
    "duration": 16,
    "start_time": "2022-02-13T17:41:59.617Z"
   },
   {
    "duration": 9,
    "start_time": "2022-02-13T17:41:59.634Z"
   },
   {
    "duration": 12,
    "start_time": "2022-02-13T17:41:59.645Z"
   },
   {
    "duration": 7,
    "start_time": "2022-02-13T17:41:59.659Z"
   },
   {
    "duration": 8,
    "start_time": "2022-02-13T17:41:59.667Z"
   },
   {
    "duration": 42,
    "start_time": "2022-02-13T17:41:59.676Z"
   },
   {
    "duration": 5,
    "start_time": "2022-02-13T17:41:59.719Z"
   },
   {
    "duration": 10,
    "start_time": "2022-02-13T17:41:59.725Z"
   },
   {
    "duration": 16,
    "start_time": "2022-02-13T17:41:59.737Z"
   },
   {
    "duration": 12,
    "start_time": "2022-02-13T17:41:59.754Z"
   },
   {
    "duration": 6,
    "start_time": "2022-02-13T17:41:59.767Z"
   },
   {
    "duration": 40,
    "start_time": "2022-02-13T17:41:59.774Z"
   },
   {
    "duration": 9,
    "start_time": "2022-02-13T17:41:59.816Z"
   },
   {
    "duration": 11,
    "start_time": "2022-02-13T17:41:59.826Z"
   },
   {
    "duration": 8,
    "start_time": "2022-02-13T17:41:59.839Z"
   },
   {
    "duration": 5,
    "start_time": "2022-02-13T17:41:59.848Z"
   },
   {
    "duration": 6,
    "start_time": "2022-02-13T17:41:59.855Z"
   },
   {
    "duration": 5,
    "start_time": "2022-02-13T17:41:59.862Z"
   },
   {
    "duration": 45,
    "start_time": "2022-02-13T17:41:59.868Z"
   },
   {
    "duration": 15,
    "start_time": "2022-02-13T17:41:59.914Z"
   },
   {
    "duration": 11,
    "start_time": "2022-02-13T17:41:59.932Z"
   },
   {
    "duration": 6,
    "start_time": "2022-02-13T17:41:59.945Z"
   },
   {
    "duration": 5,
    "start_time": "2022-02-13T17:41:59.952Z"
   },
   {
    "duration": 4,
    "start_time": "2022-02-13T17:41:59.958Z"
   },
   {
    "duration": 5,
    "start_time": "2022-02-13T17:41:59.964Z"
   },
   {
    "duration": 43,
    "start_time": "2022-02-13T17:41:59.971Z"
   },
   {
    "duration": 14,
    "start_time": "2022-02-13T17:42:00.016Z"
   },
   {
    "duration": 5,
    "start_time": "2022-02-13T17:42:00.031Z"
   },
   {
    "duration": 29,
    "start_time": "2022-02-13T17:42:00.038Z"
   },
   {
    "duration": 15,
    "start_time": "2022-02-13T17:42:00.068Z"
   },
   {
    "duration": 3,
    "start_time": "2022-02-13T17:42:00.085Z"
   },
   {
    "duration": 14,
    "start_time": "2022-02-13T17:42:00.089Z"
   },
   {
    "duration": 17,
    "start_time": "2022-02-13T17:42:00.105Z"
   },
   {
    "duration": 10,
    "start_time": "2022-02-13T17:42:00.124Z"
   },
   {
    "duration": 16,
    "start_time": "2022-02-13T17:42:00.136Z"
   },
   {
    "duration": 12,
    "start_time": "2022-02-13T17:42:00.153Z"
   },
   {
    "duration": 18,
    "start_time": "2022-02-13T17:42:00.166Z"
   },
   {
    "duration": 15,
    "start_time": "2022-02-13T17:42:00.186Z"
   },
   {
    "duration": 25,
    "start_time": "2022-02-13T17:42:00.203Z"
   },
   {
    "duration": -27,
    "start_time": "2022-02-13T17:45:50.569Z"
   },
   {
    "duration": 4206,
    "start_time": "2022-02-13T17:46:42.190Z"
   },
   {
    "duration": 18,
    "start_time": "2022-02-13T17:47:08.256Z"
   },
   {
    "duration": 21,
    "start_time": "2022-02-13T17:49:25.652Z"
   },
   {
    "duration": 21,
    "start_time": "2022-02-13T17:50:11.116Z"
   },
   {
    "duration": 227,
    "start_time": "2022-02-13T17:50:40.511Z"
   },
   {
    "duration": 234,
    "start_time": "2022-02-13T17:51:01.398Z"
   },
   {
    "duration": 76,
    "start_time": "2022-02-13T17:55:47.573Z"
   },
   {
    "duration": 69,
    "start_time": "2022-02-13T17:55:57.260Z"
   },
   {
    "duration": 246,
    "start_time": "2022-02-13T17:56:27.520Z"
   },
   {
    "duration": 20,
    "start_time": "2022-02-13T17:56:43.799Z"
   },
   {
    "duration": 657,
    "start_time": "2022-02-14T07:34:02.774Z"
   },
   {
    "duration": 53,
    "start_time": "2022-02-14T07:34:03.434Z"
   },
   {
    "duration": 22,
    "start_time": "2022-02-14T07:34:03.489Z"
   },
   {
    "duration": 20,
    "start_time": "2022-02-14T07:34:03.512Z"
   },
   {
    "duration": 16,
    "start_time": "2022-02-14T07:34:03.534Z"
   },
   {
    "duration": 19,
    "start_time": "2022-02-14T07:34:03.552Z"
   },
   {
    "duration": 29,
    "start_time": "2022-02-14T07:34:03.573Z"
   },
   {
    "duration": 26,
    "start_time": "2022-02-14T07:34:03.605Z"
   },
   {
    "duration": 15,
    "start_time": "2022-02-14T07:34:03.633Z"
   },
   {
    "duration": 18,
    "start_time": "2022-02-14T07:34:03.650Z"
   },
   {
    "duration": 13,
    "start_time": "2022-02-14T07:34:03.670Z"
   },
   {
    "duration": 29,
    "start_time": "2022-02-14T07:34:03.685Z"
   },
   {
    "duration": 15,
    "start_time": "2022-02-14T07:34:03.716Z"
   },
   {
    "duration": 6,
    "start_time": "2022-02-14T07:34:03.733Z"
   },
   {
    "duration": 15,
    "start_time": "2022-02-14T07:34:03.741Z"
   },
   {
    "duration": 21,
    "start_time": "2022-02-14T07:34:03.757Z"
   },
   {
    "duration": 24,
    "start_time": "2022-02-14T07:34:03.780Z"
   },
   {
    "duration": 7,
    "start_time": "2022-02-14T07:34:03.806Z"
   },
   {
    "duration": 39,
    "start_time": "2022-02-14T07:34:03.815Z"
   },
   {
    "duration": 15,
    "start_time": "2022-02-14T07:34:03.855Z"
   },
   {
    "duration": 12,
    "start_time": "2022-02-14T07:34:03.872Z"
   },
   {
    "duration": 14,
    "start_time": "2022-02-14T07:34:03.886Z"
   },
   {
    "duration": 6,
    "start_time": "2022-02-14T07:34:03.904Z"
   },
   {
    "duration": 7,
    "start_time": "2022-02-14T07:34:03.911Z"
   },
   {
    "duration": 9,
    "start_time": "2022-02-14T07:34:03.919Z"
   },
   {
    "duration": 7,
    "start_time": "2022-02-14T07:34:03.930Z"
   },
   {
    "duration": 23,
    "start_time": "2022-02-14T07:34:03.939Z"
   },
   {
    "duration": 39,
    "start_time": "2022-02-14T07:34:03.964Z"
   },
   {
    "duration": 7,
    "start_time": "2022-02-14T07:34:04.005Z"
   },
   {
    "duration": 12,
    "start_time": "2022-02-14T07:34:04.014Z"
   },
   {
    "duration": 6,
    "start_time": "2022-02-14T07:34:04.028Z"
   },
   {
    "duration": 9,
    "start_time": "2022-02-14T07:34:04.036Z"
   },
   {
    "duration": 9,
    "start_time": "2022-02-14T07:34:04.047Z"
   },
   {
    "duration": 46,
    "start_time": "2022-02-14T07:34:04.058Z"
   },
   {
    "duration": 8,
    "start_time": "2022-02-14T07:34:04.106Z"
   },
   {
    "duration": 9,
    "start_time": "2022-02-14T07:34:04.116Z"
   },
   {
    "duration": 14,
    "start_time": "2022-02-14T07:34:04.127Z"
   },
   {
    "duration": 5,
    "start_time": "2022-02-14T07:34:04.143Z"
   },
   {
    "duration": 9,
    "start_time": "2022-02-14T07:34:04.151Z"
   },
   {
    "duration": 41,
    "start_time": "2022-02-14T07:34:04.163Z"
   },
   {
    "duration": 20,
    "start_time": "2022-02-14T07:34:04.206Z"
   },
   {
    "duration": 7,
    "start_time": "2022-02-14T07:34:04.228Z"
   },
   {
    "duration": 9,
    "start_time": "2022-02-14T07:34:04.237Z"
   },
   {
    "duration": 19,
    "start_time": "2022-02-14T07:34:04.248Z"
   },
   {
    "duration": 42,
    "start_time": "2022-02-14T07:34:04.269Z"
   },
   {
    "duration": 28,
    "start_time": "2022-02-14T07:34:04.313Z"
   },
   {
    "duration": 25,
    "start_time": "2022-02-14T07:35:15.168Z"
   },
   {
    "duration": 77,
    "start_time": "2022-02-14T07:43:06.406Z"
   },
   {
    "duration": 21,
    "start_time": "2022-02-14T07:44:44.740Z"
   },
   {
    "duration": 85,
    "start_time": "2022-02-14T07:45:05.968Z"
   },
   {
    "duration": 68,
    "start_time": "2022-02-14T07:45:39.736Z"
   },
   {
    "duration": 69,
    "start_time": "2022-02-14T07:46:10.732Z"
   },
   {
    "duration": 67,
    "start_time": "2022-02-14T07:46:31.721Z"
   },
   {
    "duration": 23,
    "start_time": "2022-02-14T07:46:57.080Z"
   },
   {
    "duration": 3,
    "start_time": "2022-02-14T07:51:22.855Z"
   },
   {
    "duration": 3,
    "start_time": "2022-02-14T07:51:25.642Z"
   },
   {
    "duration": 305,
    "start_time": "2022-02-14T07:55:41.591Z"
   },
   {
    "duration": 23,
    "start_time": "2022-02-14T07:56:19.475Z"
   },
   {
    "duration": 27,
    "start_time": "2022-02-14T08:00:08.471Z"
   },
   {
    "duration": 28,
    "start_time": "2022-02-14T08:00:54.065Z"
   },
   {
    "duration": 26,
    "start_time": "2022-02-14T08:01:26.274Z"
   },
   {
    "duration": 238,
    "start_time": "2022-02-14T08:01:54.913Z"
   },
   {
    "duration": 24,
    "start_time": "2022-02-14T08:02:08.753Z"
   },
   {
    "duration": 23,
    "start_time": "2022-02-14T08:02:35.962Z"
   },
   {
    "duration": 26,
    "start_time": "2022-02-14T08:03:11.987Z"
   },
   {
    "duration": 270,
    "start_time": "2022-02-14T08:11:53.895Z"
   },
   {
    "duration": 219,
    "start_time": "2022-02-14T08:12:21.761Z"
   },
   {
    "duration": 26,
    "start_time": "2022-02-14T08:13:17.979Z"
   },
   {
    "duration": 2,
    "start_time": "2022-02-14T08:15:08.675Z"
   },
   {
    "duration": 2,
    "start_time": "2022-02-14T08:25:24.935Z"
   },
   {
    "duration": 2,
    "start_time": "2022-02-14T08:25:26.627Z"
   },
   {
    "duration": 221,
    "start_time": "2022-02-14T08:28:41.084Z"
   },
   {
    "duration": 24,
    "start_time": "2022-02-14T08:29:12.442Z"
   },
   {
    "duration": 24,
    "start_time": "2022-02-14T08:29:44.311Z"
   },
   {
    "duration": 83,
    "start_time": "2022-02-14T08:36:29.895Z"
   },
   {
    "duration": 3,
    "start_time": "2022-02-14T08:38:54.117Z"
   },
   {
    "duration": 3,
    "start_time": "2022-02-14T08:38:55.151Z"
   },
   {
    "duration": 3,
    "start_time": "2022-02-14T08:50:30.007Z"
   },
   {
    "duration": 2,
    "start_time": "2022-02-14T09:03:39.157Z"
   },
   {
    "duration": 56,
    "start_time": "2022-02-14T09:03:39.161Z"
   },
   {
    "duration": 11,
    "start_time": "2022-02-14T09:03:39.219Z"
   },
   {
    "duration": 13,
    "start_time": "2022-02-14T09:03:39.232Z"
   },
   {
    "duration": 17,
    "start_time": "2022-02-14T09:03:39.247Z"
   },
   {
    "duration": 49,
    "start_time": "2022-02-14T09:03:39.266Z"
   },
   {
    "duration": 7,
    "start_time": "2022-02-14T09:03:39.317Z"
   },
   {
    "duration": 19,
    "start_time": "2022-02-14T09:03:39.327Z"
   },
   {
    "duration": 9,
    "start_time": "2022-02-14T09:03:39.348Z"
   },
   {
    "duration": 47,
    "start_time": "2022-02-14T09:03:39.359Z"
   },
   {
    "duration": 8,
    "start_time": "2022-02-14T09:03:39.407Z"
   },
   {
    "duration": 10,
    "start_time": "2022-02-14T09:03:39.417Z"
   },
   {
    "duration": 8,
    "start_time": "2022-02-14T09:03:39.429Z"
   },
   {
    "duration": 5,
    "start_time": "2022-02-14T09:03:39.439Z"
   },
   {
    "duration": 11,
    "start_time": "2022-02-14T09:03:39.446Z"
   },
   {
    "duration": 41,
    "start_time": "2022-02-14T09:03:39.459Z"
   },
   {
    "duration": 14,
    "start_time": "2022-02-14T09:03:39.502Z"
   },
   {
    "duration": 5,
    "start_time": "2022-02-14T09:03:39.518Z"
   },
   {
    "duration": 15,
    "start_time": "2022-02-14T09:03:39.525Z"
   },
   {
    "duration": 18,
    "start_time": "2022-02-14T09:03:39.542Z"
   },
   {
    "duration": 43,
    "start_time": "2022-02-14T09:03:39.561Z"
   },
   {
    "duration": 8,
    "start_time": "2022-02-14T09:03:39.606Z"
   },
   {
    "duration": 6,
    "start_time": "2022-02-14T09:03:39.617Z"
   },
   {
    "duration": 10,
    "start_time": "2022-02-14T09:03:39.625Z"
   },
   {
    "duration": 6,
    "start_time": "2022-02-14T09:03:39.636Z"
   },
   {
    "duration": 5,
    "start_time": "2022-02-14T09:03:39.643Z"
   },
   {
    "duration": 50,
    "start_time": "2022-02-14T09:03:39.649Z"
   },
   {
    "duration": 12,
    "start_time": "2022-02-14T09:03:39.701Z"
   },
   {
    "duration": 8,
    "start_time": "2022-02-14T09:03:39.715Z"
   },
   {
    "duration": 7,
    "start_time": "2022-02-14T09:03:39.725Z"
   },
   {
    "duration": 5,
    "start_time": "2022-02-14T09:03:39.734Z"
   },
   {
    "duration": 10,
    "start_time": "2022-02-14T09:03:39.741Z"
   },
   {
    "duration": 4,
    "start_time": "2022-02-14T09:03:39.753Z"
   },
   {
    "duration": 47,
    "start_time": "2022-02-14T09:03:39.759Z"
   },
   {
    "duration": 7,
    "start_time": "2022-02-14T09:03:39.808Z"
   },
   {
    "duration": 7,
    "start_time": "2022-02-14T09:03:39.817Z"
   },
   {
    "duration": 9,
    "start_time": "2022-02-14T09:03:39.825Z"
   },
   {
    "duration": 3,
    "start_time": "2022-02-14T09:03:39.836Z"
   },
   {
    "duration": 8,
    "start_time": "2022-02-14T09:03:39.841Z"
   },
   {
    "duration": 9,
    "start_time": "2022-02-14T09:03:39.850Z"
   },
   {
    "duration": 45,
    "start_time": "2022-02-14T09:03:39.861Z"
   },
   {
    "duration": 8,
    "start_time": "2022-02-14T09:03:39.908Z"
   },
   {
    "duration": 4,
    "start_time": "2022-02-14T09:03:39.918Z"
   },
   {
    "duration": 9,
    "start_time": "2022-02-14T09:03:39.924Z"
   },
   {
    "duration": 19,
    "start_time": "2022-02-14T09:03:39.935Z"
   },
   {
    "duration": 57,
    "start_time": "2022-02-14T09:03:39.956Z"
   },
   {
    "duration": 28,
    "start_time": "2022-02-14T09:03:40.015Z"
   },
   {
    "duration": 24,
    "start_time": "2022-02-14T09:03:40.045Z"
   },
   {
    "duration": 50,
    "start_time": "2022-02-14T09:03:40.071Z"
   },
   {
    "duration": 2,
    "start_time": "2022-02-14T09:36:49.677Z"
   },
   {
    "duration": 56,
    "start_time": "2022-02-14T09:36:49.681Z"
   },
   {
    "duration": 13,
    "start_time": "2022-02-14T09:36:49.739Z"
   },
   {
    "duration": 26,
    "start_time": "2022-02-14T09:36:49.754Z"
   },
   {
    "duration": 16,
    "start_time": "2022-02-14T09:36:49.799Z"
   },
   {
    "duration": 19,
    "start_time": "2022-02-14T09:36:49.817Z"
   },
   {
    "duration": 8,
    "start_time": "2022-02-14T09:36:49.839Z"
   },
   {
    "duration": 51,
    "start_time": "2022-02-14T09:36:49.849Z"
   },
   {
    "duration": 8,
    "start_time": "2022-02-14T09:36:49.902Z"
   },
   {
    "duration": 14,
    "start_time": "2022-02-14T09:36:49.912Z"
   },
   {
    "duration": 10,
    "start_time": "2022-02-14T09:36:49.928Z"
   },
   {
    "duration": 9,
    "start_time": "2022-02-14T09:36:49.940Z"
   },
   {
    "duration": 10,
    "start_time": "2022-02-14T09:36:49.951Z"
   },
   {
    "duration": 37,
    "start_time": "2022-02-14T09:36:49.963Z"
   },
   {
    "duration": 13,
    "start_time": "2022-02-14T09:36:50.002Z"
   },
   {
    "duration": 22,
    "start_time": "2022-02-14T09:36:50.018Z"
   },
   {
    "duration": 15,
    "start_time": "2022-02-14T09:36:50.042Z"
   },
   {
    "duration": 6,
    "start_time": "2022-02-14T09:36:50.059Z"
   },
   {
    "duration": 16,
    "start_time": "2022-02-14T09:36:50.101Z"
   },
   {
    "duration": 13,
    "start_time": "2022-02-14T09:36:50.120Z"
   },
   {
    "duration": 13,
    "start_time": "2022-02-14T09:36:50.135Z"
   },
   {
    "duration": 15,
    "start_time": "2022-02-14T09:36:50.151Z"
   },
   {
    "duration": 36,
    "start_time": "2022-02-14T09:36:50.169Z"
   },
   {
    "duration": 13,
    "start_time": "2022-02-14T09:36:50.207Z"
   },
   {
    "duration": 6,
    "start_time": "2022-02-14T09:36:50.222Z"
   },
   {
    "duration": 10,
    "start_time": "2022-02-14T09:36:50.230Z"
   },
   {
    "duration": 23,
    "start_time": "2022-02-14T09:36:50.242Z"
   },
   {
    "duration": 35,
    "start_time": "2022-02-14T09:36:50.267Z"
   },
   {
    "duration": 8,
    "start_time": "2022-02-14T09:36:50.304Z"
   },
   {
    "duration": 8,
    "start_time": "2022-02-14T09:36:50.313Z"
   },
   {
    "duration": 6,
    "start_time": "2022-02-14T09:36:50.322Z"
   },
   {
    "duration": 10,
    "start_time": "2022-02-14T09:36:50.330Z"
   },
   {
    "duration": 5,
    "start_time": "2022-02-14T09:36:50.342Z"
   },
   {
    "duration": 15,
    "start_time": "2022-02-14T09:36:50.349Z"
   },
   {
    "duration": 38,
    "start_time": "2022-02-14T09:36:50.366Z"
   },
   {
    "duration": 11,
    "start_time": "2022-02-14T09:36:50.406Z"
   },
   {
    "duration": 8,
    "start_time": "2022-02-14T09:36:50.419Z"
   },
   {
    "duration": 3,
    "start_time": "2022-02-14T09:36:50.429Z"
   },
   {
    "duration": 6,
    "start_time": "2022-02-14T09:36:50.434Z"
   },
   {
    "duration": 9,
    "start_time": "2022-02-14T09:36:50.442Z"
   },
   {
    "duration": 47,
    "start_time": "2022-02-14T09:36:50.453Z"
   },
   {
    "duration": 6,
    "start_time": "2022-02-14T09:36:50.501Z"
   },
   {
    "duration": 7,
    "start_time": "2022-02-14T09:36:50.509Z"
   },
   {
    "duration": 11,
    "start_time": "2022-02-14T09:36:50.518Z"
   },
   {
    "duration": 15,
    "start_time": "2022-02-14T09:36:50.531Z"
   },
   {
    "duration": 51,
    "start_time": "2022-02-14T09:36:50.548Z"
   },
   {
    "duration": 28,
    "start_time": "2022-02-14T09:36:50.601Z"
   },
   {
    "duration": 23,
    "start_time": "2022-02-14T09:36:50.631Z"
   },
   {
    "duration": 53,
    "start_time": "2022-02-14T09:36:50.657Z"
   },
   {
    "duration": 1982,
    "start_time": "2022-02-21T10:19:02.133Z"
   },
   {
    "duration": 100,
    "start_time": "2022-02-21T10:19:04.118Z"
   },
   {
    "duration": 31,
    "start_time": "2022-02-21T10:19:04.223Z"
   },
   {
    "duration": 21,
    "start_time": "2022-02-21T10:19:04.258Z"
   },
   {
    "duration": 54,
    "start_time": "2022-02-21T10:19:04.282Z"
   },
   {
    "duration": 70,
    "start_time": "2022-02-21T10:19:04.339Z"
   },
   {
    "duration": 11,
    "start_time": "2022-02-21T10:19:04.413Z"
   },
   {
    "duration": 43,
    "start_time": "2022-02-21T10:19:04.426Z"
   },
   {
    "duration": 11,
    "start_time": "2022-02-21T10:19:04.474Z"
   },
   {
    "duration": 24,
    "start_time": "2022-02-21T10:19:04.518Z"
   },
   {
    "duration": 14,
    "start_time": "2022-02-21T10:19:04.545Z"
   },
   {
    "duration": 15,
    "start_time": "2022-02-21T10:19:04.562Z"
   },
   {
    "duration": 11,
    "start_time": "2022-02-21T10:19:04.612Z"
   },
   {
    "duration": 6,
    "start_time": "2022-02-21T10:19:04.626Z"
   },
   {
    "duration": 20,
    "start_time": "2022-02-21T10:19:04.634Z"
   },
   {
    "duration": 58,
    "start_time": "2022-02-21T10:19:04.658Z"
   },
   {
    "duration": 21,
    "start_time": "2022-02-21T10:19:04.719Z"
   },
   {
    "duration": 11,
    "start_time": "2022-02-21T10:19:04.744Z"
   },
   {
    "duration": 63,
    "start_time": "2022-02-21T10:19:04.757Z"
   },
   {
    "duration": 21,
    "start_time": "2022-02-21T10:19:04.823Z"
   },
   {
    "duration": 27,
    "start_time": "2022-02-21T10:19:04.848Z"
   },
   {
    "duration": 25,
    "start_time": "2022-02-21T10:19:04.913Z"
   },
   {
    "duration": 11,
    "start_time": "2022-02-21T10:19:04.941Z"
   },
   {
    "duration": 9,
    "start_time": "2022-02-21T10:19:04.955Z"
   },
   {
    "duration": 48,
    "start_time": "2022-02-21T10:19:04.966Z"
   },
   {
    "duration": 7,
    "start_time": "2022-02-21T10:19:05.017Z"
   },
   {
    "duration": 24,
    "start_time": "2022-02-21T10:19:05.029Z"
   },
   {
    "duration": 7,
    "start_time": "2022-02-21T10:19:05.056Z"
   },
   {
    "duration": 47,
    "start_time": "2022-02-21T10:19:05.066Z"
   },
   {
    "duration": 11,
    "start_time": "2022-02-21T10:19:05.117Z"
   },
   {
    "duration": 12,
    "start_time": "2022-02-21T10:19:05.131Z"
   },
   {
    "duration": 5,
    "start_time": "2022-02-21T10:19:05.146Z"
   },
   {
    "duration": 66,
    "start_time": "2022-02-21T10:19:05.155Z"
   },
   {
    "duration": 9,
    "start_time": "2022-02-21T10:19:05.224Z"
   },
   {
    "duration": 14,
    "start_time": "2022-02-21T10:19:05.236Z"
   },
   {
    "duration": 23,
    "start_time": "2022-02-21T10:19:05.253Z"
   },
   {
    "duration": 35,
    "start_time": "2022-02-21T10:19:05.278Z"
   },
   {
    "duration": 10,
    "start_time": "2022-02-21T10:19:05.316Z"
   },
   {
    "duration": 16,
    "start_time": "2022-02-21T10:19:05.330Z"
   },
   {
    "duration": 18,
    "start_time": "2022-02-21T10:19:05.352Z"
   },
   {
    "duration": 10,
    "start_time": "2022-02-21T10:19:05.410Z"
   },
   {
    "duration": 12,
    "start_time": "2022-02-21T10:19:05.422Z"
   },
   {
    "duration": 21,
    "start_time": "2022-02-21T10:19:05.438Z"
   },
   {
    "duration": 48,
    "start_time": "2022-02-21T10:19:05.464Z"
   },
   {
    "duration": 48,
    "start_time": "2022-02-21T10:19:05.515Z"
   },
   {
    "duration": 300,
    "start_time": "2022-02-21T10:19:05.565Z"
   },
   {
    "duration": 74,
    "start_time": "2022-02-21T10:19:05.868Z"
   },
   {
    "duration": 310,
    "start_time": "2022-02-21T10:19:05.945Z"
   },
   {
    "duration": 55,
    "start_time": "2022-02-21T10:19:06.258Z"
   },
   {
    "duration": 379,
    "start_time": "2022-02-21T10:19:06.316Z"
   },
   {
    "duration": 62,
    "start_time": "2022-02-21T10:19:06.698Z"
   },
   {
    "duration": 405,
    "start_time": "2022-02-21T10:19:06.764Z"
   },
   {
    "duration": 11,
    "start_time": "2022-02-21T10:20:53.145Z"
   },
   {
    "duration": 46,
    "start_time": "2022-02-21T10:25:19.490Z"
   },
   {
    "duration": 11,
    "start_time": "2022-02-21T10:30:06.103Z"
   },
   {
    "duration": 104,
    "start_time": "2022-02-21T11:13:33.189Z"
   },
   {
    "duration": 401,
    "start_time": "2022-02-21T11:37:32.400Z"
   },
   {
    "duration": 1111,
    "start_time": "2022-02-21T11:37:42.229Z"
   },
   {
    "duration": 50,
    "start_time": "2022-02-21T11:37:43.342Z"
   },
   {
    "duration": 13,
    "start_time": "2022-02-21T11:37:43.395Z"
   },
   {
    "duration": 12,
    "start_time": "2022-02-21T11:37:43.409Z"
   },
   {
    "duration": 361,
    "start_time": "2022-02-21T11:37:43.422Z"
   },
   {
    "duration": -38,
    "start_time": "2022-02-21T11:37:43.824Z"
   },
   {
    "duration": -47,
    "start_time": "2022-02-21T11:37:43.834Z"
   },
   {
    "duration": -50,
    "start_time": "2022-02-21T11:37:43.838Z"
   },
   {
    "duration": -54,
    "start_time": "2022-02-21T11:37:43.843Z"
   },
   {
    "duration": -61,
    "start_time": "2022-02-21T11:37:43.850Z"
   },
   {
    "duration": -64,
    "start_time": "2022-02-21T11:37:43.854Z"
   },
   {
    "duration": -68,
    "start_time": "2022-02-21T11:37:43.859Z"
   },
   {
    "duration": -74,
    "start_time": "2022-02-21T11:37:43.866Z"
   },
   {
    "duration": -78,
    "start_time": "2022-02-21T11:37:43.870Z"
   },
   {
    "duration": -81,
    "start_time": "2022-02-21T11:37:43.875Z"
   },
   {
    "duration": -88,
    "start_time": "2022-02-21T11:37:43.882Z"
   },
   {
    "duration": -91,
    "start_time": "2022-02-21T11:37:43.886Z"
   },
   {
    "duration": -94,
    "start_time": "2022-02-21T11:37:43.890Z"
   },
   {
    "duration": -101,
    "start_time": "2022-02-21T11:37:43.898Z"
   },
   {
    "duration": -106,
    "start_time": "2022-02-21T11:37:43.903Z"
   },
   {
    "duration": -109,
    "start_time": "2022-02-21T11:37:43.907Z"
   },
   {
    "duration": -116,
    "start_time": "2022-02-21T11:37:43.915Z"
   },
   {
    "duration": -119,
    "start_time": "2022-02-21T11:37:43.919Z"
   },
   {
    "duration": -122,
    "start_time": "2022-02-21T11:37:43.923Z"
   },
   {
    "duration": -125,
    "start_time": "2022-02-21T11:37:43.927Z"
   },
   {
    "duration": -131,
    "start_time": "2022-02-21T11:37:43.934Z"
   },
   {
    "duration": -135,
    "start_time": "2022-02-21T11:37:43.938Z"
   },
   {
    "duration": -138,
    "start_time": "2022-02-21T11:37:43.942Z"
   },
   {
    "duration": -144,
    "start_time": "2022-02-21T11:37:43.949Z"
   },
   {
    "duration": -148,
    "start_time": "2022-02-21T11:37:43.953Z"
   },
   {
    "duration": -151,
    "start_time": "2022-02-21T11:37:43.957Z"
   },
   {
    "duration": -158,
    "start_time": "2022-02-21T11:37:43.965Z"
   },
   {
    "duration": -161,
    "start_time": "2022-02-21T11:37:43.969Z"
   },
   {
    "duration": -162,
    "start_time": "2022-02-21T11:37:43.971Z"
   },
   {
    "duration": -167,
    "start_time": "2022-02-21T11:37:43.977Z"
   },
   {
    "duration": -172,
    "start_time": "2022-02-21T11:37:43.983Z"
   },
   {
    "duration": -176,
    "start_time": "2022-02-21T11:37:43.987Z"
   },
   {
    "duration": -179,
    "start_time": "2022-02-21T11:37:43.991Z"
   },
   {
    "duration": -185,
    "start_time": "2022-02-21T11:37:43.998Z"
   },
   {
    "duration": -188,
    "start_time": "2022-02-21T11:37:44.002Z"
   },
   {
    "duration": -191,
    "start_time": "2022-02-21T11:37:44.006Z"
   },
   {
    "duration": -196,
    "start_time": "2022-02-21T11:37:44.011Z"
   },
   {
    "duration": -201,
    "start_time": "2022-02-21T11:37:44.017Z"
   },
   {
    "duration": -204,
    "start_time": "2022-02-21T11:37:44.021Z"
   },
   {
    "duration": -206,
    "start_time": "2022-02-21T11:37:44.024Z"
   },
   {
    "duration": -213,
    "start_time": "2022-02-21T11:37:44.032Z"
   },
   {
    "duration": -216,
    "start_time": "2022-02-21T11:37:44.035Z"
   },
   {
    "duration": -220,
    "start_time": "2022-02-21T11:37:44.040Z"
   },
   {
    "duration": -223,
    "start_time": "2022-02-21T11:37:44.044Z"
   },
   {
    "duration": -228,
    "start_time": "2022-02-21T11:37:44.050Z"
   },
   {
    "duration": -231,
    "start_time": "2022-02-21T11:37:44.054Z"
   },
   {
    "duration": -234,
    "start_time": "2022-02-21T11:37:44.058Z"
   },
   {
    "duration": -219,
    "start_time": "2022-02-21T11:37:44.065Z"
   },
   {
    "duration": 319,
    "start_time": "2022-02-21T11:38:03.903Z"
   },
   {
    "duration": 280,
    "start_time": "2022-02-21T11:38:21.463Z"
   },
   {
    "duration": 13,
    "start_time": "2022-02-21T11:39:00.452Z"
   },
   {
    "duration": 30,
    "start_time": "2022-02-21T11:40:13.503Z"
   },
   {
    "duration": 2,
    "start_time": "2022-02-21T11:41:11.773Z"
   },
   {
    "duration": 66,
    "start_time": "2022-02-21T11:41:11.777Z"
   },
   {
    "duration": 10,
    "start_time": "2022-02-21T11:41:11.845Z"
   },
   {
    "duration": 21,
    "start_time": "2022-02-21T11:41:11.857Z"
   },
   {
    "duration": 34,
    "start_time": "2022-02-21T11:41:11.879Z"
   },
   {
    "duration": 36,
    "start_time": "2022-02-21T11:41:11.915Z"
   },
   {
    "duration": 26,
    "start_time": "2022-02-21T11:41:11.953Z"
   },
   {
    "duration": 6,
    "start_time": "2022-02-21T11:41:11.980Z"
   },
   {
    "duration": 24,
    "start_time": "2022-02-21T11:41:11.988Z"
   },
   {
    "duration": 16,
    "start_time": "2022-02-21T11:41:12.014Z"
   },
   {
    "duration": 22,
    "start_time": "2022-02-21T11:41:12.031Z"
   },
   {
    "duration": 27,
    "start_time": "2022-02-21T11:41:12.055Z"
   },
   {
    "duration": 30,
    "start_time": "2022-02-21T11:41:12.083Z"
   },
   {
    "duration": 39,
    "start_time": "2022-02-21T11:41:12.115Z"
   },
   {
    "duration": 6,
    "start_time": "2022-02-21T11:41:12.155Z"
   },
   {
    "duration": 33,
    "start_time": "2022-02-21T11:41:12.162Z"
   },
   {
    "duration": 16,
    "start_time": "2022-02-21T11:41:12.196Z"
   },
   {
    "duration": 11,
    "start_time": "2022-02-21T11:41:12.213Z"
   },
   {
    "duration": 5,
    "start_time": "2022-02-21T11:41:12.227Z"
   },
   {
    "duration": 10,
    "start_time": "2022-02-21T11:41:12.234Z"
   },
   {
    "duration": 10,
    "start_time": "2022-02-21T11:41:12.245Z"
   },
   {
    "duration": 11,
    "start_time": "2022-02-21T11:41:12.256Z"
   },
   {
    "duration": 9,
    "start_time": "2022-02-21T11:41:12.268Z"
   },
   {
    "duration": 6,
    "start_time": "2022-02-21T11:41:12.278Z"
   },
   {
    "duration": 20,
    "start_time": "2022-02-21T11:41:12.286Z"
   },
   {
    "duration": 6,
    "start_time": "2022-02-21T11:41:12.307Z"
   },
   {
    "duration": 5,
    "start_time": "2022-02-21T11:41:12.314Z"
   },
   {
    "duration": 37,
    "start_time": "2022-02-21T11:41:12.321Z"
   },
   {
    "duration": 5,
    "start_time": "2022-02-21T11:41:12.359Z"
   },
   {
    "duration": 5,
    "start_time": "2022-02-21T11:41:12.365Z"
   },
   {
    "duration": 6,
    "start_time": "2022-02-21T11:41:12.371Z"
   },
   {
    "duration": 6,
    "start_time": "2022-02-21T11:41:12.378Z"
   },
   {
    "duration": 4,
    "start_time": "2022-02-21T11:41:12.385Z"
   },
   {
    "duration": 14,
    "start_time": "2022-02-21T11:41:12.390Z"
   },
   {
    "duration": 5,
    "start_time": "2022-02-21T11:41:12.405Z"
   },
   {
    "duration": 35,
    "start_time": "2022-02-21T11:41:12.411Z"
   },
   {
    "duration": 7,
    "start_time": "2022-02-21T11:41:12.447Z"
   },
   {
    "duration": 4,
    "start_time": "2022-02-21T11:41:12.455Z"
   },
   {
    "duration": 5,
    "start_time": "2022-02-21T11:41:12.460Z"
   },
   {
    "duration": 8,
    "start_time": "2022-02-21T11:41:12.466Z"
   },
   {
    "duration": 11,
    "start_time": "2022-02-21T11:41:12.475Z"
   },
   {
    "duration": 5,
    "start_time": "2022-02-21T11:41:12.487Z"
   },
   {
    "duration": 5,
    "start_time": "2022-02-21T11:41:12.493Z"
   },
   {
    "duration": 9,
    "start_time": "2022-02-21T11:41:12.499Z"
   },
   {
    "duration": 45,
    "start_time": "2022-02-21T11:41:12.510Z"
   },
   {
    "duration": 28,
    "start_time": "2022-02-21T11:41:12.557Z"
   },
   {
    "duration": 149,
    "start_time": "2022-02-21T11:41:12.587Z"
   },
   {
    "duration": 28,
    "start_time": "2022-02-21T11:41:12.737Z"
   },
   {
    "duration": 149,
    "start_time": "2022-02-21T11:41:12.766Z"
   },
   {
    "duration": 29,
    "start_time": "2022-02-21T11:41:12.917Z"
   },
   {
    "duration": 130,
    "start_time": "2022-02-21T11:41:12.947Z"
   },
   {
    "duration": 22,
    "start_time": "2022-02-21T11:41:13.078Z"
   },
   {
    "duration": 147,
    "start_time": "2022-02-21T11:41:13.102Z"
   },
   {
    "duration": 8,
    "start_time": "2022-02-21T11:43:01.583Z"
   },
   {
    "duration": 3,
    "start_time": "2022-02-21T11:43:40.500Z"
   },
   {
    "duration": 63,
    "start_time": "2022-02-21T11:43:40.504Z"
   },
   {
    "duration": 10,
    "start_time": "2022-02-21T11:43:40.568Z"
   },
   {
    "duration": 12,
    "start_time": "2022-02-21T11:43:40.580Z"
   },
   {
    "duration": 27,
    "start_time": "2022-02-21T11:43:40.593Z"
   },
   {
    "duration": 36,
    "start_time": "2022-02-21T11:43:40.621Z"
   },
   {
    "duration": 32,
    "start_time": "2022-02-21T11:43:40.659Z"
   },
   {
    "duration": 6,
    "start_time": "2022-02-21T11:43:40.693Z"
   },
   {
    "duration": 20,
    "start_time": "2022-02-21T11:43:40.701Z"
   },
   {
    "duration": 7,
    "start_time": "2022-02-21T11:43:40.746Z"
   },
   {
    "duration": 20,
    "start_time": "2022-02-21T11:43:40.754Z"
   },
   {
    "duration": 16,
    "start_time": "2022-02-21T11:43:40.776Z"
   },
   {
    "duration": 10,
    "start_time": "2022-02-21T11:43:40.793Z"
   },
   {
    "duration": 10,
    "start_time": "2022-02-21T11:43:40.804Z"
   },
   {
    "duration": 7,
    "start_time": "2022-02-21T11:43:40.815Z"
   },
   {
    "duration": 13,
    "start_time": "2022-02-21T11:43:40.823Z"
   },
   {
    "duration": 22,
    "start_time": "2022-02-21T11:43:40.837Z"
   },
   {
    "duration": 12,
    "start_time": "2022-02-21T11:43:40.860Z"
   },
   {
    "duration": 5,
    "start_time": "2022-02-21T11:43:40.875Z"
   },
   {
    "duration": 13,
    "start_time": "2022-02-21T11:43:40.882Z"
   },
   {
    "duration": 16,
    "start_time": "2022-02-21T11:43:40.896Z"
   },
   {
    "duration": 10,
    "start_time": "2022-02-21T11:43:40.914Z"
   },
   {
    "duration": 25,
    "start_time": "2022-02-21T11:43:40.926Z"
   },
   {
    "duration": 6,
    "start_time": "2022-02-21T11:43:40.953Z"
   },
   {
    "duration": 6,
    "start_time": "2022-02-21T11:43:40.960Z"
   },
   {
    "duration": 8,
    "start_time": "2022-02-21T11:43:40.967Z"
   },
   {
    "duration": 4,
    "start_time": "2022-02-21T11:43:40.976Z"
   },
   {
    "duration": 14,
    "start_time": "2022-02-21T11:43:40.981Z"
   },
   {
    "duration": 4,
    "start_time": "2022-02-21T11:43:40.997Z"
   },
   {
    "duration": 7,
    "start_time": "2022-02-21T11:43:41.003Z"
   },
   {
    "duration": 35,
    "start_time": "2022-02-21T11:43:41.012Z"
   },
   {
    "duration": 4,
    "start_time": "2022-02-21T11:43:41.048Z"
   },
   {
    "duration": 7,
    "start_time": "2022-02-21T11:43:41.054Z"
   },
   {
    "duration": 11,
    "start_time": "2022-02-21T11:43:41.062Z"
   },
   {
    "duration": 5,
    "start_time": "2022-02-21T11:43:41.075Z"
   },
   {
    "duration": 6,
    "start_time": "2022-02-21T11:43:41.081Z"
   },
   {
    "duration": 8,
    "start_time": "2022-02-21T11:43:41.088Z"
   },
   {
    "duration": 4,
    "start_time": "2022-02-21T11:43:41.097Z"
   },
   {
    "duration": 6,
    "start_time": "2022-02-21T11:43:41.102Z"
   },
   {
    "duration": 43,
    "start_time": "2022-02-21T11:43:41.109Z"
   },
   {
    "duration": 9,
    "start_time": "2022-02-21T11:43:41.154Z"
   },
   {
    "duration": 14,
    "start_time": "2022-02-21T11:43:41.165Z"
   },
   {
    "duration": 8,
    "start_time": "2022-02-21T11:43:41.180Z"
   },
   {
    "duration": 16,
    "start_time": "2022-02-21T11:43:41.189Z"
   },
   {
    "duration": 11,
    "start_time": "2022-02-21T11:43:41.207Z"
   },
   {
    "duration": 42,
    "start_time": "2022-02-21T11:43:41.220Z"
   },
   {
    "duration": 136,
    "start_time": "2022-02-21T11:43:41.263Z"
   },
   {
    "duration": 22,
    "start_time": "2022-02-21T11:43:41.400Z"
   },
   {
    "duration": 148,
    "start_time": "2022-02-21T11:43:41.424Z"
   },
   {
    "duration": 20,
    "start_time": "2022-02-21T11:43:41.573Z"
   },
   {
    "duration": 189,
    "start_time": "2022-02-21T11:43:41.595Z"
   },
   {
    "duration": 21,
    "start_time": "2022-02-21T11:43:41.786Z"
   },
   {
    "duration": 145,
    "start_time": "2022-02-21T11:43:41.809Z"
   },
   {
    "duration": 1124,
    "start_time": "2022-02-21T11:43:53.315Z"
   },
   {
    "duration": 49,
    "start_time": "2022-02-21T11:43:54.440Z"
   },
   {
    "duration": 13,
    "start_time": "2022-02-21T11:43:54.491Z"
   },
   {
    "duration": 12,
    "start_time": "2022-02-21T11:43:54.506Z"
   },
   {
    "duration": 32,
    "start_time": "2022-02-21T11:43:54.520Z"
   },
   {
    "duration": 13,
    "start_time": "2022-02-21T11:43:54.554Z"
   },
   {
    "duration": 28,
    "start_time": "2022-02-21T11:43:54.568Z"
   },
   {
    "duration": 7,
    "start_time": "2022-02-21T11:43:54.599Z"
   },
   {
    "duration": 46,
    "start_time": "2022-02-21T11:43:54.608Z"
   },
   {
    "duration": 6,
    "start_time": "2022-02-21T11:43:54.655Z"
   },
   {
    "duration": 15,
    "start_time": "2022-02-21T11:43:54.662Z"
   },
   {
    "duration": 8,
    "start_time": "2022-02-21T11:43:54.678Z"
   },
   {
    "duration": 7,
    "start_time": "2022-02-21T11:43:54.688Z"
   },
   {
    "duration": 8,
    "start_time": "2022-02-21T11:43:54.696Z"
   },
   {
    "duration": 5,
    "start_time": "2022-02-21T11:43:54.706Z"
   },
   {
    "duration": 34,
    "start_time": "2022-02-21T11:43:54.712Z"
   },
   {
    "duration": 19,
    "start_time": "2022-02-21T11:43:54.747Z"
   },
   {
    "duration": 11,
    "start_time": "2022-02-21T11:43:54.767Z"
   },
   {
    "duration": 5,
    "start_time": "2022-02-21T11:43:54.780Z"
   },
   {
    "duration": 11,
    "start_time": "2022-02-21T11:43:54.786Z"
   },
   {
    "duration": 12,
    "start_time": "2022-02-21T11:43:54.798Z"
   },
   {
    "duration": 9,
    "start_time": "2022-02-21T11:43:54.811Z"
   },
   {
    "duration": 28,
    "start_time": "2022-02-21T11:43:54.823Z"
   },
   {
    "duration": 7,
    "start_time": "2022-02-21T11:43:54.853Z"
   },
   {
    "duration": 5,
    "start_time": "2022-02-21T11:43:54.862Z"
   },
   {
    "duration": 8,
    "start_time": "2022-02-21T11:43:54.868Z"
   },
   {
    "duration": 4,
    "start_time": "2022-02-21T11:43:54.877Z"
   },
   {
    "duration": 14,
    "start_time": "2022-02-21T11:43:54.882Z"
   },
   {
    "duration": 4,
    "start_time": "2022-02-21T11:43:54.897Z"
   },
   {
    "duration": 6,
    "start_time": "2022-02-21T11:43:54.902Z"
   },
   {
    "duration": 37,
    "start_time": "2022-02-21T11:43:54.910Z"
   },
   {
    "duration": 17,
    "start_time": "2022-02-21T11:43:54.949Z"
   },
   {
    "duration": 8,
    "start_time": "2022-02-21T11:43:54.967Z"
   },
   {
    "duration": 29,
    "start_time": "2022-02-21T11:43:54.976Z"
   },
   {
    "duration": 16,
    "start_time": "2022-02-21T11:43:55.006Z"
   },
   {
    "duration": 25,
    "start_time": "2022-02-21T11:43:55.023Z"
   },
   {
    "duration": 51,
    "start_time": "2022-02-21T11:43:55.050Z"
   },
   {
    "duration": 8,
    "start_time": "2022-02-21T11:43:55.103Z"
   },
   {
    "duration": 18,
    "start_time": "2022-02-21T11:43:55.112Z"
   },
   {
    "duration": 33,
    "start_time": "2022-02-21T11:43:55.131Z"
   },
   {
    "duration": 37,
    "start_time": "2022-02-21T11:43:55.165Z"
   },
   {
    "duration": 13,
    "start_time": "2022-02-21T11:43:55.203Z"
   },
   {
    "duration": 34,
    "start_time": "2022-02-21T11:43:55.217Z"
   },
   {
    "duration": 46,
    "start_time": "2022-02-21T11:43:55.252Z"
   },
   {
    "duration": 25,
    "start_time": "2022-02-21T11:43:55.299Z"
   },
   {
    "duration": 48,
    "start_time": "2022-02-21T11:43:55.326Z"
   },
   {
    "duration": 145,
    "start_time": "2022-02-21T11:43:55.375Z"
   },
   {
    "duration": 26,
    "start_time": "2022-02-21T11:43:55.521Z"
   },
   {
    "duration": 143,
    "start_time": "2022-02-21T11:43:55.549Z"
   },
   {
    "duration": 20,
    "start_time": "2022-02-21T11:43:55.694Z"
   },
   {
    "duration": 143,
    "start_time": "2022-02-21T11:43:55.715Z"
   },
   {
    "duration": 23,
    "start_time": "2022-02-21T11:43:55.860Z"
   },
   {
    "duration": 146,
    "start_time": "2022-02-21T11:43:55.884Z"
   }
  ],
  "kernelspec": {
   "display_name": "Python 3 (ipykernel)",
   "language": "python",
   "name": "python3"
  },
  "language_info": {
   "codemirror_mode": {
    "name": "ipython",
    "version": 3
   },
   "file_extension": ".py",
   "mimetype": "text/x-python",
   "name": "python",
   "nbconvert_exporter": "python",
   "pygments_lexer": "ipython3",
   "version": "3.9.7"
  },
  "toc": {
   "base_numbering": 1,
   "nav_menu": {
    "height": "305px",
    "width": "287.2px"
   },
   "number_sections": true,
   "sideBar": true,
   "skip_h1_title": true,
   "title_cell": "Table of Contents",
   "title_sidebar": "Contents",
   "toc_cell": false,
   "toc_position": {
    "height": "calc(100% - 180px)",
    "left": "10px",
    "top": "150px",
    "width": "314.267px"
   },
   "toc_section_display": true,
   "toc_window_display": true
  }
 },
 "nbformat": 4,
 "nbformat_minor": 5
}
